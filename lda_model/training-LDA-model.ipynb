{
 "cells": [
  {
   "cell_type": "code",
   "execution_count": 17,
   "metadata": {},
   "outputs": [],
   "source": [
    "import pandas as pd\n",
    "from gensim.corpora import *\n",
    "import gensim\n",
    "from sklearn.feature_extraction.text import TfidfVectorizer\n",
    "import numpy as np\n",
    "from gensim.models import CoherenceModel\n",
    "from tqdm.auto import tqdm"
   ]
  },
  {
   "cell_type": "code",
   "execution_count": 18,
   "metadata": {},
   "outputs": [
    {
     "data": {
      "text/plain": [
       "1     Kindergarten | Fictional Character | Internet ...\n",
       "2     Internet Media | Internet Media | Society | Ed...\n",
       "6     Cars | Youth Organization | Society | Animatio...\n",
       "8     Internet Media | Fashion, Clothing, Shoes | In...\n",
       "10    Internet Media | Fictional Character | Humor |...\n",
       "16    City Community | Internet Media | Internet Med...\n",
       "23    Discussion Сlub | Humor | Internet Media | Gam...\n",
       "27    Internet Media | Humor | Humor | Humor | Video...\n",
       "33    Internet Media | Show, Program | Healthy Lifes...\n",
       "43    Internet Media | Humor | Internet Media | Crea...\n",
       "Name: activity, dtype: object"
      ]
     },
     "execution_count": 18,
     "metadata": {},
     "output_type": "execute_result"
    }
   ],
   "source": [
    "df = pd.read_csv(\"capitalization.csv\")\n",
    "df = df[df.n_mean_caps > 0]\n",
    "df = df[~df.activity.isna()] \n",
    "df.activity[:10]"
   ]
  },
  {
   "cell_type": "code",
   "execution_count": 67,
   "metadata": {},
   "outputs": [],
   "source": [
    "activities = df.activity.values.tolist()\n",
    "activities = [i.split(\" | \") for i in activities]"
   ]
  },
  {
   "cell_type": "code",
   "execution_count": 20,
   "metadata": {
    "scrolled": true
   },
   "outputs": [
    {
     "data": {
      "text/plain": [
       "['Kindergarten',\n",
       " 'Fictional Character',\n",
       " 'Internet Media',\n",
       " 'Philosophy',\n",
       " 'Humor']"
      ]
     },
     "execution_count": 20,
     "metadata": {},
     "output_type": "execute_result"
    }
   ],
   "source": [
    "activities[0][:5]"
   ]
  },
  {
   "cell_type": "markdown",
   "metadata": {},
   "source": [
    "# LDA model"
   ]
  },
  {
   "cell_type": "code",
   "execution_count": 21,
   "metadata": {},
   "outputs": [],
   "source": [
    "dictionary = Dictionary(activities)\n",
    "corpus = [dictionary.doc2bow(act) for act in activities]"
   ]
  },
  {
   "cell_type": "code",
   "execution_count": 22,
   "metadata": {},
   "outputs": [],
   "source": [
    "n_topics = [7,8,9,10,11,12,13,14,15]"
   ]
  },
  {
   "cell_type": "code",
   "execution_count": 25,
   "metadata": {},
   "outputs": [
    {
     "data": {
      "application/vnd.jupyter.widget-view+json": {
       "model_id": "c2a97b12a8f545fe80d87e322cae71f1",
       "version_major": 2,
       "version_minor": 0
      },
      "text/plain": [
       "HBox(children=(IntProgress(value=0, max=6), HTML(value='')))"
      ]
     },
     "metadata": {},
     "output_type": "display_data"
    },
    {
     "name": "stdout",
     "output_type": "stream",
     "text": [
      "7 0.2976986931172914\n",
      "8 0.30160144965037694\n",
      "9 0.2956830818619501\n",
      "10 0.30263046793503945\n",
      "11 0.3118603297373\n",
      "12 0.2971247314758559\n"
     ]
    }
   ],
   "source": [
    "cohs = {}\n",
    "\n",
    "for n in tqdm(n_topics):\n",
    "    \n",
    "    lda_train = gensim.models.ldamulticore.LdaMulticore(\n",
    "                corpus=corpus,\n",
    "                id2word=dictionary,\n",
    "                num_topics = n,\n",
    "                chunksize=100,\n",
    "                workers = 3,\n",
    "                eval_every = 1,\n",
    "                per_word_topics=True)\n",
    "    \n",
    "    coherence_model_lda = CoherenceModel(model=lda_train, \n",
    "                                        texts=activities, \n",
    "                                        dictionary=dictionary, \n",
    "                                        coherence='c_v')\n",
    "    \n",
    "    coherence_lda = coherence_model_lda.get_coherence()\n",
    "    cohs[n] = coherence_lda\n",
    "    print(str(n), cohs[n])\n",
    "    lda_train.save(\"lda_train_{}.model\".format(str(n)))"
   ]
  },
  {
   "cell_type": "code",
   "execution_count": 29,
   "metadata": {},
   "outputs": [],
   "source": [
    "n_topics = [13,14,15]"
   ]
  },
  {
   "cell_type": "code",
   "execution_count": 30,
   "metadata": {},
   "outputs": [
    {
     "data": {
      "application/vnd.jupyter.widget-view+json": {
       "model_id": "95e61ee69a6044bebd9adf5fd9db4cfe",
       "version_major": 2,
       "version_minor": 0
      },
      "text/plain": [
       "HBox(children=(IntProgress(value=0, max=3), HTML(value='')))"
      ]
     },
     "metadata": {},
     "output_type": "display_data"
    },
    {
     "name": "stdout",
     "output_type": "stream",
     "text": [
      "13 0.30693996647968436\n",
      "14 0.3060249535047446\n",
      "15 0.2978738042804672\n"
     ]
    }
   ],
   "source": [
    "for n in tqdm(n_topics):\n",
    "    \n",
    "    lda_train = gensim.models.ldamulticore.LdaMulticore(\n",
    "                corpus=corpus,\n",
    "                id2word=dictionary,\n",
    "                num_topics = n,\n",
    "                chunksize=100,\n",
    "                workers = 3,\n",
    "                eval_every = 1,\n",
    "                per_word_topics=True)\n",
    "    \n",
    "    coherence_model_lda = CoherenceModel(model=lda_train, \n",
    "                                        texts=activities, \n",
    "                                        dictionary=dictionary, \n",
    "                                        coherence='c_v')\n",
    "    \n",
    "    coherence_lda = coherence_model_lda.get_coherence()\n",
    "    cohs[n] = coherence_lda\n",
    "    print(str(n), cohs[n])\n",
    "    lda_train.save(\"lda_train_{}.model\".format(str(n)))"
   ]
  },
  {
   "cell_type": "code",
   "execution_count": 59,
   "metadata": {
    "scrolled": true
   },
   "outputs": [
    {
     "data": {
      "text/plain": [
       "{7: 0.2976986931172914,\n",
       " 8: 0.30160144965037694,\n",
       " 9: 0.2956830818619501,\n",
       " 10: 0.30263046793503945,\n",
       " 11: 0.3118603297373,\n",
       " 12: 0.2971247314758559,\n",
       " 13: 0.30693996647968436,\n",
       " 14: 0.3060249535047446,\n",
       " 15: 0.2978738042804672}"
      ]
     },
     "execution_count": 59,
     "metadata": {},
     "output_type": "execute_result"
    }
   ],
   "source": [
    "cohs"
   ]
  },
  {
   "cell_type": "markdown",
   "metadata": {},
   "source": [
    "Choose n = 11"
   ]
  },
  {
   "cell_type": "code",
   "execution_count": 32,
   "metadata": {},
   "outputs": [
    {
     "data": {
      "text/plain": [
       "0.363537623154878"
      ]
     },
     "execution_count": 32,
     "metadata": {},
     "output_type": "execute_result"
    }
   ],
   "source": [
    "lda_train = gensim.models.ldamulticore.LdaMulticore(\n",
    "                corpus=corpus,\n",
    "                id2word=dictionary,\n",
    "                num_topics = 11,\n",
    "                chunksize=100,\n",
    "                workers = 3,\n",
    "                eval_every = 1,\n",
    "                per_word_topics=True, \n",
    "                passes = 50)\n",
    "    \n",
    "coherence_model_lda = CoherenceModel(model=lda_train, \n",
    "                                        texts=activities, \n",
    "                                        dictionary=dictionary, \n",
    "                                        coherence='c_v')\n",
    "    \n",
    "coherence_model_lda.get_coherence()"
   ]
  },
  {
   "cell_type": "code",
   "execution_count": 33,
   "metadata": {},
   "outputs": [],
   "source": [
    "lda_train.save(\"lda_final.model\")"
   ]
  },
  {
   "cell_type": "code",
   "execution_count": null,
   "metadata": {},
   "outputs": [],
   "source": []
  },
  {
   "cell_type": "code",
   "execution_count": 60,
   "metadata": {},
   "outputs": [
    {
     "data": {
      "text/plain": [
       "[(0,\n",
       "  '0.252*\"Football\" + 0.134*\"Sports Organization\" + 0.070*\"Sport\" + 0.060*\"Martial Arts\" + 0.058*\"Football Team\" + 0.047*\"Movies\" + 0.036*\"Athlete\" + 0.028*\"Fitness\" + 0.027*\"TV Channel\" + 0.025*\"Internet Media\" + 0.023*\"Show, Program\" + 0.020*\"Sports Club\" + 0.019*\"Business\" + 0.015*\"City Community\" + 0.012*\"Hockey\"'),\n",
       " (1,\n",
       "  '0.626*\"Humor\" + 0.022*\"Youth Organization\" + 0.021*\"Movies\" + 0.020*\"Education\" + 0.018*\"Show, Program\" + 0.018*\"Science\" + 0.016*\"Photography\" + 0.015*\"Animation\" + 0.014*\"Creative Work\" + 0.012*\"Open group\" + 0.012*\"Literature\" + 0.011*\"Animals\" + 0.010*\"Discussion Сlub\" + 0.009*\"Society\" + 0.009*\"Public page\"'),\n",
       " (2,\n",
       "  '0.152*\"Education\" + 0.108*\"Science\" + 0.088*\"Humor\" + 0.071*\"Movies\" + 0.063*\"Tourism, Travel\" + 0.045*\"Business\" + 0.034*\"History\" + 0.027*\"Society\" + 0.027*\"Philosophy\" + 0.025*\"Public page\" + 0.024*\"Photography\" + 0.024*\"Literature\" + 0.021*\"Creative Work\" + 0.018*\"Internet Media\" + 0.012*\"City Community\"'),\n",
       " (3,\n",
       "  '0.134*\"Food, Recipes\" + 0.078*\"Personal Care\" + 0.055*\"Healthy Lifestyle\" + 0.052*\"Humor\" + 0.052*\"Creative Work\" + 0.050*\"Gender Relations\" + 0.044*\"Literature\" + 0.043*\"Parents & Children\" + 0.036*\"Fashion, Clothing, Shoes\" + 0.035*\"Astrology, Esoterics\" + 0.033*\"Interior Design\" + 0.027*\"Public page\" + 0.027*\"City Community\" + 0.024*\"Philosophy\" + 0.023*\"Education\"'),\n",
       " (4,\n",
       "  '0.223*\"Cars\" + 0.124*\"Repair, Construction\" + 0.068*\"Car Owners\" + 0.039*\"City Community\" + 0.031*\"Active Recreation\" + 0.030*\"Science\" + 0.026*\"Humor\" + 0.025*\"Tourism, Travel\" + 0.025*\"Society\" + 0.024*\"Auto Goods\" + 0.019*\"Motorcycling\" + 0.017*\"Products, Stores\" + 0.016*\"Classifieds\" + 0.016*\"Business\" + 0.013*\"Internet Media\"'),\n",
       " (5,\n",
       "  '0.108*\"City Community\" + 0.081*\"Business\" + 0.064*\"Classifieds\" + 0.046*\"Job Search\" + 0.030*\"Internet Media\" + 0.027*\"Products, Stores\" + 0.022*\"Clothing, Shoes\" + 0.020*\"Tourism, Travel\" + 0.017*\"Real Estate\" + 0.015*\"Training Courses\" + 0.014*\"Advertising\" + 0.014*\"Finance\" + 0.012*\"Café, Restaurant\" + 0.012*\"Food Delivery\" + 0.012*\"Websites\"'),\n",
       " (6,\n",
       "  '0.196*\"Creative Work\" + 0.098*\"Photography\" + 0.053*\"Culture\" + 0.042*\"Literature\" + 0.039*\"Animals\" + 0.037*\"Artist\" + 0.032*\"Design\" + 0.028*\"Fashion, Clothing, Shoes\" + 0.028*\"Movies\" + 0.025*\"Animation\" + 0.020*\"Education\" + 0.018*\"Fan Club\" + 0.015*\"Museum, Gallery, Exhibition\" + 0.013*\"Cultural Center\" + 0.013*\"Religion\"'),\n",
       " (7,\n",
       "  '0.197*\"Internet Media\" + 0.099*\"City Community\" + 0.072*\"Education\" + 0.054*\"Politics\" + 0.047*\"History\" + 0.039*\"Discussion Сlub\" + 0.038*\"Society\" + 0.025*\"Tourism, Travel\" + 0.023*\"Country\" + 0.021*\"Mass media\" + 0.021*\"Culture\" + 0.020*\"Government Organization\" + 0.020*\"Religion\" + 0.017*\"Military Arts\" + 0.017*\"Public Organization\"'),\n",
       " (8,\n",
       "  '0.287*\"Public page\" + 0.040*\"Website\" + 0.034*\"Art and entertainment\" + 0.028*\"Mass media\" + 0.027*\"Open group\" + 0.021*\"Entertainment\" + 0.018*\"Erotic\" + 0.015*\"Group of artists\" + 0.015*\"Dating\" + 0.013*\"Websites\" + 0.013*\"Internet store\" + 0.012*\"Show\" + 0.012*\"Gender Relations\" + 0.011*\"Album\" + 0.011*\"Movies\"'),\n",
       " (9,\n",
       "  '0.218*\"Video Games\" + 0.135*\"Games\" + 0.061*\"Humor\" + 0.047*\"Video Game\" + 0.028*\"Streamer\" + 0.025*\"Animation\" + 0.023*\"Internet Media\" + 0.023*\"Blogger\" + 0.019*\"Creative Work\" + 0.018*\"Movies\" + 0.018*\"Technology, Electronics\" + 0.017*\"Programming\" + 0.017*\"Online Game\" + 0.017*\"Esports Organization\" + 0.016*\"Science\"'),\n",
       " (10,\n",
       "  '0.137*\"Musician\" + 0.104*\"Music\" + 0.076*\"Band\" + 0.065*\"Electronic Music\" + 0.060*\"Rap, Hip-Hop\" + 0.047*\"Internet Media\" + 0.039*\"Music Sharing\" + 0.036*\"Rock\" + 0.024*\"Show, Program\" + 0.024*\"Clothing, Shoes\" + 0.022*\"Movies\" + 0.016*\"Culture\" + 0.015*\"Heavy Metal\" + 0.014*\"Fashion, Clothing, Shoes\" + 0.014*\"Humor\"')]"
      ]
     },
     "execution_count": 60,
     "metadata": {},
     "output_type": "execute_result"
    }
   ],
   "source": [
    "lda_train.print_topics(11,num_words=15)"
   ]
  },
  {
   "cell_type": "code",
   "execution_count": 62,
   "metadata": {},
   "outputs": [
    {
     "name": "stderr",
     "output_type": "stream",
     "text": [
      "/Library/Frameworks/Python.framework/Versions/3.7/lib/python3.7/site-packages/pyLDAvis/_prepare.py:257: FutureWarning: Sorting because non-concatenation axis is not aligned. A future version\n",
      "of pandas will change to not sort by default.\n",
      "\n",
      "To accept the future behavior, pass 'sort=False'.\n",
      "\n",
      "To retain the current behavior and silence the warning, pass 'sort=True'.\n",
      "\n",
      "  return pd.concat([default_term_info] + list(topic_dfs))\n"
     ]
    },
    {
     "data": {
      "text/html": [
       "\n",
       "<link rel=\"stylesheet\" type=\"text/css\" href=\"https://cdn.rawgit.com/bmabey/pyLDAvis/files/ldavis.v1.0.0.css\">\n",
       "\n",
       "\n",
       "<div id=\"ldavis_el4313848266197203377938972\"></div>\n",
       "<script type=\"text/javascript\">\n",
       "\n",
       "var ldavis_el4313848266197203377938972_data = {\"mdsDat\": {\"x\": [-0.15535190528242238, -0.06709929559079876, -0.16978087553700605, -0.11318842754991806, 0.13763519609133648, 0.0341239955598611, -0.08821568881002488, -0.029568014259457837, -0.01450941077303791, 0.11715264363213337, 0.34880178251933547], \"y\": [-0.005703625075400889, -0.11720181670707071, 0.09598024869348064, -0.13465816825986188, -0.08968768706571638, -0.10517606624187625, 0.10653326081449446, 0.2635471410185898, 0.057395764103754826, -0.22031230183551317, 0.14928325055512004], \"topics\": [1, 2, 3, 4, 5, 6, 7, 8, 9, 10, 11], \"cluster\": [1, 1, 1, 1, 1, 1, 1, 1, 1, 1, 1], \"Freq\": [25.77271842956543, 13.795343399047852, 11.730900764465332, 9.245983123779297, 6.966160774230957, 6.86406135559082, 6.7000017166137695, 5.9643120765686035, 5.658896446228027, 5.089327812194824, 2.212299346923828]}, \"tinfo\": {\"Category\": [\"Default\", \"Default\", \"Default\", \"Default\", \"Default\", \"Default\", \"Default\", \"Default\", \"Default\", \"Default\", \"Default\", \"Default\", \"Default\", \"Default\", \"Default\", \"Default\", \"Default\", \"Default\", \"Default\", \"Default\", \"Default\", \"Default\", \"Default\", \"Default\", \"Default\", \"Default\", \"Default\", \"Default\", \"Default\", \"Default\", \"Topic1\", \"Topic1\", \"Topic1\", \"Topic1\", \"Topic1\", \"Topic1\", \"Topic1\", \"Topic1\", \"Topic1\", \"Topic1\", \"Topic1\", \"Topic1\", \"Topic1\", \"Topic1\", \"Topic1\", \"Topic1\", \"Topic1\", \"Topic1\", \"Topic1\", \"Topic1\", \"Topic1\", \"Topic1\", \"Topic1\", \"Topic1\", \"Topic1\", \"Topic1\", \"Topic1\", \"Topic1\", \"Topic1\", \"Topic1\", \"Topic1\", \"Topic1\", \"Topic1\", \"Topic1\", \"Topic1\", \"Topic1\", \"Topic1\", \"Topic1\", \"Topic1\", \"Topic1\", \"Topic1\", \"Topic1\", \"Topic1\", \"Topic1\", \"Topic1\", \"Topic1\", \"Topic1\", \"Topic1\", \"Topic1\", \"Topic1\", \"Topic1\", \"Topic1\", \"Topic1\", \"Topic1\", \"Topic2\", \"Topic2\", \"Topic2\", \"Topic2\", \"Topic2\", \"Topic2\", \"Topic2\", \"Topic2\", \"Topic2\", \"Topic2\", \"Topic2\", \"Topic2\", \"Topic2\", \"Topic2\", \"Topic2\", \"Topic2\", \"Topic2\", \"Topic2\", \"Topic2\", \"Topic2\", \"Topic2\", \"Topic2\", \"Topic2\", \"Topic2\", \"Topic2\", \"Topic2\", \"Topic2\", \"Topic2\", \"Topic2\", \"Topic2\", \"Topic2\", \"Topic2\", \"Topic2\", \"Topic2\", \"Topic2\", \"Topic2\", \"Topic2\", \"Topic2\", \"Topic2\", \"Topic2\", \"Topic2\", \"Topic2\", \"Topic2\", \"Topic2\", \"Topic2\", \"Topic2\", \"Topic2\", \"Topic2\", \"Topic2\", \"Topic2\", \"Topic2\", \"Topic2\", \"Topic2\", \"Topic3\", \"Topic3\", \"Topic3\", \"Topic3\", \"Topic3\", \"Topic3\", \"Topic3\", \"Topic3\", \"Topic3\", \"Topic3\", \"Topic3\", \"Topic3\", \"Topic3\", \"Topic3\", \"Topic3\", \"Topic3\", \"Topic3\", \"Topic3\", \"Topic3\", \"Topic3\", \"Topic3\", \"Topic3\", \"Topic3\", \"Topic3\", \"Topic3\", \"Topic3\", \"Topic3\", \"Topic3\", \"Topic3\", \"Topic3\", \"Topic3\", \"Topic3\", \"Topic3\", \"Topic3\", \"Topic3\", \"Topic3\", \"Topic3\", \"Topic3\", \"Topic3\", \"Topic3\", \"Topic3\", \"Topic3\", \"Topic3\", \"Topic3\", \"Topic3\", \"Topic3\", \"Topic3\", \"Topic3\", \"Topic3\", \"Topic3\", \"Topic3\", \"Topic3\", \"Topic3\", \"Topic4\", \"Topic4\", \"Topic4\", \"Topic4\", \"Topic4\", \"Topic4\", \"Topic4\", \"Topic4\", \"Topic4\", \"Topic4\", \"Topic4\", \"Topic4\", \"Topic4\", \"Topic4\", \"Topic4\", \"Topic4\", \"Topic4\", \"Topic4\", \"Topic4\", \"Topic4\", \"Topic4\", \"Topic4\", \"Topic4\", \"Topic4\", \"Topic4\", \"Topic4\", \"Topic4\", \"Topic4\", \"Topic4\", \"Topic4\", \"Topic4\", \"Topic4\", \"Topic4\", \"Topic4\", \"Topic4\", \"Topic4\", \"Topic4\", \"Topic4\", \"Topic4\", \"Topic4\", \"Topic4\", \"Topic4\", \"Topic4\", \"Topic4\", \"Topic4\", \"Topic4\", \"Topic5\", \"Topic5\", \"Topic5\", \"Topic5\", \"Topic5\", \"Topic5\", \"Topic5\", \"Topic5\", \"Topic5\", \"Topic5\", \"Topic5\", \"Topic5\", \"Topic5\", \"Topic5\", \"Topic5\", \"Topic5\", \"Topic5\", \"Topic5\", \"Topic5\", \"Topic5\", \"Topic5\", \"Topic5\", \"Topic5\", \"Topic5\", \"Topic5\", \"Topic5\", \"Topic5\", \"Topic5\", \"Topic5\", \"Topic5\", \"Topic5\", \"Topic5\", \"Topic5\", \"Topic5\", \"Topic5\", \"Topic5\", \"Topic5\", \"Topic5\", \"Topic5\", \"Topic5\", \"Topic5\", \"Topic5\", \"Topic5\", \"Topic5\", \"Topic5\", \"Topic5\", \"Topic5\", \"Topic5\", \"Topic5\", \"Topic5\", \"Topic5\", \"Topic5\", \"Topic5\", \"Topic5\", \"Topic5\", \"Topic5\", \"Topic5\", \"Topic5\", \"Topic5\", \"Topic5\", \"Topic5\", \"Topic5\", \"Topic5\", \"Topic5\", \"Topic5\", \"Topic6\", \"Topic6\", \"Topic6\", \"Topic6\", \"Topic6\", \"Topic6\", \"Topic6\", \"Topic6\", \"Topic6\", \"Topic6\", \"Topic6\", \"Topic6\", \"Topic6\", \"Topic6\", \"Topic6\", \"Topic6\", \"Topic6\", \"Topic6\", \"Topic6\", \"Topic6\", \"Topic6\", \"Topic6\", \"Topic6\", \"Topic6\", \"Topic6\", \"Topic6\", \"Topic6\", \"Topic6\", \"Topic6\", \"Topic6\", \"Topic6\", \"Topic6\", \"Topic6\", \"Topic6\", \"Topic6\", \"Topic6\", \"Topic6\", \"Topic6\", \"Topic6\", \"Topic6\", \"Topic6\", \"Topic6\", \"Topic6\", \"Topic6\", \"Topic6\", \"Topic6\", \"Topic7\", \"Topic7\", \"Topic7\", \"Topic7\", \"Topic7\", \"Topic7\", \"Topic7\", \"Topic7\", \"Topic7\", \"Topic7\", \"Topic7\", \"Topic7\", \"Topic7\", \"Topic7\", \"Topic7\", \"Topic7\", \"Topic7\", \"Topic7\", \"Topic7\", \"Topic7\", \"Topic7\", \"Topic7\", \"Topic7\", \"Topic7\", \"Topic7\", \"Topic7\", \"Topic7\", \"Topic7\", \"Topic7\", \"Topic7\", \"Topic7\", \"Topic7\", \"Topic7\", \"Topic7\", \"Topic7\", \"Topic7\", \"Topic7\", \"Topic7\", \"Topic7\", \"Topic7\", \"Topic7\", \"Topic7\", \"Topic7\", \"Topic7\", \"Topic7\", \"Topic7\", \"Topic7\", \"Topic8\", \"Topic8\", \"Topic8\", \"Topic8\", \"Topic8\", \"Topic8\", \"Topic8\", \"Topic8\", \"Topic8\", \"Topic8\", \"Topic8\", \"Topic8\", \"Topic8\", \"Topic8\", \"Topic8\", \"Topic8\", \"Topic8\", \"Topic8\", \"Topic8\", \"Topic8\", \"Topic8\", \"Topic8\", \"Topic8\", \"Topic8\", \"Topic8\", \"Topic8\", \"Topic8\", \"Topic8\", \"Topic8\", \"Topic8\", \"Topic8\", \"Topic8\", \"Topic8\", \"Topic8\", \"Topic8\", \"Topic8\", \"Topic8\", \"Topic8\", \"Topic8\", \"Topic8\", \"Topic8\", \"Topic8\", \"Topic8\", \"Topic8\", \"Topic8\", \"Topic8\", \"Topic8\", \"Topic8\", \"Topic8\", \"Topic9\", \"Topic9\", \"Topic9\", \"Topic9\", \"Topic9\", \"Topic9\", \"Topic9\", \"Topic9\", \"Topic9\", \"Topic9\", \"Topic9\", \"Topic9\", \"Topic9\", \"Topic9\", \"Topic9\", \"Topic9\", \"Topic9\", \"Topic9\", \"Topic9\", \"Topic9\", \"Topic9\", \"Topic9\", \"Topic9\", \"Topic9\", \"Topic9\", \"Topic9\", \"Topic9\", \"Topic9\", \"Topic9\", \"Topic9\", \"Topic9\", \"Topic9\", \"Topic9\", \"Topic9\", \"Topic9\", \"Topic9\", \"Topic9\", \"Topic9\", \"Topic9\", \"Topic9\", \"Topic9\", \"Topic9\", \"Topic9\", \"Topic9\", \"Topic9\", \"Topic9\", \"Topic9\", \"Topic9\", \"Topic9\", \"Topic9\", \"Topic9\", \"Topic9\", \"Topic9\", \"Topic9\", \"Topic9\", \"Topic9\", \"Topic9\", \"Topic9\", \"Topic9\", \"Topic9\", \"Topic9\", \"Topic9\", \"Topic9\", \"Topic9\", \"Topic9\", \"Topic9\", \"Topic9\", \"Topic9\", \"Topic9\", \"Topic10\", \"Topic10\", \"Topic10\", \"Topic10\", \"Topic10\", \"Topic10\", \"Topic10\", \"Topic10\", \"Topic10\", \"Topic10\", \"Topic10\", \"Topic10\", \"Topic10\", \"Topic10\", \"Topic10\", \"Topic10\", \"Topic10\", \"Topic10\", \"Topic10\", \"Topic10\", \"Topic10\", \"Topic10\", \"Topic10\", \"Topic10\", \"Topic10\", \"Topic10\", \"Topic10\", \"Topic10\", \"Topic10\", \"Topic10\", \"Topic10\", \"Topic10\", \"Topic10\", \"Topic10\", \"Topic10\", \"Topic10\", \"Topic10\", \"Topic10\", \"Topic10\", \"Topic10\", \"Topic10\", \"Topic10\", \"Topic10\", \"Topic10\", \"Topic10\", \"Topic10\", \"Topic10\", \"Topic10\", \"Topic10\", \"Topic10\", \"Topic10\", \"Topic10\", \"Topic11\", \"Topic11\", \"Topic11\", \"Topic11\", \"Topic11\", \"Topic11\", \"Topic11\", \"Topic11\", \"Topic11\", \"Topic11\", \"Topic11\", \"Topic11\", \"Topic11\", \"Topic11\", \"Topic11\", \"Topic11\", \"Topic11\", \"Topic11\", \"Topic11\", \"Topic11\", \"Topic11\", \"Topic11\", \"Topic11\", \"Topic11\", \"Topic11\", \"Topic11\", \"Topic11\", \"Topic11\", \"Topic11\", \"Topic11\", \"Topic11\", \"Topic11\", \"Topic11\", \"Topic11\", \"Topic11\", \"Topic11\", \"Topic11\", \"Topic11\", \"Topic11\", \"Topic11\", \"Topic11\", \"Topic11\", \"Topic11\", \"Topic11\"], \"Freq\": [339480.0, 47820.0, 26709.0, 21423.0, 67010.0, 48285.0, 19991.0, 27664.0, 41683.0, 68693.0, 16416.0, 10167.0, 41817.0, 17253.0, 26812.0, 14992.0, 18706.0, 38151.0, 8769.0, 44125.0, 10826.0, 17966.0, 28331.0, 13423.0, 14502.0, 7455.0, 29066.0, 6654.0, 7579.0, 20575.0, 40.48031234741211, 171.05345153808594, 294688.84375, 4.600772380828857, 216.75100708007812, 170.20179748535156, 2190.840087890625, 170.87290954589844, 1527.3477783203125, 10247.01953125, 4127.09521484375, 129.74050903320312, 150.2404327392578, 28.782583236694336, 95.35682678222656, 13.466047286987305, 7129.74267578125, 60.97593688964844, 433.91387939453125, 1422.1036376953125, 3275.676513671875, 8489.0087890625, 5677.81591796875, 353.64410400390625, 252.6234130859375, 36.168975830078125, 22.08641242980957, 1440.004638671875, 1933.819091796875, 16.121213912963867, 2279.52197265625, 4612.54443359375, 1098.0701904296875, 375.59039306640625, 5210.166015625, 3992.4873046875, 10036.9580078125, 1218.3028564453125, 8446.0869140625, 7469.09228515625, 3793.212646484375, 5611.7841796875, 2100.94677734375, 9555.1494140625, 4322.66162109375, 1411.0006103515625, 3050.685302734375, 6565.9833984375, 4205.1826171875, 3511.8544921875, 3020.070068359375, 2016.8262939453125, 1746.11181640625, 1509.5853271484375, 27230.158203125, 15890.69921875, 38317.59375, 2396.93359375, 25.411638259887695, 8579.8134765625, 1689.4124755859375, 22.139596939086914, 11459.326171875, 17978.2109375, 810.4686279296875, 6677.99658203125, 1193.2178955078125, 38.718509674072266, 40.840370178222656, 127.02318572998047, 112.33776092529297, 487.0, 450.3196716308594, 2888.7607421875, 45.70004653930664, 6704.80859375, 37.16558837890625, 23.87297248840332, 286.33355712890625, 8.037115097045898, 1486.5384521484375, 83.8974609375, 1221.404052734375, 35.317142486572266, 1716.8812255859375, 1328.8828125, 1368.3262939453125, 5945.0654296875, 2079.970947265625, 2254.729248046875, 1067.3427734375, 1327.070068359375, 5958.4921875, 761.106201171875, 6309.12451171875, 2253.528076171875, 757.38232421875, 2522.41748046875, 22093.298828125, 2637.844482421875, 4487.20263671875, 5292.013671875, 2553.623779296875, 2972.978515625, 2056.374755859375, 1579.40625, 1754.721923828125, 23.127559661865234, 8023.515625, 45.00336837768555, 3142.847412109375, 1194.2196044921875, 641.391357421875, 92.75731658935547, 1472.9749755859375, 41928.6171875, 291.50701904296875, 6881.96142578125, 590.671142578125, 482.1123962402344, 290.1562194824219, 11399.6640625, 21040.181640625, 491.7391357421875, 1216.88525390625, 49.40331268310547, 2158.664306640625, 375.04144287109375, 473.92535400390625, 226.5022430419922, 516.1477661132812, 2699.08642578125, 70.0594482421875, 135.63525390625, 28.557689666748047, 251.30862426757812, 381.81427001953125, 2225.858642578125, 3889.912353515625, 8335.2470703125, 2734.795654296875, 5964.9814453125, 5378.30615234375, 8920.634765625, 1482.3248291015625, 1541.52880859375, 2312.8857421875, 1011.25, 2624.2392578125, 2256.404052734375, 5938.5234375, 918.8671264648438, 1600.3690185546875, 2417.16796875, 4275.7509765625, 2449.111328125, 1993.8116455078125, 1540.1812744140625, 1497.2518310546875, 1500.4493408203125, 50.57403564453125, 26.78278160095215, 7246.486328125, 13248.7607421875, 1132.4935302734375, 3391.85009765625, 22575.095703125, 9247.869140625, 263.88775634765625, 244.4036407470703, 5901.33740234375, 8373.4404296875, 5614.70751953125, 2552.220703125, 51.93315124511719, 1468.2457275390625, 507.330322265625, 6080.2373046875, 59.79694747924805, 297.84881591796875, 264.83648681640625, 797.3765869140625, 75.48995971679688, 1914.64111328125, 163.23570251464844, 317.47259521484375, 39.98995590209961, 13.52230167388916, 7495.6533203125, 64.61775970458984, 4055.5009765625, 1591.1883544921875, 908.8658447265625, 3201.42431640625, 8744.791015625, 3562.53515625, 2725.88720703125, 4491.4619140625, 4513.6572265625, 3817.011474609375, 8829.47265625, 1333.5780029296875, 1689.735107421875, 1327.35693359375, 968.8905029296875, 867.9762573242188, 133.24285888671875, 54.340797424316406, 44.04409408569336, 30.9566650390625, 1175.823974609375, 11.243080139160156, 218.96456909179688, 25.41107940673828, 47.06174087524414, 1795.5035400390625, 81.78644561767578, 5837.78369140625, 106.94104766845703, 121.76449584960938, 129.6051483154297, 43.7715950012207, 307.561279296875, 452.1870422363281, 68.83663177490234, 81.87964630126953, 217.06492614746094, 147.5137481689453, 2208.01416015625, 24.90224838256836, 606.2450561523438, 91.26150512695312, 448.9532165527344, 73.02266693115234, 160.96380615234375, 68.53162384033203, 296.4493103027344, 1507.8392333984375, 345.3685302734375, 8091.3515625, 530.611328125, 1238.7645263671875, 370.5422668457031, 1337.452392578125, 725.907470703125, 1533.4521484375, 1857.0128173828125, 10245.0556640625, 857.6463623046875, 999.7513427734375, 13691.544921875, 1741.0750732421875, 1244.4127197265625, 1243.7508544921875, 3417.386962890625, 1076.2884521484375, 1284.2823486328125, 2743.29150390625, 721.1019897460938, 875.0281372070312, 1055.7198486328125, 867.4119262695312, 3786.240478515625, 2512.645263671875, 1065.596435546875, 1474.4644775390625, 1255.2264404296875, 1123.13134765625, 1073.681396484375, 1371.0687255859375, 1000.5376586914062, 933.4127197265625, 232.455322265625, 6745.67724609375, 2529.349853515625, 253.65451049804688, 420.1018371582031, 2157.29345703125, 262.4580383300781, 530.742919921875, 24628.12890625, 2879.9072265625, 1313.5169677734375, 2093.85400390625, 2447.502685546875, 1015.9371948242188, 1709.3165283203125, 399.0691833496094, 697.2552490234375, 740.7534790039062, 2686.808349609375, 4923.57080078125, 885.2330322265625, 27.048370361328125, 5845.10791015625, 221.22508239746094, 24.436174392700195, 14.599021911621094, 12466.716796875, 205.2366943359375, 910.679931640625, 538.0716552734375, 702.9680786132812, 1335.58837890625, 4714.029296875, 890.9310913085938, 9039.615234375, 1729.03271484375, 2588.632568359375, 3114.531494140625, 1963.802490234375, 1320.4248046875, 898.2717895507812, 1210.0887451171875, 982.7145385742188, 970.7116088867188, 1147.43798828125, 26708.505859375, 2063.046142578125, 1455.5758056640625, 861.364990234375, 384.69989013671875, 3480.093994140625, 2098.703369140625, 5734.86865234375, 16542.65234375, 1353.6356201171875, 58.502464294433594, 93.05768585205078, 943.5502319335938, 2105.773681640625, 953.4776000976562, 484.7691955566406, 160.92620849609375, 545.7799682617188, 139.20533752441406, 30.94509506225586, 1864.62841796875, 2809.138916015625, 57.35438537597656, 2143.208984375, 396.2740783691406, 53.6004753112793, 45.14995574951172, 240.17617797851562, 284.485107421875, 991.5607299804688, 748.7966918945312, 3096.893310546875, 1361.98974609375, 760.3532104492188, 328.4121398925781, 1145.920654296875, 1296.8165283203125, 2850.31103515625, 7462.501953125, 1141.198974609375, 1465.6944580078125, 2187.64990234375, 1959.7926025390625, 2360.7197265625, 917.7540283203125, 1043.466064453125, 813.6363525390625, 7080.8994140625, 184.42225646972656, 515.2352294921875, 14875.322265625, 1599.555908203125, 6553.63720703125, 1194.8814697265625, 827.56396484375, 739.2413940429688, 313.58111572265625, 43.62299346923828, 8297.78515625, 583.1590576171875, 192.49021911621094, 1465.3203125, 92.0357437133789, 346.4033508300781, 130.59295654296875, 258.6402587890625, 11310.48828125, 1300.845458984375, 3961.181396484375, 343.6715393066406, 259.2732238769531, 4236.87109375, 19.312406539916992, 156.1136016845703, 262.22796630859375, 358.0248107910156, 57.238121032714844, 358.5221862792969, 2638.08740234375, 804.4048461914062, 5065.15966796875, 2665.1669921875, 1231.67236328125, 756.6488647460938, 1551.3031005859375, 1699.6385498046875, 2344.550048828125, 886.1965942382812, 1263.6611328125, 450.1739196777344, 546.2908935546875, 766.8529052734375, 1513.3624267578125, 857.2268676757812, 582.6017456054688, 584.2518310546875, 164.46444702148438, 109.51256561279297, 95.02348327636719, 74.71981811523438, 70.13569641113281, 55.64735412597656, 42.69752502441406, 42.12140655517578, 41.36583709716797, 41.12739562988281, 39.52528762817383, 34.8126220703125, 29.360727310180664, 28.168779373168945, 20.66584014892578, 20.588130950927734, 108.35742950439453, 73.88236236572266, 7.842982292175293, 210.93614196777344, 45.449092864990234, 55.506874084472656, 37.019737243652344, 28.37505531311035, 105.71670532226562, 158.84774780273438, 679.7264404296875, 104.59746551513672, 36.32461929321289, 640.6104125976562, 1289.64013671875, 362.6455383300781, 29685.873046875, 1078.91748046875, 976.533935546875, 1596.5826416015625, 816.289794921875, 4130.35400390625, 3550.656494140625, 995.6951904296875, 1292.0721435546875, 1172.6695556640625, 281.6263732910156, 434.20611572265625, 839.0991821289062, 2181.641357421875, 2889.330810546875, 1825.834716796875, 564.964111328125, 577.5964965820312, 256.7620544433594, 842.3665161132812, 498.1476745605469, 2788.67919921875, 284.180908203125, 427.53131103515625, 1533.18896484375, 1021.2435302734375, 1339.6817626953125, 735.0311279296875, 835.7528076171875, 1256.5498046875, 950.2711791992188, 947.9808959960938, 1095.734375, 943.1323852539062, 860.1157836914062, 734.5626220703125, 727.7892456054688, 313.46417236328125, 597.6590576171875, 20704.798828125, 6360.734375, 959.8368530273438, 1772.916015625, 2189.6708984375, 5.960422515869141, 63.34522247314453, 374.09381103515625, 246.6776580810547, 165.12051391601562, 11528.4931640625, 230.26766967773438, 488.8524475097656, 274.7266845703125, 167.35513305664062, 353.1082763671875, 77.34529113769531, 154.10743713378906, 2834.192626953125, 58.1473274230957, 804.7079467773438, 108.7411880493164, 271.29254150390625, 461.760498046875, 59.58203125, 129.33497619628906, 7.847727298736572, 686.9954223632812, 804.0574340820312, 1592.689453125, 872.3656005859375, 1249.6939697265625, 1044.490966796875, 571.8898315429688, 3656.4765625, 2287.92724609375, 1527.092041015625, 2353.7734375, 2751.207763671875, 1113.6123046875, 1452.4398193359375, 1234.7861328125, 898.56494140625, 2397.031982421875, 1250.2144775390625, 937.7327270507812, 721.4546508789062, 841.5662841796875, 763.0252075195312, 773.1337890625, 10166.7060546875, 2348.2705078125, 502.01458740234375, 375.80316162109375, 114.9204330444336, 50.975120544433594, 1469.291015625, 125.36085510253906, 135.84190368652344, 2405.8818359375, 5399.1962890625, 794.7093505859375, 349.3713073730469, 12.66211223602295, 2824.8837890625, 142.8590850830078, 125.03514862060547, 194.86447143554688, 57.40288162231445, 99.96458435058594, 215.9484405517578, 1141.45751953125, 303.25201416015625, 55.4184684753418, 1099.7025146484375, 164.9358367919922, 62.764347076416016, 10.586055755615234, 323.208984375, 25.516944885253906, 274.2777404785156, 1907.942138671875, 941.4802856445312, 773.927001953125, 1007.5433349609375, 448.3198547363281, 481.85174560546875, 621.15380859375, 267.15362548828125, 220.38742065429688, 259.14501953125, 199.3937225341797, 174.18296813964844, 175.51576232910156], \"Term\": [\"Humor\", \"Public page\", \"Video Games\", \"Cars\", \"Creative Work\", \"Internet Media\", \"Games\", \"Food, Recipes\", \"City Community\", \"Education\", \"Musician\", \"Football\", \"Science\", \"Repair, Construction\", \"Business\", \"Personal Care\", \"Music\", \"Photography\", \"Sports Organization\", \"Movies\", \"Band\", \"History\", \"Tourism, Travel\", \"Classifieds\", \"Gender Relations\", \"Electronic Music\", \"Literature\", \"Car Owners\", \"Rap, Hip-Hop\", \"Culture\", \"Volleyball Team\", \"Pawnshop\", \"Humor\", \"Pharmacy\", \"Adult Merchandise\", \"Lottery, Sweepstake\", \"Comedian\", \"Car Wash\", \"Closed group\", \"Youth Organization\", \"Dating\", \"Car Rental\", \"Security\", \"Accounting & Taxes\", \"Medical Service\", \"Pub\", \"Animation\", \"Graduates\", \"Circus\", \"Friends\", \"VK\", \"Show, Program\", \"Open group\", \"Remembrance\", \"Quest\", \"Hunting\", \"Mobile Network Carrier\", \"Shopping Mall\", \"Entertainment\", \"Notary Public\", \"Fictional Character\", \"Discussion \\u0421lub\", \"Application\", \"Psychology\", \"Animals\", \"Gender Relations\", \"Movies\", \"Theatre\", \"Science\", \"Photography\", \"Philosophy\", \"Literature\", \"Fan Club\", \"Education\", \"Society\", \"Blogger\", \"Games\", \"Creative Work\", \"Public page\", \"City Community\", \"Internet Media\", \"History\", \"Business\", \"Classifieds\", \"Science\", \"Tourism, Travel\", \"Education\", \"Languages\", \"National Park, Nature Reserve\", \"History\", \"Movie Theater\", \"Computers & Hardware\", \"Business\", \"Movies\", \"Educational institution\", \"Philosophy\", \"Movie\", \"Antiques\", \"Tennis\", \"Economics and finance\", \"Track & Field\", \"Library\", \"Bookstore\", \"Astrology, Esoterics\", \"Vocational School\", \"Society\", \"Airline\", \"Grammar School\", \"Classical Music\", \"Studio\", \"Medicine\", \"Travel\", \"Technology, Electronics\", \"Courses\", \"Sport\", \"Country\", \"Active Recreation\", \"Literature\", \"Websites\", \"Interior Design\", \"Book\", \"Art and entertainment\", \"Photography\", \"Programming\", \"Public page\", \"Open group\", \"Training Courses\", \"Repair, Construction\", \"Humor\", \"Culture\", \"Internet Media\", \"Creative Work\", \"Food, Recipes\", \"City Community\", \"Music\", \"Design\", \"Show, Program\", \"Baby Food\", \"Artist\", \"Ice Rink\", \"Museum, Gallery, Exhibition\", \"Accessories, Jewelry\", \"Gallery\", \"Modeling Agency\", \"Photographer\", \"Creative Work\", \"Archive\", \"Design\", \"Role-Playing Games\", \"Model\", \"Products for crafts\", \"Culture\", \"Photography\", \"Tattoo Studio\", \"Community Center\", \"Hunting\", \"Theatre\", \"Kindergarten\", \"Zoo\", \"Veterinary Clinic\", \"Designer\", \"Religion\", \"Dance School\", \"Hospital\", \"Detective agency\", \"Coffee Shop\", \"Pet Supplies\", \"Book\", \"Fan Club\", \"Animals\", \"Cultural Center\", \"Fashion, Clothing, Shoes\", \"Animation\", \"Literature\", \"Style, Fashion\", \"Series\", \"Other Hobbies\", \"Religious Establishment\", \"Clothing, Shoes\", \"Products, Stores\", \"Movies\", \"Photo & Video Capture\", \"Fictional Character\", \"Youth Organization\", \"Education\", \"Tourism, Travel\", \"Music\", \"Philosophy\", \"Show, Program\", \"Public page\", \"Visa Center\", \"Bowling\", \"Parents & Children\", \"Personal Care\", \"Cooking\", \"Gardening\", \"Food, Recipes\", \"Healthy Lifestyle\", \"Country House & Garden Goods\", \"Pregnancy, Childbirth\", \"Astrology, Esoterics\", \"Gender Relations\", \"Interior Design\", \"Fitness\", \"Cosmetology\", \"Friends\", \"Perfume, Cosmetics\", \"Fashion, Clothing, Shoes\", \"Pharmacy, Ophthalmology\", \"Kids Goods\", \"Jewelry\", \"Beauty Salon\", \"Foodservice\", \"Medicine\", \"Diets, Healthy Eating\", \"Psychology\", \"Food & Drink\", \"Consumer services\", \"Literature\", \"Relatives\", \"Philosophy\", \"Other Hobbies\", \"Style, Fashion\", \"Repair, Construction\", \"Creative Work\", \"Society\", \"Animals\", \"City Community\", \"Public page\", \"Education\", \"Humor\", \"Classifieds\", \"Internet Media\", \"Tourism, Travel\", \"Discussion \\u0421lub\", \"Open group\", \"Children's Clothing and Shoes\", \"Insurance Company\", \"Control of assets\", \"Bridal Salon\", \"Consulting, Business Services\", \"Retirement Fund\", \"Taxi\", \"Office Supplies\", \"Bar\", \"Advertising\", \"Hostel\", \"Job Search\", \"Cleaning Services\", \"Dentistry\", \"Health Resort, Holiday Home\", \"Motorsports\", \"Hotel\", \"Event Planning\", \"Market\", \"Mobile Stores\", \"Home Appliances\", \"Tickets, Hotel Reservations\", \"Real Estate\", \"Auto Insurance\", \"Furniture\", \"Day Spa\", \"Party Supplies\", \"Caf\\u00e9\", \"Internet Service Provider\", \"Rental Services\", \"Consumer goods\", \"Food Delivery\", \"Financial Markets\", \"Classifieds\", \"Guided Tours\", \"Entrepreneur\", \"Other Services\", \"Food, Drink\", \"Travel Agency\", \"Caf\\u00e9, Restaurant\", \"Training Courses\", \"Business\", \"Bank, Financial Institution\", \"Design Studio\", \"City Community\", \"Finance\", \"Photo & Video Capture\", \"Household Products\", \"Products, Stores\", \"Beauty Salon\", \"Electronics\", \"Clothing, Shoes\", \"Manufacturing, Industry\", \"Construction & Repair Work\", \"Application\", \"Charity\", \"Internet Media\", \"Tourism, Travel\", \"Software\", \"Websites\", \"Interior Design\", \"VK\", \"Design\", \"Education\", \"Movies\", \"Politician, Civil Servant\", \"Civil servant\", \"Politics\", \"Government Organization\", \"Politician\", \"Political Party\", \"Military Arts\", \"Scientist, Teacher\", \"Travel Information\", \"Internet Media\", \"Country\", \"Journalist\", \"Public Organization\", \"Religion\", \"Colleagues\", \"Public figure\", \"Printed Matter\", \"University\", \"Neighbours\", \"Mass media\", \"Discussion \\u0421lub\", \"Charity\", \"Satellite TV Operator\", \"History\", \"Institute\", \"Payment System\", \"Furniture & Decor\", \"City Community\", \"Legal Services\", \"Writer\", \"Radio Station\", \"Religious Establishment\", \"TV Channel\", \"Society\", \"Blog\", \"Education\", \"Websites\", \"Culture\", \"Tourism, Travel\", \"Animals\", \"Healthy Lifestyle\", \"Medicine\", \"Youth Organization\", \"Show, Program\", \"Science\", \"Humor\", \"Video Games\", \"Esports Organization\", \"Esports\", \"Esports Player\", \"Esports Team\", \"Streamer\", \"Online Game\", \"Video Game\", \"Games\", \"Computers\", \"Latin Music\", \"Roller Skating\", \"Board Games\", \"Programming\", \"Games, Toys\", \"Game\", \"Computer Services\", \"TV Host\", \"Intellectual games\", \"Lyceum\", \"Software\", \"Blogger\", \"Hosting, Domain Registration\", \"Technology, Electronics\", \"Role-Playing Games\", \"Telecommunications\", \"Insurance\", \"Kindergarten\", \"Cartoons\", \"Electronics\", \"Mobile Technology\", \"Animation\", \"Fictional Character\", \"Application\", \"Web Studio\", \"VK\", \"Websites\", \"Internet Media\", \"Humor\", \"Design\", \"Show, Program\", \"Movies\", \"Science\", \"Creative Work\", \"Fan Club\", \"Education\", \"Products, Stores\", \"Electronic Music\", \"Blues\", \"Record label\", \"Musician\", \"Heavy Metal\", \"Rap, Hip-Hop\", \"DJ\", \"Recording Studio\", \"Composer\", \"R&B\", \"Producer\", \"Band\", \"Indie\", \"Recording\", \"Singer\", \"Musical instruments\", \"Jazz\", \"Lyrics, Chords\", \"Concert Hall\", \"Music\", \"Dance Music\", \"Rock\", \"Concert\", \"Movie Director, Producer\", \"Music Sharing\", \"Billiard Room\", \"Equipment\", \"Festival\", \"Bar, Pub\", \"Vocational School\", \"Classical Music\", \"Clothing, Shoes\", \"Journalist\", \"Internet Media\", \"Show, Program\", \"Cultural Center\", \"Style, Fashion\", \"Fashion, Clothing, Shoes\", \"Culture\", \"Movies\", \"Fictional Character\", \"Youth Organization\", \"Radio Station\", \"Series\", \"Philosophy\", \"Humor\", \"Photography\", \"Literature\", \"Public page\", \"Religious Organization\", \"Investments\", \"Fashion\", \"Soccer Team\", \"Transportation services\", \"Travel Firm \", \"Showroom\", \"Namesakes\", \"Actress\", \"Events Planning\", \"Sports\", \"Exhibition Center\", \"Medical services\", \"Bank\", \"Graphic Arts\", \"Holiday Home\", \"Retail\", \"Soccer player\", \"Health Resort\", \"Actor\", \"Recreation Center\", \"Internet Caf\\u00e9\", \"Theater\", \"Delivery Service\", \"Courses\", \"Sports team\", \"Service\", \"Boutique\", \"Consumer services\", \"Club\", \"Show\", \"Publicist\", \"Public page\", \"Spiritual figure\", \"Character\", \"Group of artists\", \"Public Movement\", \"Website\", \"Art and entertainment\", \"Item\", \"Internet store\", \"Album\", \"Amusement Park\", \"Store\", \"Art and culture\", \"Entertainment\", \"Mass media\", \"Erotic\", \"Organization\", \"Company\", \"Professional services\", \"Educational institution\", \"Show Business\", \"Open group\", \"Technology\", \"Game\", \"Dating\", \"Series\", \"Websites\", \"Movie\", \"Book\", \"Gender Relations\", \"Youth Organization\", \"Show, Program\", \"Movies\", \"Society\", \"Music\", \"Classifieds\", \"Photography\", \"Motorcycles and Motor Vehicles\", \"Hunting & Fishing\", \"Cars\", \"Car Owners\", \"Fishing\", \"Motorcycling\", \"Auto Goods\", \"Racing Driver\", \"Auto Service Center \", \"Services for Car Owners\", \"Transport\", \"Auto Racing\", \"Repair, Construction\", \"Car Manufacturer\", \"Auto Service Center\", \"Auto Dealer\", \"Driving School\", \"Construction Materials, Tools\", \"Watches\", \"Freight Transportation\", \"Active Recreation\", \"Sports Supplements\", \"Construction & Repair Work\", \"Equipment\", \"Sporting Goods\", \"Manufacturing, Industry\", \"Water Transportation\", \"Repair Work\", \"Auto Insurance\", \"Military Arts\", \"Erotic\", \"Products, Stores\", \"Technology, Electronics\", \"Sports Organization\", \"Sport\", \"Electronics\", \"City Community\", \"Society\", \"Classifieds\", \"Tourism, Travel\", \"Science\", \"Interior Design\", \"Business\", \"Food, Recipes\", \"Open group\", \"Humor\", \"Internet Media\", \"Photography\", \"History\", \"Movies\", \"Public page\", \"Education\", \"Football\", \"Football Team\", \"Hockey\", \"Basketball\", \"Basketball Team\", \"Boxer\", \"Athlete\", \"Summer Sports\", \"Hockey Team\", \"Martial Arts\", \"Sports Organization\", \"Sports Club\", \"Sports Team\", \"Wrestler\", \"Sport\", \"Sports Complex\", \"Track & Field\", \"Winter Sports\", \"Gambling\", \"Sports Clothing & Footwear\", \"Sporting Goods\", \"Fitness\", \"Extreme Sports\", \"Auto Racing\", \"TV Channel\", \"Sports and beauty\", \"Fitness Center\", \"Satellite TV Operator\", \"Journalist\", \"TV show\", \"Series\", \"Movies\", \"Show, Program\", \"Business\", \"Internet Media\", \"Healthy Lifestyle\", \"Youth Organization\", \"City Community\", \"Fan Club\", \"Clothing, Shoes\", \"Photography\", \"Fashion, Clothing, Shoes\", \"Movie Theater\", \"Rap, Hip-Hop\"], \"Total\": [339480.0, 47820.0, 26709.0, 21423.0, 67010.0, 48285.0, 19991.0, 27664.0, 41683.0, 68693.0, 16416.0, 10167.0, 41817.0, 17253.0, 26812.0, 14992.0, 18706.0, 38151.0, 8769.0, 44125.0, 10826.0, 17966.0, 28331.0, 13423.0, 14502.0, 7455.0, 29066.0, 6654.0, 7579.0, 20575.0, 41.394649505615234, 177.0916290283203, 339480.59375, 5.514837265014648, 273.8359680175781, 262.980224609375, 3453.1376953125, 269.8215637207031, 2532.216552734375, 17089.8203125, 7047.81787109375, 234.51487731933594, 285.348388671875, 61.36763000488281, 206.9042205810547, 29.51480484008789, 15668.4326171875, 138.564453125, 1012.4590454101562, 3333.910888671875, 7699.693359375, 20070.6953125, 13594.7021484375, 854.3539428710938, 621.9714965820312, 91.07079315185547, 59.09940719604492, 3882.7158203125, 5229.966796875, 43.69893264770508, 6353.21484375, 13549.845703125, 3269.653564453125, 1086.014404296875, 19056.44921875, 14502.41015625, 44125.875, 4054.33056640625, 41817.1640625, 38151.17578125, 17549.1015625, 29066.08203125, 8649.56640625, 68693.9140625, 23213.017578125, 6122.85205078125, 19991.388671875, 67010.2265625, 47820.27734375, 41683.7265625, 48285.80859375, 17966.279296875, 26812.1484375, 13423.8359375, 41817.1640625, 28331.275390625, 68693.9140625, 4331.9462890625, 52.498695373535156, 17966.279296875, 3606.008544921875, 49.895843505859375, 26812.1484375, 44125.875, 2049.25439453125, 17549.1015625, 3443.03857421875, 114.41980743408203, 120.77005004882812, 377.8373107910156, 340.07421875, 1579.377197265625, 1476.4334716796875, 9908.8935546875, 157.43670654296875, 23213.017578125, 131.1132049560547, 84.33848571777344, 1024.911865234375, 29.277698516845703, 5834.53271484375, 331.89654541015625, 4893.89501953125, 141.90200805664062, 6959.1494140625, 5693.46337890625, 5949.34228515625, 29066.08203125, 9638.4521484375, 10736.07421875, 4909.89453125, 6320.94775390625, 38151.17578125, 3479.0703125, 47820.27734375, 13594.7021484375, 3508.58642578125, 17253.126953125, 339480.59375, 20575.23828125, 48285.80859375, 67010.2265625, 27664.392578125, 41683.7265625, 18706.234375, 11393.962890625, 20070.6953125, 24.041664123535156, 8819.4697265625, 54.01498031616211, 4279.4609375, 1849.744140625, 997.24755859375, 144.45269775390625, 2338.90234375, 67010.2265625, 469.4368896484375, 11393.962890625, 987.7443237304688, 832.1874389648438, 513.3497314453125, 20575.23828125, 38151.17578125, 897.1889038085938, 2232.519287109375, 91.07079315185547, 4054.33056640625, 719.5497436523438, 934.9617309570312, 450.8139953613281, 1062.58935546875, 5616.51904296875, 146.73533630371094, 287.00286865234375, 60.916473388671875, 548.3728637695312, 836.8782958984375, 4909.89453125, 8649.56640625, 19056.44921875, 6518.69189453125, 15390.58984375, 15668.4326171875, 29066.08203125, 4077.806640625, 4328.42919921875, 7204.521484375, 2600.4794921875, 9779.95703125, 9162.271484375, 44125.875, 2601.37890625, 6353.21484375, 17089.8203125, 68693.9140625, 28331.275390625, 18706.234375, 17549.1015625, 20070.6953125, 47820.27734375, 51.510433197021484, 27.719308853149414, 7894.6767578125, 14992.65234375, 1381.3262939453125, 4141.41845703125, 27664.392578125, 14035.3994140625, 416.03228759765625, 403.6303405761719, 9908.8935546875, 14502.41015625, 10736.07421875, 4928.412109375, 100.32666778564453, 3333.910888671875, 1231.898681640625, 15390.58984375, 161.91624450683594, 806.9500122070312, 767.4213256835938, 2342.86279296875, 226.22500610351562, 5834.53271484375, 522.7249145507812, 1086.014404296875, 137.09251403808594, 50.69459915161133, 29066.08203125, 263.8619079589844, 17549.1015625, 7204.521484375, 4077.806640625, 17253.126953125, 67010.2265625, 23213.017578125, 19056.44921875, 41683.7265625, 47820.27734375, 68693.9140625, 339480.59375, 13423.8359375, 48285.80859375, 28331.275390625, 13549.845703125, 13594.7021484375, 134.18319702148438, 55.28110885620117, 44.98440933227539, 31.89696502685547, 1266.3944091796875, 12.18362045288086, 244.02053833007812, 28.593198776245117, 53.78416061401367, 2057.65283203125, 98.44121551513672, 7168.1328125, 131.84068298339844, 150.8632354736328, 161.12843322753906, 55.439735412597656, 394.4795837402344, 594.0007934570312, 90.454345703125, 107.78673553466797, 289.77496337890625, 197.89218139648438, 2975.97314453125, 33.613922119140625, 818.95703125, 123.52933502197266, 621.8876953125, 101.41819763183594, 224.4383544921875, 95.8813705444336, 418.3586120605469, 2180.652587890625, 503.0397644042969, 13423.8359375, 786.8739013671875, 1934.56396484375, 548.8382568359375, 2265.381103515625, 1160.4056396484375, 2732.876220703125, 3508.58642578125, 26812.1484375, 1530.1431884765625, 1837.124267578125, 41683.7265625, 3778.39794921875, 2601.37890625, 2620.2646484375, 9162.271484375, 2342.86279296875, 3140.875732421875, 9779.95703125, 1544.3594970703125, 2237.102783203125, 3269.653564453125, 2488.81982421875, 48285.80859375, 28331.275390625, 4055.01123046875, 9638.4521484375, 10736.07421875, 7699.693359375, 11393.962890625, 68693.9140625, 44125.875, 1119.805908203125, 284.2214050292969, 8594.927734375, 3623.124267578125, 367.237548828125, 610.014892578125, 3308.12890625, 413.0396728515625, 930.2417602539062, 48285.80859375, 5693.46337890625, 2980.9091796875, 4791.83740234375, 5616.51904296875, 2385.437255859375, 4188.45947265625, 983.7515258789062, 1830.6629638671875, 1981.618408203125, 7370.31103515625, 13549.845703125, 2488.81982421875, 80.80381774902344, 17966.279296875, 699.6324462890625, 78.56395721435547, 47.94200134277344, 41683.7265625, 686.3054809570312, 3270.739013671875, 1935.321533203125, 2600.4794921875, 5162.474609375, 23213.017578125, 3884.304443359375, 68693.9140625, 9638.4521484375, 20575.23828125, 28331.275390625, 19056.44921875, 14035.3994140625, 5834.53271484375, 17089.8203125, 20070.6953125, 41817.1640625, 339480.59375, 26709.416015625, 2063.95654296875, 1456.486328125, 862.2754516601562, 385.61041259765625, 3551.053466796875, 2169.091552734375, 6075.83642578125, 19991.388671875, 1746.27880859375, 90.06837463378906, 145.64120483398438, 1491.7894287109375, 3479.0703125, 1610.26513671875, 928.7781982421875, 313.6356506347656, 1084.8497314453125, 280.46160888671875, 64.95368957519531, 4055.01123046875, 6122.85205078125, 128.6857452392578, 4893.89501953125, 987.7443237304688, 143.2449188232422, 125.11918640136719, 719.5497436523438, 857.3444213867188, 3140.875732421875, 2561.994873046875, 15668.4326171875, 6353.21484375, 3269.653564453125, 1178.9462890625, 7699.693359375, 9638.4521484375, 48285.80859375, 339480.59375, 11393.962890625, 20070.6953125, 44125.875, 41817.1640625, 67010.2265625, 8649.56640625, 68693.9140625, 9162.271484375, 7455.56005859375, 196.61727905273438, 552.227783203125, 16416.07421875, 1849.1536865234375, 7579.5380859375, 1409.6431884765625, 992.73291015625, 891.7095336914062, 384.7081298828125, 55.20402908325195, 10826.4296875, 770.5323486328125, 276.0780944824219, 2173.55419921875, 138.8976593017578, 526.7060546875, 200.0080108642578, 402.7332763671875, 18706.234375, 2199.490478515625, 6916.13623046875, 680.1112060546875, 524.1075439453125, 8887.2890625, 41.563987731933594, 361.66632080078125, 632.4344482421875, 923.8271484375, 157.43670654296875, 1024.911865234375, 9779.95703125, 2980.9091796875, 48285.80859375, 20070.6953125, 6518.69189453125, 4077.806640625, 15390.58984375, 20575.23828125, 44125.875, 6353.21484375, 17089.8203125, 1935.321533203125, 4328.42919921875, 17549.1015625, 339480.59375, 38151.17578125, 29066.08203125, 47820.27734375, 165.4013214111328, 110.44941711425781, 95.96035766601562, 75.65679931640625, 71.07260131835938, 56.5842170715332, 43.63442611694336, 43.05829620361328, 42.302711486816406, 42.06425094604492, 40.46217346191406, 35.749488830566406, 30.297576904296875, 29.10567283630371, 21.602718353271484, 21.525054931640625, 115.12094116210938, 79.37321472167969, 8.779975891113281, 239.57240295410156, 52.09566879272461, 68.9437255859375, 46.36659622192383, 37.916229248046875, 141.90200805664062, 218.1097869873047, 939.0195922851562, 144.9576416015625, 50.69459915161133, 899.3108520507812, 1836.1461181640625, 513.2312622070312, 47820.27734375, 1606.3341064453125, 1467.953857421875, 2571.47802734375, 1253.274658203125, 7368.08447265625, 6320.94775390625, 1625.7154541015625, 2213.185791015625, 2027.441650390625, 404.27008056640625, 674.3977661132812, 1545.532958984375, 5229.966796875, 7370.31103515625, 4220.80859375, 1046.348876953125, 1090.4273681640625, 397.4235534667969, 2049.25439453125, 1050.712158203125, 13594.7021484375, 494.9333801269531, 928.7781982421875, 7047.81787109375, 4328.42919921875, 9638.4521484375, 3443.03857421875, 4909.89453125, 14502.41015625, 17089.8203125, 20070.6953125, 44125.875, 23213.017578125, 18706.234375, 13423.8359375, 38151.17578125, 314.4129943847656, 609.46533203125, 21423.51171875, 6654.31982421875, 1018.404052734375, 1902.8427734375, 2410.842529296875, 6.9097208976745605, 78.74561309814453, 482.7176513671875, 349.03509521484375, 245.70431518554688, 17253.126953125, 354.80267333984375, 789.69970703125, 446.986572265625, 280.638671875, 603.916748046875, 138.17819213867188, 292.95184326171875, 5949.34228515625, 152.28955078125, 2237.102783203125, 361.66632080078125, 904.361328125, 1544.3594970703125, 202.35794067382812, 487.47991943359375, 33.613922119140625, 3308.12890625, 4220.80859375, 9162.271484375, 4893.89501953125, 8769.951171875, 6959.1494140625, 3140.875732421875, 41683.7265625, 23213.017578125, 13423.8359375, 28331.275390625, 41817.1640625, 10736.07421875, 26812.1484375, 27664.392578125, 13594.7021484375, 339480.59375, 48285.80859375, 38151.17578125, 17966.279296875, 44125.875, 47820.27734375, 68693.9140625, 10167.6474609375, 2349.2119140625, 502.9560852050781, 376.7446594238281, 115.86194610595703, 51.91669464111328, 1683.8641357421875, 145.4676513671875, 163.66326904296875, 3525.667724609375, 8769.951171875, 1455.535888671875, 692.0396728515625, 26.859712600708008, 6959.1494140625, 359.3978271484375, 340.07421875, 538.1126708984375, 177.38600158691406, 330.0301818847656, 904.361328125, 4928.412109375, 1329.78271484375, 245.70431518554688, 5162.474609375, 837.9440307617188, 451.90496826171875, 80.80381774902344, 2980.9091796875, 267.799560546875, 4328.42919921875, 44125.875, 20070.6953125, 26812.1484375, 48285.80859375, 14035.3994140625, 17089.8203125, 41683.7265625, 8649.56640625, 9779.95703125, 38151.17578125, 15390.58984375, 3606.008544921875, 7579.5380859375], \"loglift\": [30.0, 29.0, 28.0, 27.0, 26.0, 25.0, 24.0, 23.0, 22.0, 21.0, 20.0, 19.0, 18.0, 17.0, 16.0, 15.0, 14.0, 13.0, 12.0, 11.0, 10.0, 9.0, 8.0, 7.0, 6.0, 5.0, 4.0, 3.0, 2.0, 1.0, 1.3335000276565552, 1.3212000131607056, 1.214400053024292, 1.1746000051498413, 1.1220999956130981, 0.920799970626831, 0.9009000062942505, 0.8989999890327454, 0.8503000140190125, 0.8443999886512756, 0.8206999897956848, 0.7638999819755554, 0.7143999934196472, 0.5986999869346619, 0.5812000036239624, 0.5710999965667725, 0.5684999823570251, 0.5350000262260437, 0.5085999965667725, 0.5037999749183655, 0.5012000203132629, 0.49540001153945923, 0.482699990272522, 0.47380000352859497, 0.45489999651908875, 0.4323999881744385, 0.3716000020503998, 0.36399999260902405, 0.36090001463890076, 0.3587000072002411, 0.33090001344680786, 0.2782999873161316, 0.2646999955177307, 0.29409998655319214, 0.05909999832510948, 0.06599999964237213, -0.12489999830722809, 0.1535000056028366, -0.24369999766349792, -0.27489998936653137, -0.17589999735355377, -0.2888000011444092, -0.059300001710653305, -0.6166999936103821, -0.32499998807907104, -0.11190000176429749, -0.5241000056266785, -0.9671000242233276, -1.0752999782562256, -1.1181000471115112, -1.4160000085830688, -0.8310999870300293, -1.375599980354309, -0.8292999863624573, 1.551900029182434, 1.4026000499725342, 1.3970999717712402, 1.3890000581741333, 1.2553000450134277, 1.2417999505996704, 1.222599983215332, 1.1683000326156616, 1.1308000087738037, 1.0829999446868896, 1.0532000064849854, 1.0147000551223755, 0.9211000204086304, 0.8973000049591064, 0.8966000080108643, 0.8906999826431274, 0.873199999332428, 0.8043000102043152, 0.79339998960495, 0.748199999332428, 0.7439000010490417, 0.7390000224113464, 0.7202000021934509, 0.7186999917030334, 0.7056000232696533, 0.6880999803543091, 0.6134999990463257, 0.6055999994277954, 0.5928999781608582, 0.5900999903678894, 0.5813000202178955, 0.5259000062942505, 0.5110999941825867, 0.3937999904155731, 0.4474000036716461, 0.4203000068664551, 0.454800009727478, 0.41990000009536743, 0.12409999966621399, 0.4611000120639801, -0.044599998742341995, 0.18369999527931213, 0.44769999384880066, 0.05810000002384186, -0.7512999773025513, -0.07329999655485153, -0.3950999975204468, -0.5577999949455261, -0.4018000066280365, -0.6596999764442444, -0.22709999978542328, 0.004800000227987766, -0.4560999870300293, 2.1041998863220215, 2.0483999252319336, 1.9603999853134155, 1.8342000246047974, 1.705399990081787, 1.7015999555587769, 1.7000000476837158, 1.6805000305175781, 1.6741000413894653, 1.6664999723434448, 1.638800024986267, 1.6288000345230103, 1.597100019454956, 1.5723999738693237, 1.55239999294281, 1.5477999448776245, 1.541599988937378, 1.5361000299453735, 1.5312999486923218, 1.5125999450683594, 1.4914000034332275, 1.4635000228881836, 1.4545999765396118, 1.4208999872207642, 1.410099983215332, 1.4036999940872192, 1.393399953842163, 1.3854000568389893, 1.3626999855041504, 1.358199954032898, 1.3517999649047852, 1.3437999486923218, 1.315999984741211, 1.2742999792099, 1.195099949836731, 1.073699951171875, 0.9617000222206116, 1.13100004196167, 1.1104999780654907, 1.006700038909912, 1.1984000205993652, 0.8274000287055969, 0.741599977016449, 0.13740000128746033, 1.1023000478744507, 0.76419997215271, 0.18709999322891235, -0.6338000297546387, -0.3052999973297119, -0.09589999914169312, -0.29019999504089355, -0.4526999890804291, -1.3186999559402466, 2.362600088119507, 2.34660005569458, 2.295300006866455, 2.2572999000549316, 2.1823999881744385, 2.181299924850464, 2.1777000427246094, 1.9637999534606934, 1.9256999492645264, 1.8792999982833862, 1.8626999855041504, 1.8316999673843384, 1.732800006866455, 1.7229000329971313, 1.722499966621399, 1.5608999729156494, 1.4938000440597534, 1.452299952507019, 1.3848999738693237, 1.3842999935150146, 1.3171000480651855, 1.3032000064849854, 1.2834999561309814, 1.266700029373169, 1.2171000242233276, 1.1511000394821167, 1.1490000486373901, 1.059499979019165, 1.0256999731063843, 0.9739999771118164, 0.916100025177002, 0.8708000183105469, 0.8798999786376953, 0.6966000199317932, 0.34459999203681946, 0.5066999793052673, 0.43639999628067017, 0.15299999713897705, 0.020600000396370888, -0.5091999769210815, -1.2683000564575195, 0.07180000096559525, -0.9715999960899353, -0.6797999739646912, -0.25699999928474426, -0.3702999949455261, 2.657099962234497, 2.6470000743865967, 2.6429998874664307, 2.634200096130371, 2.589900016784668, 2.5838000774383545, 2.555799961090088, 2.546099901199341, 2.530600070953369, 2.5278000831604004, 2.478800058364868, 2.4588000774383545, 2.4547998905181885, 2.4498000144958496, 2.4463999271392822, 2.427799940109253, 2.4151999950408936, 2.3912999629974365, 2.3910000324249268, 2.38919997215271, 2.375200033187866, 2.370300054550171, 2.365600109100342, 2.3640999794006348, 2.3633999824523926, 2.3613998889923096, 2.3382999897003174, 2.335599899291992, 2.331700086593628, 2.3282999992370605, 2.3196001052856445, 2.2952001094818115, 2.2880001068115234, 2.157900094985962, 2.2701001167297363, 2.2183001041412354, 2.2713000774383545, 2.1370999813079834, 2.194999933242798, 2.0862998962402344, 2.027899980545044, 1.7020000219345093, 2.085200071334839, 2.0557000637054443, 1.5507999658584595, 1.889299988746643, 1.9266999959945679, 1.9190000295639038, 1.677899956703186, 1.886299967765808, 1.7697999477386475, 1.392899990081787, 1.902500033378601, 1.7253999710083008, 1.5335999727249146, 1.6101000308990479, 0.11829999834299088, 0.24150000512599945, 1.3277000188827515, 0.7865999937057495, 0.517799973487854, 0.7390000224113464, 0.3021000027656555, -1.25, -1.1224000453948975, 2.496799945831299, 2.477799892425537, 2.4365999698638916, 2.319499969482422, 2.308799982070923, 2.3059000968933105, 2.251300096511841, 2.225399971008301, 2.1177000999450684, 2.0055999755859375, 1.9973000288009644, 1.8594000339508057, 1.8509999513626099, 1.8481999635696411, 1.8252999782562256, 1.7826000452041626, 1.7766000032424927, 1.7136000394821167, 1.6949000358581543, 1.669800043106079, 1.6664999723434448, 1.6452000141143799, 1.5844999551773071, 1.555999994277954, 1.527500033378601, 1.5110000371932983, 1.489799976348877, 1.4717999696731567, 1.4716999530792236, 1.4003000259399414, 1.398800015449524, 1.3707000017166138, 1.326799988746643, 1.0846999883651733, 1.2064000368118286, 0.6507999897003174, 0.9606999754905701, 0.60589998960495, 0.47099998593330383, 0.40630000829696655, 0.31520000100135803, 0.8077999949455261, 0.031099999323487282, -0.337799996137619, -1.0842000246047974, -3.010999917984009, 2.703000068664551, 2.7026000022888184, 2.702399969100952, 2.7019999027252197, 2.700700044631958, 2.6828999519348145, 2.670099973678589, 2.6452999114990234, 2.513700008392334, 2.4484000205993652, 2.2716000080108643, 2.2551000118255615, 2.244999885559082, 2.2009999752044678, 2.178999900817871, 2.0529000759124756, 2.035799980163574, 2.0160999298095703, 2.0025999546051025, 1.9615999460220337, 1.926200032234192, 1.9239000082015991, 1.8948999643325806, 1.8774000406265259, 1.7897000312805176, 1.7201000452041626, 1.6837999820709229, 1.6058000326156616, 1.5999000072479248, 1.5500999689102173, 1.4730000495910645, 1.0817999839782715, 1.1629999876022339, 1.2444000244140625, 1.4249999523162842, 0.7980999946594238, 0.6972000002861023, -0.1265999972820282, -1.1145000457763672, 0.40209999680519104, 0.08609999716281891, -0.3012000024318695, -0.35740000009536743, -0.642799973487854, 0.45969998836517334, -1.4840999841690063, 0.2816999852657318, 2.7678000926971436, 2.7553000450134277, 2.75, 2.7207999229431152, 2.6744000911712646, 2.6738998889923096, 2.654099941253662, 2.637399911880493, 2.6319000720977783, 2.6149001121520996, 2.583899974822998, 2.5534000396728516, 2.540800094604492, 2.458699941635132, 2.425100088119507, 2.4077999591827393, 2.4003000259399414, 2.3931000232696533, 2.376499891281128, 2.316200017929077, 2.2941999435424805, 2.2620999813079834, 2.1368000507354736, 2.115600109100342, 2.0785999298095703, 2.0529000759124756, 1.979200005531311, 1.9390000104904175, 1.871500015258789, 1.8076000213623047, 1.7690000534057617, 1.5090999603271484, 1.5095000267028809, 0.5645999908447266, 0.8004000186920166, 1.1531000137329102, 1.1349999904632568, 0.5246999859809875, 0.3257000148296356, -0.11559999734163284, 0.8496000170707703, 0.21490000188350677, 1.3609999418258667, 0.7495999932289124, -0.3111000061035156, -2.5936999320983887, -0.9761999845504761, -1.090399980545044, -1.5855000019073486, 2.866300106048584, 2.8633999824523926, 2.8620998859405518, 2.859499931335449, 2.8587000370025635, 2.8552000522613525, 2.8501999378204346, 2.849900007247925, 2.8494999408721924, 2.849400043487549, 2.8485000133514404, 2.845400094985962, 2.8405001163482666, 2.839200019836426, 2.8276000022888184, 2.827399969100952, 2.8113999366760254, 2.800299882888794, 2.7590999603271484, 2.7446000576019287, 2.7355000972747803, 2.6552000045776367, 2.6468000411987305, 2.5820999145507812, 2.5776000022888184, 2.5548999309539795, 2.548799991607666, 2.545599937438965, 2.538599967956543, 2.5327000617980957, 2.5185999870300293, 2.524600028991699, 2.39520001411438, 2.473900079727173, 2.4642999172210693, 2.3952999114990234, 2.44320011138916, 2.293100118637085, 2.2952001094818115, 2.381700038909912, 2.3338000774383545, 2.324399948120117, 2.5104000568389893, 2.4316000938415527, 2.2611000537872314, 1.9975999593734741, 1.9355000257492065, 2.0339999198913574, 2.2555999755859375, 2.2365000247955322, 2.4351000785827637, 1.9829000234603882, 2.1256000995635986, 1.2877999544143677, 2.3171000480651855, 2.096100091934204, 1.34660005569458, 1.4278000593185425, 0.8985999822616577, 1.3277000188827515, 1.1013000011444092, 0.4259999990463257, -0.017500000074505806, -0.18070000410079956, -0.8237000107765198, -0.3312999904155731, -0.20759999752044678, -0.03359999880194664, -1.087399959564209, 2.9749999046325684, 2.9584999084472656, 2.9439001083374023, 2.9328999519348145, 2.918800115585327, 2.9072999954223633, 2.8817999362945557, 2.830199956893921, 2.7604000568389893, 2.723099946975708, 2.6308999061584473, 2.5806000232696533, 2.574899911880493, 2.5457000732421875, 2.4983999729156494, 2.491300106048584, 2.4611001014709473, 2.4414000511169434, 2.3977999687194824, 2.335700035095215, 2.2365000247955322, 2.015199899673462, 1.9556000232696533, 1.7762999534606934, 1.7740000486373901, 1.7706999778747559, 1.7553000450134277, 1.6512000560760498, 1.523300051689148, 1.4062000513076782, 1.3199000358581543, 1.2283999919891357, 1.253499984741211, 1.0296000242233276, 1.0815000534057617, 1.2747000455856323, 0.5443999767303467, 0.6610000133514404, 0.8044000267982483, 0.4900999963283539, 0.25679999589920044, 0.7120000123977661, 0.06239999830722809, -0.13120000064373016, 0.2614000141620636, -1.9752000570297241, -0.6758000254631042, -0.7278000116348267, -0.2370000034570694, -0.9815000295639038, -1.1598999500274658, -1.5089000463485718, 3.811000108718872, 3.810699939727783, 3.809299945831299, 3.8085999488830566, 3.802999973297119, 3.792799949645996, 3.674799919128418, 3.662400007247925, 3.624799966812134, 3.428999900817871, 3.3261001110076904, 3.2060000896453857, 3.1275999546051025, 3.0590999126434326, 2.9094998836517334, 2.8886001110076904, 2.8106000423431396, 2.7953999042510986, 2.6828999519348145, 2.61680006980896, 2.3789000511169434, 2.348400115966797, 2.332900047302246, 2.321899890899658, 2.2648000717163086, 2.185699939727783, 1.8371000289916992, 1.7786999940872192, 1.5894999504089355, 1.4601999521255493, 1.052299976348877, 0.6700999736785889, 0.7516000270843506, 0.26600000262260437, -0.05849999934434891, 0.36730000376701355, 0.24250000715255737, -0.3950999975204468, 0.3337000012397766, 0.018400000408291817, -1.180799961090088, -0.535099983215332, 0.7809000015258789, 0.04569999873638153], \"logprob\": [30.0, 29.0, 28.0, 27.0, 26.0, 25.0, 24.0, 23.0, 22.0, 21.0, 20.0, 19.0, 18.0, 17.0, 16.0, 15.0, 14.0, 13.0, 12.0, 11.0, 10.0, 9.0, 8.0, 7.0, 6.0, 5.0, 4.0, 3.0, 2.0, 1.0, -9.360899925231934, -7.9197001457214355, -0.46799999475479126, -11.535499572753906, -7.6828999519348145, -7.924699783325195, -5.36959981918335, -7.92080020904541, -5.730400085449219, -3.826900005340576, -4.736400127410889, -8.196100234985352, -8.049400329589844, -9.701899528503418, -8.50409984588623, -10.46150016784668, -4.189700126647949, -8.951199531555176, -6.988800048828125, -5.801799774169922, -4.967400074005127, -4.015200138092041, -4.417399883270264, -7.193399906158447, -7.529799938201904, -9.47350025177002, -9.966699600219727, -5.789299964904785, -5.4944000244140625, -10.281499862670898, -5.329999923706055, -4.625100135803223, -6.060400009155273, -7.133200168609619, -4.503300189971924, -4.769499778747559, -3.8477001190185547, -5.956500053405762, -4.020199775695801, -4.143199920654297, -4.820700168609619, -4.429100036621094, -5.411499977111816, -3.8968000411987305, -4.690100193023682, -5.809599876403809, -5.038599967956543, -4.271999835968018, -4.717599868774414, -4.897799968719482, -5.048600196838379, -5.452400207519531, -5.596499919891357, -5.742099761962891, -2.224600076675415, -2.763200044631958, -1.8830000162124634, -4.654799938201904, -9.201499938964844, -3.379499912261963, -5.0046000480651855, -9.339300155639648, -3.090100049972534, -2.6398000717163086, -5.739099979400635, -3.6301000118255615, -5.35230016708374, -8.780400276184082, -8.72700023651123, -7.592299938201904, -7.715199947357178, -6.2484002113342285, -6.326700210571289, -4.468100070953369, -8.61460018157959, -3.6261000633239746, -8.82129955291748, -9.263999938964844, -6.7795000076293945, -10.35260009765625, -5.132500171661377, -8.007100105285645, -5.32889986038208, -8.872300148010254, -4.988399982452393, -5.24459981918335, -5.215400218963623, -3.7464001178741455, -4.796599864959717, -4.71589994430542, -5.463799953460693, -5.245999813079834, -3.7441000938415527, -5.8018999099731445, -3.6868999004364014, -4.716400146484375, -5.80679988861084, -4.603700160980225, -2.4337000846862793, -4.559000015258789, -4.027699947357178, -3.8626999855041504, -4.591400146484375, -4.4394001960754395, -4.808000087738037, -5.071899890899658, -4.966599941253662, -9.133600234985352, -3.2844998836517334, -8.467900276184082, -4.221700191497803, -5.189300060272217, -5.810999870300293, -7.74459981918335, -4.979599952697754, -1.6309000253677368, -6.5995001792907715, -3.4379000663757324, -5.8933000564575195, -6.096399784088135, -6.6041998863220215, -2.933300018310547, -2.3203999996185303, -6.076600074768066, -5.170499801635742, -8.374600410461426, -4.597300052642822, -6.347599983215332, -6.113500118255615, -6.851799964904785, -6.028200149536133, -4.373899936676025, -8.025300025939941, -7.36460018157959, -8.922699928283691, -6.747900009155273, -6.329699993133545, -4.566699981689453, -4.008500099182129, -3.246299982070923, -4.360799789428711, -3.580899953842163, -3.684499979019165, -3.178499937057495, -4.973199844360352, -4.934100151062012, -4.528299808502197, -5.3557000160217285, -4.4019999504089355, -4.553100109100342, -3.585400104522705, -5.451499938964844, -4.896599769592285, -4.4842000007629395, -3.9138998985290527, -4.471099853515625, -4.676799774169922, -4.934899806976318, -4.963200092315674, -4.961100101470947, -8.113100051879883, -8.748800277709961, -3.1482999324798584, -2.5448999404907227, -5.00439977645874, -3.907399892807007, -2.01200008392334, -2.904400110244751, -6.460999965667725, -6.537700176239014, -3.353600025177002, -3.003700017929077, -3.40339994430542, -4.191800117492676, -8.086600303649902, -4.744699954986572, -5.807400226593018, -3.3238000869750977, -7.9456000328063965, -6.340000152587891, -6.457399845123291, -5.355199813842773, -7.712600231170654, -4.479300022125244, -6.941400051116943, -6.276199817657471, -8.347900390625, -9.43220043182373, -3.114500045776367, -7.868100166320801, -3.7286999225616455, -4.664299964904785, -5.224400043487549, -3.9651999473571777, -2.9602999687194824, -3.858299970626831, -4.125999927520752, -3.6266000270843506, -3.6217000484466553, -3.789299964904785, -2.950700044631958, -4.84089994430542, -4.6041998863220215, -4.845600128173828, -5.160399913787842, -5.270400047302246, -6.861299991607666, -7.758200168609619, -7.968200206756592, -8.320799827575684, -4.683700084686279, -9.333700180053711, -6.364500045776367, -8.518199920654297, -7.9019999504089355, -4.26039981842041, -7.349299907684326, -3.0813000202178955, -7.081200122833252, -6.951300144195557, -6.888899803161621, -7.974400043487549, -6.024799823760986, -5.6392998695373535, -7.521699905395508, -7.348199844360352, -6.373199939727783, -6.759500026702881, -4.053599834442139, -8.53849983215332, -5.346099853515625, -7.239699840545654, -5.646500110626221, -7.462699890136719, -6.672299861907959, -7.526100158691406, -6.061600208282471, -4.434999942779541, -5.90880012512207, -2.7548999786376953, -5.479400157928467, -4.6315999031066895, -5.838500022888184, -4.554900169372559, -5.165999889373779, -4.4182000160217285, -4.2266998291015625, -2.518899917602539, -4.999199867248535, -4.845900058746338, -2.2288999557495117, -4.291200160980225, -4.626999855041504, -4.627500057220459, -3.61680006980896, -4.772200107574463, -4.5954999923706055, -3.8364999294281006, -5.172699928283691, -4.9791998863220215, -4.791500091552734, -4.9878997802734375, -3.5143001079559326, -3.924299955368042, -4.782100200653076, -4.457399845123291, -4.6184000968933105, -4.729599952697754, -4.774600028991699, -4.530099868774414, -4.845099925994873, -4.899799823760986, -6.289999961853027, -2.921999931335449, -3.9030001163482666, -6.202700138092041, -5.698200225830078, -4.062099933624268, -6.168600082397461, -5.464399814605713, -1.6269999742507935, -3.773200035095215, -4.558199882507324, -4.091899871826172, -3.935800075531006, -4.815100193023682, -4.2947998046875, -5.749499797821045, -5.191500186920166, -5.13100004196167, -3.842600107192993, -3.2369000911712646, -4.9527997970581055, -8.440999984741211, -3.0652999877929688, -6.3394999504089355, -8.54259967803955, -9.057700157165527, -2.307800054550171, -6.4145002365112305, -4.924499988555908, -5.450699806213379, -5.1834001541137695, -4.541500091552734, -3.280400037765503, -4.946400165557861, -2.629300117492676, -4.283400058746338, -3.8798000812530518, -3.6947999000549316, -4.156000137329102, -4.552999973297119, -4.938199996948242, -4.640200138092041, -4.848299980163574, -4.860599994659424, -4.693399906158447, -1.5217000246047974, -4.082499980926514, -4.431300163269043, -4.955999851226807, -5.76200008392334, -3.5597000122070312, -4.065400123596191, -3.0601999759674072, -2.0007998943328857, -4.503900051116943, -7.645400047302246, -7.181300163269043, -4.864799976348877, -4.061999797821045, -4.854400157928467, -5.530799865722656, -6.633500099182129, -5.412300109863281, -6.778500080108643, -8.282299995422363, -4.183700084686279, -3.7737998962402344, -7.665200233459473, -4.044400215148926, -5.732399940490723, -7.732900142669678, -7.9045000076293945, -6.233099937438965, -6.063799858093262, -4.815199851989746, -5.0960001945495605, -3.676300048828125, -4.497799873352051, -5.080699920654297, -5.920199871063232, -4.670499801635742, -4.546800136566162, -3.7592999935150146, -2.796799898147583, -4.674600124359131, -4.4243998527526855, -4.023900032043457, -4.133900165557861, -3.9477999210357666, -4.892499923706055, -4.764200210571289, -5.013000011444092, -2.7330000400543213, -6.380899906158447, -5.353499889373779, -1.9907000064849854, -4.220699787139893, -2.8104000091552734, -4.512400150299072, -4.879700183868408, -4.992499828338623, -5.850100040435791, -7.8225998878479, -2.574399948120117, -5.229700088500977, -6.338099956512451, -4.308300018310547, -7.076000213623047, -5.7505998611450195, -6.726099967956543, -6.042699813842773, -2.264699935913086, -4.4274001121521, -3.3138999938964844, -5.758500099182129, -6.040299892425537, -3.2465999126434326, -8.637399673461914, -6.547599792480469, -6.028900146484375, -5.717599868774414, -7.550899982452393, -5.71619987487793, -3.720400094985962, -4.908100128173828, -3.068000078201294, -3.710099935531616, -4.48199987411499, -4.969299793243408, -4.251299858093262, -4.159999847412109, -3.8382999897003174, -4.811200141906738, -4.456399917602539, -5.488500118255615, -5.295000076293945, -4.955900192260742, -4.276100158691406, -4.8445000648498535, -5.2307000160217285, -5.227799892425537, -6.44290018081665, -6.849599838256836, -6.991499900817871, -7.231900215148926, -7.295199871063232, -7.526599884033203, -7.791500091552734, -7.804999828338623, -7.8231000900268555, -7.82889986038208, -7.86870002746582, -7.99560022354126, -8.165900230407715, -8.20740032196045, -8.51710033416748, -8.520899772644043, -6.860199928283691, -7.243100166320801, -9.486000061035156, -6.193999767303467, -7.729000091552734, -7.529099941253662, -7.934100151062012, -8.20009994506836, -6.884799957275391, -6.477700233459473, -5.023900032043457, -6.895500183105469, -7.953100204467773, -5.083199977874756, -4.383500099182129, -5.652200222015381, -1.2472000122070312, -4.5619001388549805, -4.661600112915039, -4.170000076293945, -4.840799808502197, -3.2195000648498535, -3.370699882507324, -4.642199993133545, -4.3815999031066895, -4.478600025177002, -5.90500020980835, -5.472099781036377, -4.813300132751465, -3.857800006866455, -3.5768001079559326, -4.035799980163574, -5.208799839019775, -5.186699867248535, -5.997399806976318, -4.8094000816345215, -5.334700107574463, -3.612299919128418, -5.895999908447266, -5.487599849700928, -4.2104997634887695, -4.616799831390381, -4.345399856567383, -4.945700168609619, -4.817299842834473, -4.4095001220703125, -4.688799858093262, -4.691299915313721, -4.54640007019043, -4.696400165557861, -4.78849983215332, -4.946300029754639, -4.955599784851074, -5.691800117492676, -5.046500205993652, -1.5013999938964844, -2.6816000938415527, -4.572800159454346, -3.9591000080108643, -3.747999906539917, -9.654399871826172, -7.290900230407715, -5.514999866485596, -5.931399822235107, -6.332799911499023, -2.086899995803833, -6.00029993057251, -5.247499942779541, -5.823699951171875, -6.319399833679199, -5.572700023651123, -7.09119987487793, -6.401899814605713, -3.490000009536743, -7.376500129699707, -4.749000072479248, -6.750500202178955, -5.836299896240234, -5.304500102996826, -7.352200031280518, -6.577099800109863, -9.379300117492676, -4.907199859619141, -4.749800205230713, -4.066299915313721, -4.668300151824951, -4.308899879455566, -4.4882001876831055, -5.09060001373291, -3.235300064086914, -3.7040998935699463, -4.108399868011475, -3.6756999492645264, -3.519700050354004, -4.424099922180176, -4.1585001945495605, -4.320899963378906, -4.638700008392334, -3.6575000286102295, -4.3084001541137695, -4.5960001945495605, -4.8582000732421875, -4.70419979095459, -4.802199840545654, -4.789100170135498, -1.3795000314712524, -2.8450000286102295, -4.387800216674805, -4.677299976348877, -5.862199783325195, -6.675099849700928, -3.3138999938964844, -5.775199890136719, -5.694900035858154, -2.82069993019104, -2.012399911880493, -3.9284000396728516, -4.75029993057251, -8.06779956817627, -2.6602001190185547, -5.644499778747559, -5.7778000831604, -5.334099769592285, -6.556300163269043, -6.0015997886657715, -5.231400012969971, -3.5662999153137207, -4.8917999267578125, -6.5914998054504395, -3.603600025177002, -5.500800132751465, -6.4670000076293945, -8.246899604797363, -4.828100204467773, -7.367099761962891, -4.992300033569336, -3.0525999069213867, -3.7588999271392822, -3.954900026321411, -3.6910998821258545, -4.500899791717529, -4.428800106048584, -4.174799919128418, -5.018599987030029, -5.210999965667725, -5.048999786376953, -5.311100006103516, -5.446300029754639, -5.438700199127197]}, \"token.table\": {\"Topic\": [3, 4, 5, 7, 1, 9, 1, 2, 3, 5, 6, 7, 10, 8, 9, 9, 1, 5, 7, 1, 5, 8, 9, 1, 2, 5, 2, 3, 8, 9, 1, 2, 4, 9, 1, 2, 3, 4, 5, 6, 7, 1, 3, 7, 10, 1, 2, 3, 5, 1, 4, 5, 6, 7, 8, 10, 11, 1, 3, 7, 8, 11, 2, 3, 6, 8, 9, 1, 2, 3, 4, 7, 9, 10, 3, 7, 1, 2, 3, 4, 9, 10, 8, 9, 11, 1, 5, 8, 10, 1, 5, 10, 5, 10, 7, 8, 10, 11, 1, 3, 5, 8, 10, 9, 10, 3, 1, 2, 3, 7, 8, 9, 10, 9, 1, 5, 6, 7, 8, 10, 11, 5, 8, 1, 3, 5, 7, 8, 11, 11, 3, 4, 5, 8, 3, 5, 8, 1, 2, 3, 5, 6, 7, 8, 10, 1, 3, 5, 6, 7, 8, 11, 8, 9, 1, 2, 3, 5, 7, 9, 2, 3, 4, 5, 7, 8, 9, 2, 3, 4, 5, 6, 7, 8, 5, 9, 4, 11, 5, 1, 2, 4, 5, 7, 9, 10, 11, 1, 5, 9, 1, 3, 4, 5, 7, 8, 9, 11, 5, 7, 9, 10, 4, 5, 10, 11, 1, 5, 10, 1, 5, 7, 8, 1, 9, 10, 1, 3, 7, 8, 3, 7, 8, 9, 1, 3, 4, 5, 6, 7, 9, 5, 1, 3, 7, 8, 9, 1, 2, 4, 5, 6, 8, 10, 11, 6, 9, 2, 3, 6, 8, 1, 3, 4, 5, 6, 9, 10, 1, 5, 1, 4, 5, 6, 7, 9, 10, 11, 1, 3, 4, 5, 7, 8, 10, 11, 1, 2, 9, 10, 3, 5, 8, 2, 3, 4, 5, 6, 7, 9, 10, 1, 3, 7, 8, 9, 1, 3, 4, 5, 7, 8, 9, 2, 5, 7, 9, 3, 7, 8, 1, 5, 7, 11, 5, 6, 7, 10, 2, 5, 1, 3, 5, 8, 9, 2, 5, 8, 9, 2, 4, 5, 6, 10, 4, 5, 10, 4, 5, 7, 9, 4, 5, 9, 10, 4, 9, 5, 4, 5, 7, 8, 4, 5, 1, 2, 3, 4, 6, 7, 9, 10, 4, 5, 6, 2, 9, 1, 2, 3, 4, 5, 7, 8, 9, 10, 1, 2, 3, 5, 6, 7, 8, 9, 1, 2, 3, 4, 6, 7, 8, 9, 7, 8, 9, 10, 1, 2, 4, 5, 8, 9, 10, 3, 5, 1, 3, 5, 7, 8, 9, 10, 11, 2, 3, 5, 9, 1, 9, 2, 5, 2, 3, 4, 5, 7, 8, 9, 3, 4, 5, 7, 8, 9, 10, 11, 3, 4, 5, 7, 8, 1, 3, 7, 8, 2, 3, 4, 5, 6, 8, 10, 1, 2, 3, 4, 5, 6, 9, 1, 2, 5, 7, 9, 10, 2, 4, 5, 9, 10, 1, 2, 3, 4, 5, 6, 7, 8, 9, 10, 11, 2, 3, 4, 5, 6, 8, 9, 2, 8, 9, 1, 5, 6, 7, 8, 9, 10, 1, 2, 4, 7, 9, 10, 2, 5, 7, 8, 9, 2, 4, 8, 10, 1, 3, 9, 10, 11, 7, 7, 7, 7, 3, 5, 8, 9, 9, 9, 1, 3, 5, 7, 8, 10, 11, 1, 3, 4, 6, 7, 8, 9, 11, 9, 1, 3, 4, 5, 8, 9, 11, 2, 3, 5, 8, 1, 3, 5, 6, 7, 8, 1, 2, 4, 5, 6, 7, 9, 11, 1, 5, 7, 10, 3, 10, 2, 4, 8, 9, 10, 11, 4, 5, 9, 11, 4, 9, 1, 3, 4, 5, 7, 11, 1, 3, 4, 5, 6, 7, 8, 10, 11, 1, 2, 3, 4, 6, 7, 10, 3, 4, 9, 11, 11, 5, 10, 1, 2, 3, 4, 6, 9, 4, 5, 7, 10, 6, 9, 2, 3, 6, 8, 9, 1, 5, 9, 11, 3, 7, 9, 1, 5, 7, 9, 3, 4, 5, 7, 10, 3, 4, 6, 7, 8, 1, 2, 4, 9, 10, 2, 4, 5, 6, 7, 8, 9, 10, 1, 5, 7, 9, 1, 2, 5, 7, 9, 1, 2, 3, 4, 8, 9, 2, 4, 5, 6, 9, 2, 3, 5, 10, 1, 2, 3, 4, 5, 6, 8, 9, 10, 11, 3, 7, 8, 1, 2, 3, 6, 7, 10, 11, 9, 11, 9, 4, 5, 6, 10, 1, 3, 5, 7, 10, 5, 9, 2, 5, 7, 9, 3, 4, 5, 10, 1, 3, 4, 5, 7, 10, 1, 2, 3, 4, 5, 6, 7, 8, 9, 10, 11, 1, 3, 11, 6, 10, 1, 3, 3, 8, 2, 3, 4, 5, 6, 8, 9, 1, 3, 5, 7, 5, 1, 3, 5, 7, 8, 2, 3, 4, 5, 10, 2, 9, 1, 2, 3, 4, 5, 6, 7, 8, 10, 11, 4, 5, 7, 9, 1, 4, 5, 7, 9, 10, 9, 3, 4, 5, 9, 10, 2, 3, 8, 3, 4, 5, 8, 10, 1, 2, 3, 4, 5, 6, 8, 10, 4, 5, 6, 7, 8, 9, 11, 1, 4, 5, 1, 3, 5, 7, 2, 3, 5, 6, 7, 8, 9, 11, 2, 3, 7, 4, 5, 6, 9, 10, 11, 1, 2, 3, 6, 8, 9, 1, 2, 3, 4, 8, 9, 1, 5, 1, 5, 7, 2, 8, 9, 3, 5, 6, 10, 1, 5, 10, 2, 10, 11, 2, 4, 5, 6, 8, 9, 10, 1, 2, 4, 5, 7, 9, 1, 2, 3, 4, 6, 8, 1, 2, 6, 7, 10, 1, 4, 9, 1, 5, 1, 2, 5, 7, 8, 9, 10, 11, 3, 7, 8, 9, 3, 5, 8, 9, 10, 1, 8, 9, 10, 2, 5, 1, 2, 3, 5, 7, 8, 9, 10, 11, 3, 5, 6, 8, 9, 1, 2, 3, 4, 5, 7, 8, 9, 10, 11, 1, 2, 3, 4, 5, 7, 8, 9, 10, 11, 2, 3, 5, 6, 8, 10, 1, 2, 3, 4, 5, 7, 8, 9, 10, 11, 1, 2, 3, 4, 5, 8, 9, 10, 11, 5, 8, 1, 3, 7, 8, 9, 9, 1, 2, 9, 1, 3, 4, 5, 6, 8, 9, 10, 1, 5, 3, 5, 3, 5, 7, 1, 2, 3, 4, 5, 6, 7, 9, 10, 11, 2, 5, 6, 9, 10, 11, 1, 2, 3, 4, 5, 6, 7, 9, 10, 1, 3, 5, 6, 7, 10, 4, 5, 6, 9, 1, 3, 4, 5, 1, 5, 1, 5, 6, 3, 4, 5, 1, 3, 4, 9, 1, 3, 4, 5, 1, 1, 4, 5, 1, 2, 3, 4, 6, 8, 9, 3, 5, 8, 9, 3, 5, 8, 9, 1, 2, 3, 4, 5, 8, 9, 10, 11, 3, 5, 6, 7, 8, 6, 9, 2, 6, 7, 9, 1, 2, 6, 7, 8, 9, 1, 3, 4, 7, 8, 2, 3, 4, 5, 6, 7, 8, 10, 11, 8, 9, 3, 4, 5, 9, 1, 3, 4, 5, 7, 8, 10, 5, 9, 10, 2, 5, 6, 7, 8, 1, 2, 3, 4, 5, 1, 5, 2, 6, 9, 1, 2, 3, 4, 5, 6, 8, 9, 11, 1, 2, 3, 4, 5, 6, 7, 8, 9, 11, 1, 2, 3, 4, 5, 6, 7, 8, 9, 10, 2, 3, 9, 1, 3, 5, 7, 1, 5, 8, 9, 10, 10, 2, 4, 5, 6, 8, 10, 11, 1, 7, 8, 11, 2, 3, 4, 5, 6, 8, 9, 10, 5, 8, 11, 8, 9, 10, 1, 4, 7, 8, 9, 4, 9, 2, 3, 4, 7, 8, 9, 1, 2, 3, 6, 7, 8, 9, 1, 3, 6, 7, 8, 9, 9, 1, 3, 6, 7, 8, 1, 2, 5, 8, 5, 7, 9, 10, 2, 4, 10, 8, 9, 5, 1, 2, 3, 7, 8, 9, 10, 3, 7, 1, 5, 7, 8, 1, 5, 6, 9, 11, 1, 2, 4, 5, 6, 7, 10, 2, 3, 5, 6, 8, 1, 3, 5, 7, 8, 1, 2, 3, 7, 8, 9, 11, 4, 5, 9, 5, 10, 1, 2, 3, 4, 5, 7, 8, 9, 10, 11, 1, 2, 3, 8, 9, 10, 2, 4, 5, 8, 9, 11, 1, 2, 3, 4, 5, 6, 7, 8, 9, 10, 11, 9, 1, 3, 4, 5, 8, 9, 9, 7, 9, 1, 2, 3, 4, 5, 6, 8, 9, 10, 2, 5, 6, 7, 8, 9, 10, 2, 3, 7, 8, 9, 1, 2, 4, 5, 7, 9, 10, 11, 5, 7, 9, 10, 11, 9, 1, 5, 8, 9, 11, 2, 5, 9, 10, 11, 5, 9, 10, 11, 1, 2, 5, 7, 9, 10, 11, 5, 9, 10, 3, 5, 6, 7, 8, 10, 11, 1, 2, 4, 5, 9, 10, 11, 8, 9, 10, 5, 9, 10, 7, 8, 2, 9, 1, 3, 4, 5, 8, 5, 9, 11, 1, 2, 3, 4, 5, 6, 7, 8, 9, 10, 11, 4, 5, 7, 8, 9, 2, 4, 5, 7, 9, 11, 3, 4, 5, 8, 1, 4, 5, 2, 5, 7, 8, 9, 10, 2, 5, 6, 7, 8, 10, 1, 5, 7, 9, 1, 2, 5, 7, 9, 8, 9, 1, 3, 5, 7, 8, 2, 5, 11, 2, 3, 4, 5, 6, 9, 10, 1, 2, 9, 11, 2, 3, 4, 5, 6, 7, 8, 5, 9, 10, 9, 2, 5, 9, 2, 4, 5, 6, 9, 9, 2, 4, 5, 6, 9, 2, 3, 5, 6, 7, 8, 9, 1, 2, 3, 4, 5, 6, 7, 8, 9, 10, 11, 1, 3, 5, 7, 8, 1, 3, 5, 7, 7, 4, 2, 7, 8, 9, 1, 3, 5, 6, 10, 1, 6, 7, 8, 10, 1, 3, 5, 7, 9, 1, 2, 3, 4, 5, 6, 7, 9, 10, 1, 2, 3, 4, 5, 6, 7, 8, 9, 10, 11, 1, 2, 3, 5, 6, 7, 8, 10, 11, 9, 11, 2, 3, 4, 6, 8, 9, 1, 3, 5, 6, 7, 8, 9, 10, 11, 1, 2, 3, 5, 7, 8], \"Freq\": [0.6454946994781494, 0.10433875769376755, 0.21138058602809906, 0.038383688777685165, 0.4725618362426758, 0.5214475393295288, 0.08084927499294281, 0.22994138300418854, 0.03277673199772835, 0.07580669969320297, 0.06471303850412369, 0.039332080632448196, 0.4763551652431488, 0.11687489598989487, 0.8807358145713806, 0.9692050218582153, 0.792445182800293, 0.0839918851852417, 0.12416192144155502, 0.008747830986976624, 0.8728391528129578, 0.016523681581020355, 0.10157204419374466, 0.09152396023273468, 0.28219887614250183, 0.6177867650985718, 0.0256480872631073, 0.3166552186012268, 0.07891719043254852, 0.5785616636276245, 0.1632571965456009, 0.10883813351392746, 0.029683126136660576, 0.6975534558296204, 0.2733982503414154, 0.0037782485596835613, 0.4373847246170044, 0.14304868876934052, 0.01831400953233242, 0.1030622199177742, 0.020990269258618355, 0.4550550878047943, 0.34323790669441223, 0.19765856862068176, 0.004020823165774345, 0.13109618425369263, 0.3408500850200653, 0.28841158747673035, 0.23597313463687897, 0.3358153998851776, 0.016515512019395828, 0.3229700028896332, 0.021714838221669197, 0.2324405312538147, 0.03761866316199303, 0.009786969982087612, 0.02324405312538147, 0.2811879515647888, 0.6220218539237976, 0.044734448194503784, 0.044734448194503784, 0.006390635389834642, 0.10675928741693497, 0.2620455324649811, 0.020057806745171547, 0.06858475506305695, 0.5428547859191895, 0.02689470164477825, 0.20993687212467194, 0.11011006683111191, 0.06676214188337326, 0.010441471822559834, 0.5617828369140625, 0.013921963050961494, 0.9098052382469177, 0.09014147520065308, 0.02240411564707756, 0.2915562689304352, 0.009688266552984715, 0.5955256223678589, 0.06317556649446487, 0.017459062859416008, 0.029099734500050545, 0.09739503264427185, 0.8723981976509094, 0.011186018586158752, 0.3378177583217621, 0.03355805575847626, 0.6152310371398926, 0.012028989382088184, 0.07922541350126266, 0.9083961248397827, 0.7437394261360168, 0.23799662292003632, 0.024419596418738365, 0.07732871919870377, 0.6715388894081116, 0.22384628653526306, 0.04811955615878105, 0.0075978245586156845, 0.3153097331523895, 0.008864128962159157, 0.6192227005958557, 0.19048680365085602, 0.800044596195221, 0.9566725492477417, 0.0071122245863080025, 0.014963381923735142, 0.1164742261171341, 0.02429240383207798, 0.7664576768875122, 0.06474895775318146, 0.0060038259252905846, 0.9620117545127869, 0.07973109930753708, 0.560731828212738, 0.11698251962661743, 0.11828958243131638, 0.030716080218553543, 0.061432160437107086, 0.032023146748542786, 0.8738632202148438, 0.1115570068359375, 0.08334892243146896, 0.16020312905311584, 0.3366430699825287, 0.03139115497469902, 0.38751837611198425, 0.9980234503746033, 0.9925605654716492, 0.19463367760181427, 0.3401820957660675, 0.45926719903945923, 0.005548767279833555, 0.4330672025680542, 0.09623716026544571, 0.4571264982223511, 0.23762297630310059, 0.1498337686061859, 0.1933422088623047, 0.06693605333566666, 0.22938469052314758, 0.02548718824982643, 0.06255946308374405, 0.034497812390327454, 0.2304481565952301, 0.14323391020298004, 0.06581900268793106, 0.028254806995391846, 0.458773136138916, 0.05912277474999428, 0.014209064655005932, 0.9358282089233398, 0.05594625324010849, 0.16490262746810913, 0.06569291651248932, 0.0851326584815979, 0.037538811564445496, 0.6327970623970032, 0.014077053405344486, 0.21731626987457275, 0.45337021350860596, 0.09674341976642609, 0.008146814070641994, 0.00794314406812191, 0.046233173459768295, 0.17026841640472412, 0.3047885298728943, 0.3481362462043762, 0.004063847009092569, 0.09617771953344345, 0.18896889686584473, 0.009482310153543949, 0.048088859766721725, 0.27594268321990967, 0.7243495583534241, 0.9740502834320068, 0.9823429584503174, 0.9718793034553528, 0.06511973589658737, 0.42738088965415955, 0.012568929232656956, 0.382102906703949, 0.005557182244956493, 0.024168148636817932, 0.05415455624461174, 0.028867511078715324, 0.019720327109098434, 0.7197919487953186, 0.25636425614356995, 0.07501254230737686, 0.06001003459095955, 0.09513786435127258, 0.5609474778175354, 0.10940854251384735, 0.08525816351175308, 0.011343360878527164, 0.002927318913862109, 0.12964953482151031, 0.18038195371627808, 0.0422770194709301, 0.6482476592063904, 0.005860854405909777, 0.035615961998701096, 0.955920398235321, 0.0025547314435243607, 0.5543358325958252, 0.3453938663005829, 0.09807480126619339, 0.633752167224884, 0.10377228260040283, 0.2149568796157837, 0.0481799878180027, 0.015263604000210762, 0.018250975757837296, 0.9664615392684937, 0.2577727138996124, 0.36741361021995544, 0.3312554359436035, 0.04199012741446495, 0.17439240217208862, 0.09332718700170517, 0.06675959378480911, 0.6655522584915161, 0.01165210921317339, 0.08236835896968842, 0.1193336695432663, 0.3483578860759735, 0.35559022426605225, 0.017277264967560768, 0.0654928907752037, 0.9911822080612183, 0.4286593198776245, 0.4010038673877716, 0.14124028384685516, 0.012840025126934052, 0.016790803521871567, 0.08425350487232208, 0.07132279872894287, 0.1077398881316185, 0.3284735083580017, 0.2990855574607849, 0.006501337978988886, 0.08770808577537537, 0.014897900633513927, 0.8162650465965271, 0.1794375777244568, 0.2790483832359314, 0.19806581735610962, 0.1726977825164795, 0.3502740263938904, 0.11248647421598434, 0.009833254851400852, 0.09937547147274017, 0.602733850479126, 0.007076963782310486, 0.05475335195660591, 0.11375287920236588, 0.18203788995742798, 0.8115856051445007, 0.6030290126800537, 0.03396233916282654, 0.05568244308233261, 0.01658625900745392, 0.0876702293753624, 0.16507276892662048, 0.022509923204779625, 0.015401526354253292, 0.07955045253038406, 0.26830384135246277, 0.05889596417546272, 0.2804715931415558, 0.01850723847746849, 0.26973533630371094, 0.0019427487859502435, 0.022494986653327942, 0.16790634393692017, 0.08006130158901215, 0.712768018245697, 0.038918688893318176, 0.45771777629852295, 0.44312915205955505, 0.09664956480264664, 0.08887259662151337, 0.04737076908349991, 0.03521367162466049, 0.13121284544467926, 0.42591771483421326, 0.028925513848662376, 0.07461944222450256, 0.1672649383544922, 0.6344953775405884, 0.04633467271924019, 0.1494293212890625, 0.13784565031528473, 0.03185508772730827, 0.1845448762178421, 0.5451240539550781, 0.02284414693713188, 0.021052449941635132, 0.02821924164891243, 0.18902412056922913, 0.008958489634096622, 0.039434079080820084, 0.3319799304008484, 0.09904373437166214, 0.5300673842430115, 0.08410810679197311, 0.08635099232196808, 0.8287451863288879, 0.15623223781585693, 0.29971083998680115, 0.5133345127105713, 0.028695717453956604, 0.15289655327796936, 0.02176055684685707, 0.775363028049469, 0.05039286985993385, 0.440918505191803, 0.5411272644996643, 0.19114521145820618, 0.0588139109313488, 0.14703477919101715, 0.5057996511459351, 0.09704295545816422, 0.0943552553653717, 0.20112566649913788, 0.6431055665016174, 0.05959279090166092, 0.10996365547180176, 0.12829093635082245, 0.39113089442253113, 0.010728161782026291, 0.35984042286872864, 0.052987437695264816, 0.360976904630661, 0.5845176577568054, 0.010265364311635494, 0.9286206364631653, 0.02053072862327099, 0.0402718149125576, 0.0740991085767746, 0.7075269818305969, 0.1553691029548645, 0.05975734442472458, 0.2761635482311249, 0.7101348042488098, 0.9781166315078735, 0.8195022344589233, 0.11438282579183578, 0.01882248930633068, 0.046332281082868576, 0.5183068513870239, 0.4784370958805084, 0.03934336453676224, 0.2334255874156952, 0.10380324721336365, 0.015280681662261486, 0.5058432221412659, 0.013173000887036324, 0.04794972389936447, 0.04109976440668106, 0.6345661282539368, 0.22834765911102295, 0.13460493087768555, 0.24664908647537231, 0.7469943761825562, 0.09798504412174225, 0.07897301763296127, 0.6257104873657227, 0.13050246238708496, 0.010177550837397575, 0.035233426839113235, 0.005894622765481472, 0.007282470352947712, 0.008252471685409546, 0.088668093085289, 0.0656573474407196, 0.4195626974105835, 0.060901790857315063, 0.12548530101776123, 0.03850465640425682, 0.18899497389793396, 0.012118996120989323, 0.060898445546627045, 0.1282123625278473, 0.5540640354156494, 0.035965561866760254, 0.12583085894584656, 0.003159137209877372, 0.08262358605861664, 0.009331605397164822, 0.03263236954808235, 0.8477322459220886, 0.10286290943622589, 0.016316184774041176, 0.02682439424097538, 0.10911618173122406, 0.02591509371995926, 0.02091393433511257, 0.5915006399154663, 0.09820456057786942, 0.12775686383247375, 0.4770493805408478, 0.5179393291473389, 0.5855712890625, 0.005107963923364878, 0.11450352519750595, 0.009222712367773056, 0.00993215199559927, 0.21751412749290466, 0.033627428114414215, 0.02440471760928631, 0.016190486028790474, 0.14571437239646912, 0.7366670966148376, 0.09714291989803314, 0.23736537992954254, 0.7384700775146484, 0.18559856712818146, 0.808679461479187, 0.13858215510845184, 0.6040040850639343, 0.037475988268852234, 0.09426044672727585, 0.10014075040817261, 0.0035106311552226543, 0.021941443905234337, 0.21936458349227905, 0.03157108277082443, 0.5443289875984192, 0.12301835417747498, 0.04681229218840599, 0.015785541385412216, 0.016329869627952576, 0.0021773159969598055, 0.48560622334480286, 0.021645238623023033, 0.13175362348556519, 0.09505082666873932, 0.26538944244384766, 0.16415920853614807, 0.47606170177459717, 0.04924776405096054, 0.3119024932384491, 0.16643553972244263, 0.045913249254226685, 0.31182748079299927, 0.37113210558891296, 0.04782630130648613, 0.05547850951552391, 0.0019130520522594452, 0.34044668078422546, 0.06841406226158142, 0.0813293382525444, 0.07151372730731964, 0.03859822452068329, 0.3633989691734314, 0.03623657673597336, 0.04275960847735405, 0.09977242350578308, 0.15678523480892181, 0.039196308702230453, 0.06057611480355263, 0.5950712561607361, 0.3361234962940216, 0.047639552503824234, 0.3308302164077759, 0.23025783896446228, 0.05293283611536026, 0.13909529149532318, 0.5578078031539917, 0.0622471459209919, 0.055565331131219864, 0.019958099350333214, 0.13159826397895813, 0.015183295123279095, 0.006943846587091684, 0.00033481858554296196, 0.011252816766500473, 1.4557330359821208e-05, 0.39526569843292236, 0.02000727690756321, 0.040990520268678665, 0.021959206089377403, 0.09027674049139023, 0.020495260134339333, 0.4108811616897583, 0.015827113762497902, 0.9497609734535217, 0.034336790442466736, 0.02642575092613697, 0.40880319476127625, 0.013372066430747509, 0.31583547592163086, 0.04871252924203873, 0.0047757383435964584, 0.18211480975151062, 0.36979201436042786, 0.12351895123720169, 0.0413004532456398, 0.01759093441069126, 0.41721105575561523, 0.03059292770922184, 0.19797742366790771, 0.6404544115066528, 0.07030007988214493, 0.04083607718348503, 0.05014049634337425, 0.10783420503139496, 0.15760383009910583, 0.43133682012557983, 0.30138278007507324, 0.23289376497268677, 0.1175130307674408, 0.43261852860450745, 0.19048482179641724, 0.0262982789427042, 0.9996660947799683, 0.9995365738868713, 0.9985208511352539, 0.9984170198440552, 0.028619490563869476, 0.760941743850708, 0.06397297978401184, 0.1447809487581253, 0.9746993780136108, 0.979034960269928, 0.2120647132396698, 0.04737615957856178, 0.03233610838651657, 0.1834886223077774, 0.14588849246501923, 0.15040050446987152, 0.22785677015781403, 0.24290235340595245, 0.44973352551460266, 0.003352769184857607, 0.059887394309043884, 0.10613248497247696, 0.055956561118364334, 0.051100827753543854, 0.03086859919130802, 0.9899921417236328, 0.05880216509103775, 0.3875744938850403, 0.395046591758728, 0.030603116378188133, 0.10077586770057678, 0.014164499007165432, 0.012929978780448437, 0.03478621318936348, 0.1818370223045349, 0.3684176206588745, 0.4142721891403198, 0.3588734269142151, 0.2518410086631775, 0.001574006280861795, 0.03368373587727547, 0.21437965333461761, 0.13945695757865906, 0.20140811800956726, 0.15403354167938232, 0.022496307268738747, 0.46077731251716614, 0.05478512495756149, 0.0812513679265976, 0.01773238368332386, 0.007675210479646921, 0.12921443581581116, 0.6858304738998413, 0.1152990385890007, 0.06758908927440643, 0.056951854377985, 0.9426513910293579, 0.1529904454946518, 0.5178138613700867, 0.008522015064954758, 0.07264003157615662, 0.016232408583164215, 0.23151473701000214, 0.15711267292499542, 0.6306635737419128, 0.07081134617328644, 0.1394098401069641, 0.2917737662792206, 0.7002570629119873, 0.06649385392665863, 0.027056120336055756, 0.11005879938602448, 0.6915361285209656, 0.09676002711057663, 0.00825440976768732, 0.05517835542559624, 0.0498812310397625, 0.15979650616645813, 0.590187668800354, 0.027368463575839996, 0.0851953774690628, 0.011918524280190468, 0.016774220392107964, 0.0035314145497977734, 0.017459265887737274, 0.09232084453105927, 0.004337706137448549, 0.8160309195518494, 0.0019519677152857184, 0.02327902242541313, 0.04464222490787506, 0.017681511119008064, 0.33152833580970764, 0.64537513256073, 0.9999363422393799, 0.999484121799469, 0.4710671901702881, 0.5256836414337158, 0.42652609944343567, 0.00959833711385727, 0.05309079959988594, 0.44032371044158936, 0.04349246248602867, 0.0266953743994236, 0.21246536076068878, 0.739965558052063, 0.013431718572974205, 0.03296876326203346, 0.3128780424594879, 0.6883317232131958, 0.06016560271382332, 0.6427691578865051, 0.026071760803461075, 0.024066241458058357, 0.24667896330356598, 0.146573007106781, 0.35515767335891724, 0.16912269592285156, 0.3213331401348114, 0.01722693257033825, 0.5221914052963257, 0.4608204662799835, 0.1526157110929489, 0.014506245963275433, 0.8275063037872314, 0.005352304317057133, 0.2080402672290802, 0.0068311733193695545, 0.17698948085308075, 0.5918279886245728, 0.015525393187999725, 0.014729253016412258, 0.8190430402755737, 0.136909618973732, 0.019075589254498482, 0.01014145277440548, 0.27526459097862244, 0.0586109459400177, 0.5773522853851318, 0.0866752490401268, 0.001999667612835765, 0.01600828394293785, 0.0229084063321352, 0.19541145861148834, 0.698016345500946, 0.012696225196123123, 0.01794031821191311, 0.01242022030055523, 0.024564435705542564, 0.44022834300994873, 0.02165057510137558, 0.14433716237545013, 0.38971033692359924, 0.34385251998901367, 0.28456759452819824, 0.15414078533649445, 0.20156870782375336, 0.9720999002456665, 0.07855404168367386, 0.06183214485645294, 0.11083120107650757, 0.017499662935733795, 0.11005344241857529, 0.6210436224937439, 0.14106453955173492, 0.04447980970144272, 0.674822211265564, 0.13852283358573914, 0.9111642241477966, 0.10550589859485626, 0.04344360530376434, 0.8068097829818726, 0.03723737597465515, 0.020092053338885307, 0.08706557005643845, 0.020947035402059555, 0.6589053869247437, 0.04189407080411911, 0.094047911465168, 0.02372572384774685, 0.019807059317827225, 0.0014249683590605855, 0.031919289380311966, 0.07084321975708008, 0.0638129785656929, 0.8652607202529907, 0.11226586997509003, 0.4775613248348236, 0.039796777069568634, 0.3253316879272461, 0.004898064769804478, 0.04013073444366455, 0.9980990886688232, 0.16497287154197693, 0.8309744596481323, 0.9756072759628296, 0.02415667660534382, 0.7488569617271423, 0.05866621434688568, 0.1656457781791687, 0.33449143171310425, 0.4738628566265106, 0.06620142608880997, 0.07665428519248962, 0.04878000169992447, 0.832984447479248, 0.16253355145454407, 0.11656302958726883, 0.2642095386981964, 0.44293949007987976, 0.17095910012722015, 0.05830466374754906, 0.0760495662689209, 0.7807754874229431, 0.08365452289581299, 0.174028217792511, 0.043888695538043976, 0.18242432177066803, 0.4747612178325653, 0.016028914600610733, 0.10876763612031937, 0.868058443069458, 0.06507883220911026, 0.0035848882980644703, 0.026007378473877907, 0.00026805655215866864, 0.003378690918907523, 0.021983584389090538, 0.00445680832490325, 0.0001178270613308996, 0.007060786709189415, 2.9456764423230197e-06, 0.3952968716621399, 0.5380429625511169, 0.054902344942092896, 0.01804860681295395, 0.9811878800392151, 0.14810706675052643, 0.8331022262573242, 0.2426893562078476, 0.7566197514533997, 0.11434575170278549, 0.18438252806663513, 0.06431948393583298, 0.13435626029968262, 0.31588014960289, 0.10719914734363556, 0.0757540613412857, 0.23977138102054596, 0.3516646921634674, 0.04795427620410919, 0.35965707898139954, 0.9768255352973938, 0.2709818184375763, 0.11053206026554108, 0.04635215550661087, 0.4956115186214447, 0.0748765617609024, 0.21003952622413635, 0.04629252478480339, 0.523003101348877, 0.11689561605453491, 0.10376232117414474, 0.18855957686901093, 0.8122566342353821, 0.06254425644874573, 0.09292585402727127, 0.010375719517469406, 0.03499993309378624, 0.0784081295132637, 0.5100463628768921, 0.059023551642894745, 0.10489624738693237, 0.025887522846460342, 0.02087569795548916, 0.03118896484375, 0.71734619140625, 0.160400390625, 0.089111328125, 0.006777560338377953, 0.008133072406053543, 0.3095085918903351, 0.03027310222387314, 0.5837738513946533, 0.060998041182756424, 0.9959310293197632, 0.01537784468382597, 0.03752193972468376, 0.26880472898483276, 0.6126533150672913, 0.06581717729568481, 0.17087329924106598, 0.16897469758987427, 0.6569129228591919, 0.21370269358158112, 0.3453122675418854, 0.3609490394592285, 0.03127356246113777, 0.049516476690769196, 0.042549435049295425, 0.034597571939229965, 0.02622719295322895, 0.013113596476614475, 0.8144380450248718, 0.04268893972039223, 0.004882722161710262, 0.021483976393938065, 0.009393107146024704, 0.10164684057235718, 0.4408051073551178, 0.02012808807194233, 0.26971638202667236, 0.04964928328990936, 0.10835620015859604, 0.09294255822896957, 0.3692917823791504, 0.5378276109695435, 0.09867281466722488, 0.5211592316627502, 0.04586201161146164, 0.3335419297218323, 0.5533309578895569, 0.2079896479845047, 0.03855080157518387, 0.10803458094596863, 0.023315155878663063, 0.023776842281222343, 0.035549841821193695, 0.009233725257217884, 0.15543746948242188, 0.177642822265625, 0.6550579071044922, 0.09033878147602081, 0.4371231198310852, 0.29870080947875977, 0.03351277485489845, 0.10782370716333389, 0.03059861995279789, 0.19691306352615356, 0.3083494007587433, 0.3260779082775116, 0.08610989153385162, 0.024060117080807686, 0.05825081095099449, 0.19307728111743927, 0.20453393459320068, 0.3069213032722473, 0.2578950822353363, 0.020057743415236473, 0.01754622533917427, 0.6464364528656006, 0.34983620047569275, 0.27712053060531616, 0.2309337705373764, 0.47726312279701233, 0.12499499320983887, 0.6549737453460693, 0.21999119222164154, 0.05309644713997841, 0.46686020493507385, 0.18065741658210754, 0.2991531491279602, 0.05527650564908981, 0.7628157734870911, 0.17688481509685516, 0.16479147970676422, 0.15259520709514618, 0.6824239492416382, 0.1499258279800415, 0.034191228449344635, 0.054407473653554916, 0.3645707666873932, 0.0036633461713790894, 0.39197802543640137, 0.0012211153516545892, 0.45914965867996216, 0.06766416132450104, 0.1836598664522171, 0.14016146957874298, 0.14499463140964508, 0.9571722745895386, 0.14139950275421143, 0.25486189126968384, 0.11689025163650513, 0.3282182216644287, 0.15391121804714203, 0.004799013491719961, 0.011184570379555225, 0.0447382815182209, 0.6520302295684814, 0.08403541892766953, 0.20767025649547577, 0.3722541630268097, 0.169206440448761, 0.43993672728538513, 0.23193947970867157, 0.7607614994049072, 0.20921197533607483, 0.15612833201885223, 0.08430930227041245, 0.29235032200813293, 0.03786112368106842, 0.10031245648860931, 0.08352866023778915, 0.036690160632133484, 0.5791964530944824, 0.06008261814713478, 0.11656028032302856, 0.24393543601036072, 0.6438093781471252, 0.186912402510643, 0.055381450802087784, 0.11076290160417557, 0.9955059289932251, 0.02417435683310032, 0.013138237409293652, 0.031006239354610443, 0.931763768196106, 0.1984136402606964, 0.7936545610427856, 0.1275036484003067, 0.34649625420570374, 0.16584187746047974, 0.015974262729287148, 0.019749997183680534, 0.06447792798280716, 0.21347422897815704, 0.028753671795129776, 0.01771690882742405, 0.09158425778150558, 0.1125723123550415, 0.20988059043884277, 0.4941733777523041, 0.08967625349760056, 0.13727088272571564, 0.46838492155075073, 0.020798619836568832, 0.00554629834368825, 0.12174125015735626, 0.03189121559262276, 0.0446477048099041, 0.08125327527523041, 0.03965603560209274, 0.04825279861688614, 0.22746291756629944, 0.4074253439903259, 0.1345922350883484, 0.017993977293372154, 0.022685103118419647, 0.04958542063832283, 0.053143423050642014, 0.024838034063577652, 0.019081775099039078, 0.043239936232566833, 0.01939496584236622, 0.7344383001327515, 0.045332811772823334, 0.11987490952014923, 0.07056963443756104, 0.010047994554042816, 0.046508558094501495, 0.10990988463163376, 0.106595478951931, 0.044530607759952545, 0.005720017943531275, 0.0134179862216115, 0.6046112775802612, 0.04597397893667221, 0.021917827427387238, 0.0008018717053346336, 0.14593876898288727, 0.1431257575750351, 0.04433297738432884, 0.07887669652700424, 0.010239343158900738, 0.4767483174800873, 0.060985974967479706, 0.03791932389140129, 0.0019128442509099841, 0.33117908239364624, 0.6623581647872925, 0.027533989399671555, 0.010599367320537567, 0.04233655333518982, 0.9061240553855896, 0.013401499018073082, 0.9754217863082886, 0.3619137406349182, 0.4762023091316223, 0.1333366483449936, 0.10900181531906128, 0.06711685657501221, 0.04390350729227066, 0.3048013746738434, 0.3739367723464966, 0.04844525083899498, 0.019176244735717773, 0.03330611065030098, 0.366141676902771, 0.6178640723228455, 0.06994670629501343, 0.8743337988853455, 0.011986585333943367, 0.02028498984873295, 0.9676862359046936, 0.41766270995140076, 0.16579988598823547, 0.012137080542743206, 0.06384839862585068, 0.03861798346042633, 0.005296180956065655, 0.023538582026958466, 0.2051534503698349, 0.0661287009716034, 0.0019860677421092987, 0.06881070137023926, 0.17011535167694092, 0.19591936469078064, 0.5399728417396545, 0.021981196478009224, 0.002867112634703517, 0.04053010419011116, 0.1474074274301529, 0.321048378944397, 0.22083353996276855, 0.037198860198259354, 0.032479602843523026, 0.05510428547859192, 0.07065007835626602, 0.07467532902956009, 0.05283888056874275, 0.14940649271011353, 0.6759732961654663, 0.023686395958065987, 0.0491948202252388, 0.0491948202252388, 0.9178336262702942, 0.025966864079236984, 0.025966864079236984, 0.030146896839141846, 0.07075232267379761, 0.16562475264072418, 0.040200185030698776, 0.7219952940940857, 0.9656018018722534, 0.028233971446752548, 0.14001330733299255, 0.5345962643623352, 0.3054835796356201, 0.1420571357011795, 0.4115598201751709, 0.4456535279750824, 0.041020091623067856, 0.06676603853702545, 0.8836995363235474, 0.008537515066564083, 0.2055256962776184, 0.4564582407474518, 0.13502560555934906, 0.20194095373153687, 0.9066450595855713, 0.290273517370224, 0.37056195735931396, 0.3335057497024536, 0.21613642573356628, 0.38053229451179504, 0.0877537801861763, 0.2311229407787323, 0.026383116841316223, 0.04370594024658203, 0.014359709806740284, 0.3532741665840149, 0.47820791602134705, 0.008841465227305889, 0.15914636850357056, 0.6297826170921326, 0.16931019723415375, 0.06627040356397629, 0.13425101339817047, 0.19577378034591675, 0.15616819262504578, 0.5514901876449585, 0.020313922315835953, 0.0033288621343672276, 0.02246326580643654, 0.019081979990005493, 0.024586398154497147, 0.006788781378418207, 0.09016173332929611, 0.013114433735609055, 0.6885077953338623, 0.16720902919769287, 0.039343301206827164, 0.691650390625, 0.3077027499675751, 0.0678689032793045, 0.8331801295280457, 0.03661348670721054, 0.06161782145500183, 0.08353764563798904, 0.02292049489915371, 0.7848815321922302, 0.09028580784797668, 0.008377034217119217, 0.009889554232358932, 0.1486508697271347, 0.10653311759233475, 0.6045135259628296, 0.09910057485103607, 0.04211774468421936, 0.05895797535777092, 0.12299853563308716, 0.04066067561507225, 0.238881453871727, 0.4055902361869812, 0.013214719481766224, 0.030495505779981613, 0.03964415565133095, 0.04879280924797058, 0.7970432639122009, 0.19926081597805023, 0.5649170279502869, 0.009739948436617851, 0.40907785296440125, 0.013635927811264992, 0.07356254756450653, 0.24622714519500732, 0.044421300292015076, 0.3729424476623535, 0.08884260058403015, 0.00010914324229815975, 0.1738651841878891, 0.29942864179611206, 0.6466652750968933, 0.052840352058410645, 0.21873660385608673, 0.11123661696910858, 0.051737960427999496, 0.6053341031074524, 0.012934490106999874, 0.34622007608413696, 0.13811971247196198, 0.13719891011714935, 0.29189300537109375, 0.08563422411680222, 0.44045692682266235, 0.5082195401191711, 0.13245300948619843, 0.21543562412261963, 0.6510943174362183, 0.030051102861762047, 0.1241694912314415, 0.09370101243257523, 0.04215501993894577, 0.15046420693397522, 0.4369931221008301, 0.015025551430881023, 0.10455279797315598, 0.002921635052189231, 0.012415065430104733, 0.0797429233789444, 0.020055105909705162, 0.0389164574444294, 0.10170803964138031, 0.40802592039108276, 0.07449039816856384, 0.09932052344083786, 0.14014698565006256, 0.02506888285279274, 0.08793340623378754, 0.13193148374557495, 0.03136744722723961, 0.09439510107040405, 0.002028428250923753, 0.0017774886218830943, 0.001589283929206431, 0.012212392874062061, 0.6207826733589172, 0.015955574810504913, 0.15587514638900757, 0.13639076054096222, 0.7072834968566895, 0.40677106380462646, 0.09325186163187027, 0.23473744094371796, 0.2636776864528656, 0.08058056980371475, 0.02599373273551464, 0.8162031769752502, 0.020794985815882683, 0.05718620866537094, 0.868341863155365, 0.1183265894651413, 0.03771983087062836, 0.16586391627788544, 0.2779899835586548, 0.2325195074081421, 0.13589473068714142, 0.031002599745988846, 0.0927497148513794, 0.019394321367144585, 0.8646965026855469, 0.02322041243314743, 0.020833522081375122, 0.040658969432115555, 0.06552478671073914, 0.7419421672821045, 0.06821297854185104, 0.022849667817354202, 0.008736638352274895, 0.03125028312206268, 0.02716270461678505, 0.9325861930847168, 0.03802778571844101, 0.6954553723335266, 0.2607957720756531, 0.03984379768371582, 0.06043921783566475, 0.019139084964990616, 0.03324156999588013, 0.8340612053871155, 0.053387973457574844, 0.11517272144556046, 0.8637953996658325, 0.16296403110027313, 0.2577105462551117, 0.24634097516536713, 0.09853638708591461, 0.12127555906772614, 0.11369583755731583, 0.03863602876663208, 0.009080356918275356, 0.4805467426776886, 0.4358571469783783, 0.015846114605665207, 0.007834034040570259, 0.012107143178582191, 0.019611768424510956, 0.38877445459365845, 0.27033475041389465, 0.05960439145565033, 0.161124125123024, 0.09998156130313873, 0.9915277361869812, 0.41434818506240845, 0.2891073524951935, 0.1264113038778305, 0.08544468134641647, 0.08427420258522034, 0.17730243504047394, 0.07300688326358795, 0.7196393013000488, 0.020859109237790108, 0.568228542804718, 0.06359235942363739, 0.10256832838058472, 0.26462629437446594, 0.14617639780044556, 0.1855315864086151, 0.6681687235832214, 0.05211910232901573, 0.9381438493728638, 0.9028515219688416, 0.04756991192698479, 0.14661365747451782, 0.15904834866523743, 0.01633860170841217, 0.572718620300293, 0.03874995931982994, 0.01879662275314331, 0.5983330011367798, 0.4009134769439697, 0.18538708984851837, 0.06179570034146309, 0.6385555267333984, 0.10985901951789856, 0.09900522232055664, 0.39602088928222656, 0.33414262533187866, 0.02475130558013916, 0.13613218069076538, 0.20197448134422302, 0.6511680483818054, 0.0032761667389422655, 0.007700187619775534, 0.023220131173729897, 0.04687070474028587, 0.06578638404607773, 0.1694752424955368, 0.10410622507333755, 0.07021117210388184, 0.6343216300010681, 0.019368600100278854, 0.5256732106208801, 0.06658527255058289, 0.20326030254364014, 0.15069298446178436, 0.052567318081855774, 0.08548135310411453, 0.02910986728966236, 0.3562493324279785, 0.10373277962207794, 0.12614275515079498, 0.23588234186172485, 0.0633024126291275, 0.05111714452505112, 0.22470244765281677, 0.7241595387458801, 0.22373327612876892, 0.7747800350189209, 0.37087443470954895, 0.05151033774018288, 0.03940540924668312, 0.039920512586832047, 0.22664548456668854, 0.08988554030656815, 0.023694755509495735, 0.11074722558259964, 0.03219395875930786, 0.01468044612556696, 0.06045270338654518, 0.01851704530417919, 0.07842513173818588, 0.13343164324760437, 0.7025584578514099, 0.007080046460032463, 0.22746476531028748, 0.026648592203855515, 0.06281454116106033, 0.1617950201034546, 0.47396424412727356, 0.046635035425424576, 0.4229549467563629, 0.08744091540575027, 0.07458635419607162, 0.025011589750647545, 0.03054204024374485, 0.04897687956690788, 0.07304181158542633, 0.13278065621852875, 0.04723304137587547, 0.010562663897871971, 0.04688427597284317, 0.9854604005813599, 0.042787063866853714, 0.06533078104257584, 0.03358554467558861, 0.027144480496644974, 0.67401123046875, 0.15688589215278625, 0.9913187026977539, 0.06299354135990143, 0.9323044419288635, 0.18623171746730804, 0.28884655237197876, 0.02692454867064953, 0.15349146723747253, 0.0003877134877257049, 0.20307570695877075, 0.00189548812340945, 0.04062375798821449, 0.09856538474559784, 0.09395781904459, 0.26288458704948425, 0.06510462611913681, 0.45992475748062134, 0.04241665080189705, 0.07028340548276901, 0.005425385665148497, 0.05602819472551346, 0.1450507640838623, 0.009338032454252243, 0.11703667044639587, 0.6717157959938049, 0.06811176985502243, 0.24672555923461914, 0.02730218693614006, 0.05790937691926956, 0.004310871474444866, 0.03951632231473923, 0.1500183343887329, 0.4059404134750366, 0.38922494649887085, 0.016586290672421455, 0.05528763681650162, 0.29965898394584656, 0.23884259164333344, 0.988577663898468, 0.05757049098610878, 0.41511353850364685, 0.16968144476413727, 0.051510442048311234, 0.30300259590148926, 0.08794011920690536, 0.1532081812620163, 0.16832289099693298, 0.04397005960345268, 0.5461905598640442, 0.42849451303482056, 0.11964457482099533, 0.05008377507328987, 0.3978877663612366, 0.03272538259625435, 0.12326180189847946, 0.07331854104995728, 0.007069594692438841, 0.005473234690725803, 0.14253215491771698, 0.6156248450279236, 0.5712801814079285, 0.03939863294363022, 0.38085344433784485, 0.05202013999223709, 0.08092021942138672, 0.05924515798687935, 0.09392525255680084, 0.1343853622674942, 0.07369519770145416, 0.5043063759803772, 0.08831138908863068, 0.052509475499391556, 0.1646888107061386, 0.060863252729177475, 0.3950144350528717, 0.04176890105009079, 0.1969105303287506, 0.1971484273672104, 0.7289906740188599, 0.07335755228996277, 0.3247341811656952, 0.6435371041297913, 0.031138893216848373, 0.9799908995628357, 0.019712459295988083, 0.27324551343917847, 0.6831138134002686, 0.06326930969953537, 0.3634306788444519, 0.2229139506816864, 0.16479447484016418, 0.18563900887966156, 0.11686447262763977, 0.013748761266469955, 0.8592975735664368, 0.17801539599895477, 0.033704765141010284, 0.007748221978545189, 0.035448115319013596, 0.09084790199995041, 0.25879061222076416, 0.07690110802650452, 0.08542414754629135, 0.0023244665935635567, 0.01782091148197651, 0.21307611465454102, 0.039636824280023575, 0.07189936190843582, 0.5032955408096313, 0.0294971726834774, 0.35580965876579285, 0.15309958159923553, 0.033607225865125656, 0.08215099573135376, 0.04480963200330734, 0.5899934768676758, 0.09708753973245621, 0.5483794808387756, 0.0011145924217998981, 0.2931378185749054, 0.1571575403213501, 0.032784126698970795, 0.06556825339794159, 0.8974654674530029, 0.19598597288131714, 0.07677800953388214, 0.034348055720329285, 0.030307108536362648, 0.5738146305084229, 0.08688037842512131, 0.2494945228099823, 0.0845951959490776, 0.03371547535061836, 0.43789252638816833, 0.015733888372778893, 0.17818118631839752, 0.13962100446224213, 0.06282945722341537, 0.37697672843933105, 0.4188630282878876, 0.14076337218284607, 0.33948814868927, 0.21528516709804535, 0.13248318433761597, 0.16560396552085876, 0.19410525262355804, 0.7979882955551147, 0.30041950941085815, 0.5325170159339905, 0.04267042130231857, 0.03009128011763096, 0.09422024339437485, 0.15665096044540405, 0.7478820085525513, 0.0909586250782013, 0.560899555683136, 0.08644156903028488, 0.04683869704604149, 0.0887005627155304, 0.10994916409254074, 0.024107633158564568, 0.08308839052915573, 0.1911347508430481, 0.329339861869812, 0.1087997779250145, 0.3675668239593506, 0.2157564014196396, 0.17870444059371948, 0.019951054826378822, 0.5292729735374451, 0.047312501817941666, 0.007695406675338745, 0.0014250753447413445, 0.07449107617139816, 0.2177431434392929, 0.707665205001831, 0.9849083423614502, 0.25309091806411743, 0.3254026174545288, 0.42181819677352905, 0.15080933272838593, 0.10772094875574112, 0.6256433129310608, 0.08531499654054642, 0.02930009923875332, 0.9896752834320068, 0.12362377345561981, 0.06664934009313583, 0.21499787271022797, 0.5708193778991699, 0.02364976517856121, 0.11689753830432892, 0.1316462904214859, 0.14093254506587982, 0.380736380815506, 0.05681002140045166, 0.06664252281188965, 0.1059725359082222, 0.4254714846611023, 0.026104936376214027, 0.019351419061422348, 0.03961196541786194, 0.14584995806217194, 0.0871463268995285, 0.14883708953857422, 0.04766423627734184, 0.04584598168730736, 0.011818652041256428, 0.0023377554025501013, 0.25509411096572876, 0.5035336017608643, 0.062109872698783875, 0.06876450031995773, 0.11091049015522003, 0.03456314280629158, 0.013825257308781147, 0.007570974063128233, 0.9439029693603516, 0.9999844431877136, 0.9900906682014465, 0.2921808958053589, 0.12068341672420502, 0.36205026507377625, 0.22231155633926392, 0.9663084745407104, 0.06513328850269318, 0.3039553463459015, 0.06513328850269318, 0.5572514533996582, 0.3409799337387085, 0.2223782241344452, 0.10377650707960129, 0.034592170268297195, 0.29650428891181946, 0.17558051645755768, 0.0508929044008255, 0.39102715253829956, 0.27821454405784607, 0.10348223894834518, 0.003935893997550011, 0.14712101221084595, 0.014114930294454098, 0.07301761955022812, 0.0742391049861908, 0.05550967901945114, 0.044516317546367645, 0.5605255961418152, 0.027008377015590668, 0.012657633982598782, 0.21580228209495544, 0.03828415647149086, 0.07646455615758896, 0.15292911231517792, 0.17938564717769623, 0.13456517457962036, 0.011827625334262848, 0.13902647793293, 0.034341614693403244, 0.004668799228966236, 0.05203371122479439, 0.03345024213194847, 0.1170758530497551, 0.25645187497138977, 0.09849238395690918, 0.027875203639268875, 0.03159189596772194, 0.02230016328394413, 0.3623776435852051, 0.4839962422847748, 0.4839962422847748, 0.21432465314865112, 0.24031266570091248, 0.08591330796480179, 0.2785303294658661, 0.06542863696813583, 0.11557020992040634, 0.5995966792106628, 0.14142921566963196, 0.01737876608967781, 0.07080238312482834, 0.003101261332631111, 0.07396215945482254, 0.05558864772319794, 0.009947442449629307, 0.028203925117850304, 0.18289518356323242, 0.01818256266415119, 0.50697261095047, 0.06845200061798096, 0.15080830454826355, 0.07166069000959396], \"Term\": [\"Accessories, Jewelry\", \"Accessories, Jewelry\", \"Accessories, Jewelry\", \"Accessories, Jewelry\", \"Accounting & Taxes\", \"Accounting & Taxes\", \"Active Recreation\", \"Active Recreation\", \"Active Recreation\", \"Active Recreation\", \"Active Recreation\", \"Active Recreation\", \"Active Recreation\", \"Actor\", \"Actor\", \"Actress\", \"Adult Merchandise\", \"Adult Merchandise\", \"Adult Merchandise\", \"Advertising\", \"Advertising\", \"Advertising\", \"Advertising\", \"Airline\", \"Airline\", \"Airline\", \"Album\", \"Album\", \"Album\", \"Album\", \"Amusement Park\", \"Amusement Park\", \"Amusement Park\", \"Amusement Park\", \"Animals\", \"Animals\", \"Animals\", \"Animals\", \"Animals\", \"Animals\", \"Animals\", \"Animation\", \"Animation\", \"Animation\", \"Animation\", \"Antiques\", \"Antiques\", \"Antiques\", \"Antiques\", \"Application\", \"Application\", \"Application\", \"Application\", \"Application\", \"Application\", \"Application\", \"Application\", \"Archive\", \"Archive\", \"Archive\", \"Archive\", \"Archive\", \"Art and culture\", \"Art and culture\", \"Art and culture\", \"Art and culture\", \"Art and culture\", \"Art and entertainment\", \"Art and entertainment\", \"Art and entertainment\", \"Art and entertainment\", \"Art and entertainment\", \"Art and entertainment\", \"Art and entertainment\", \"Artist\", \"Artist\", \"Astrology, Esoterics\", \"Astrology, Esoterics\", \"Astrology, Esoterics\", \"Astrology, Esoterics\", \"Astrology, Esoterics\", \"Astrology, Esoterics\", \"Athlete\", \"Athlete\", \"Athlete\", \"Auto Dealer\", \"Auto Dealer\", \"Auto Dealer\", \"Auto Dealer\", \"Auto Goods\", \"Auto Goods\", \"Auto Goods\", \"Auto Insurance\", \"Auto Insurance\", \"Auto Racing\", \"Auto Racing\", \"Auto Racing\", \"Auto Racing\", \"Auto Service Center\", \"Auto Service Center\", \"Auto Service Center\", \"Auto Service Center\", \"Auto Service Center\", \"Auto Service Center \", \"Auto Service Center \", \"Baby Food\", \"Band\", \"Band\", \"Band\", \"Band\", \"Band\", \"Band\", \"Band\", \"Bank\", \"Bank, Financial Institution\", \"Bank, Financial Institution\", \"Bank, Financial Institution\", \"Bank, Financial Institution\", \"Bank, Financial Institution\", \"Bank, Financial Institution\", \"Bank, Financial Institution\", \"Bar\", \"Bar\", \"Bar, Pub\", \"Bar, Pub\", \"Bar, Pub\", \"Bar, Pub\", \"Bar, Pub\", \"Basketball\", \"Basketball Team\", \"Beauty Salon\", \"Beauty Salon\", \"Beauty Salon\", \"Beauty Salon\", \"Billiard Room\", \"Billiard Room\", \"Billiard Room\", \"Blog\", \"Blog\", \"Blog\", \"Blog\", \"Blog\", \"Blog\", \"Blog\", \"Blog\", \"Blogger\", \"Blogger\", \"Blogger\", \"Blogger\", \"Blogger\", \"Blogger\", \"Blogger\", \"Blues\", \"Blues\", \"Board Games\", \"Board Games\", \"Board Games\", \"Board Games\", \"Board Games\", \"Board Games\", \"Book\", \"Book\", \"Book\", \"Book\", \"Book\", \"Book\", \"Book\", \"Bookstore\", \"Bookstore\", \"Bookstore\", \"Bookstore\", \"Bookstore\", \"Bookstore\", \"Bookstore\", \"Boutique\", \"Boutique\", \"Bowling\", \"Boxer\", \"Bridal Salon\", \"Business\", \"Business\", \"Business\", \"Business\", \"Business\", \"Business\", \"Business\", \"Business\", \"Caf\\u00e9\", \"Caf\\u00e9\", \"Caf\\u00e9\", \"Caf\\u00e9, Restaurant\", \"Caf\\u00e9, Restaurant\", \"Caf\\u00e9, Restaurant\", \"Caf\\u00e9, Restaurant\", \"Caf\\u00e9, Restaurant\", \"Caf\\u00e9, Restaurant\", \"Caf\\u00e9, Restaurant\", \"Caf\\u00e9, Restaurant\", \"Car Manufacturer\", \"Car Manufacturer\", \"Car Manufacturer\", \"Car Manufacturer\", \"Car Owners\", \"Car Owners\", \"Car Owners\", \"Car Owners\", \"Car Rental\", \"Car Rental\", \"Car Rental\", \"Car Wash\", \"Car Wash\", \"Car Wash\", \"Car Wash\", \"Cars\", \"Cars\", \"Cars\", \"Cartoons\", \"Cartoons\", \"Cartoons\", \"Cartoons\", \"Character\", \"Character\", \"Character\", \"Character\", \"Charity\", \"Charity\", \"Charity\", \"Charity\", \"Charity\", \"Charity\", \"Charity\", \"Children's Clothing and Shoes\", \"Circus\", \"Circus\", \"Circus\", \"Circus\", \"Circus\", \"City Community\", \"City Community\", \"City Community\", \"City Community\", \"City Community\", \"City Community\", \"City Community\", \"City Community\", \"Civil servant\", \"Civil servant\", \"Classical Music\", \"Classical Music\", \"Classical Music\", \"Classical Music\", \"Classifieds\", \"Classifieds\", \"Classifieds\", \"Classifieds\", \"Classifieds\", \"Classifieds\", \"Classifieds\", \"Cleaning Services\", \"Cleaning Services\", \"Closed group\", \"Closed group\", \"Closed group\", \"Closed group\", \"Closed group\", \"Closed group\", \"Closed group\", \"Closed group\", \"Clothing, Shoes\", \"Clothing, Shoes\", \"Clothing, Shoes\", \"Clothing, Shoes\", \"Clothing, Shoes\", \"Clothing, Shoes\", \"Clothing, Shoes\", \"Clothing, Shoes\", \"Club\", \"Club\", \"Club\", \"Club\", \"Coffee Shop\", \"Coffee Shop\", \"Coffee Shop\", \"Colleagues\", \"Colleagues\", \"Colleagues\", \"Colleagues\", \"Colleagues\", \"Colleagues\", \"Colleagues\", \"Colleagues\", \"Comedian\", \"Comedian\", \"Comedian\", \"Comedian\", \"Comedian\", \"Community Center\", \"Community Center\", \"Community Center\", \"Community Center\", \"Community Center\", \"Community Center\", \"Community Center\", \"Company\", \"Company\", \"Company\", \"Company\", \"Composer\", \"Composer\", \"Composer\", \"Computer Services\", \"Computer Services\", \"Computer Services\", \"Computer Services\", \"Computers\", \"Computers\", \"Computers\", \"Computers\", \"Computers & Hardware\", \"Computers & Hardware\", \"Concert\", \"Concert\", \"Concert\", \"Concert\", \"Concert\", \"Concert Hall\", \"Concert Hall\", \"Concert Hall\", \"Concert Hall\", \"Construction & Repair Work\", \"Construction & Repair Work\", \"Construction & Repair Work\", \"Construction & Repair Work\", \"Construction & Repair Work\", \"Construction Materials, Tools\", \"Construction Materials, Tools\", \"Construction Materials, Tools\", \"Consulting, Business Services\", \"Consulting, Business Services\", \"Consulting, Business Services\", \"Consulting, Business Services\", \"Consumer goods\", \"Consumer goods\", \"Consumer goods\", \"Consumer goods\", \"Consumer services\", \"Consumer services\", \"Control of assets\", \"Cooking\", \"Cooking\", \"Cooking\", \"Cooking\", \"Cosmetology\", \"Cosmetology\", \"Country\", \"Country\", \"Country\", \"Country\", \"Country\", \"Country\", \"Country\", \"Country\", \"Country House & Garden Goods\", \"Country House & Garden Goods\", \"Country House & Garden Goods\", \"Courses\", \"Courses\", \"Creative Work\", \"Creative Work\", \"Creative Work\", \"Creative Work\", \"Creative Work\", \"Creative Work\", \"Creative Work\", \"Creative Work\", \"Creative Work\", \"Cultural Center\", \"Cultural Center\", \"Cultural Center\", \"Cultural Center\", \"Cultural Center\", \"Cultural Center\", \"Cultural Center\", \"Cultural Center\", \"Culture\", \"Culture\", \"Culture\", \"Culture\", \"Culture\", \"Culture\", \"Culture\", \"Culture\", \"DJ\", \"DJ\", \"DJ\", \"DJ\", \"Dance Music\", \"Dance Music\", \"Dance Music\", \"Dance Music\", \"Dance Music\", \"Dance Music\", \"Dance Music\", \"Dance School\", \"Dance School\", \"Dating\", \"Dating\", \"Dating\", \"Dating\", \"Dating\", \"Dating\", \"Dating\", \"Dating\", \"Day Spa\", \"Day Spa\", \"Day Spa\", \"Day Spa\", \"Delivery Service\", \"Delivery Service\", \"Dentistry\", \"Dentistry\", \"Design\", \"Design\", \"Design\", \"Design\", \"Design\", \"Design\", \"Design\", \"Design Studio\", \"Design Studio\", \"Design Studio\", \"Design Studio\", \"Design Studio\", \"Design Studio\", \"Design Studio\", \"Design Studio\", \"Designer\", \"Designer\", \"Designer\", \"Designer\", \"Designer\", \"Detective agency\", \"Detective agency\", \"Detective agency\", \"Detective agency\", \"Diets, Healthy Eating\", \"Diets, Healthy Eating\", \"Diets, Healthy Eating\", \"Diets, Healthy Eating\", \"Diets, Healthy Eating\", \"Diets, Healthy Eating\", \"Diets, Healthy Eating\", \"Discussion \\u0421lub\", \"Discussion \\u0421lub\", \"Discussion \\u0421lub\", \"Discussion \\u0421lub\", \"Discussion \\u0421lub\", \"Discussion \\u0421lub\", \"Discussion \\u0421lub\", \"Driving School\", \"Driving School\", \"Driving School\", \"Driving School\", \"Driving School\", \"Driving School\", \"Economics and finance\", \"Economics and finance\", \"Economics and finance\", \"Economics and finance\", \"Economics and finance\", \"Education\", \"Education\", \"Education\", \"Education\", \"Education\", \"Education\", \"Education\", \"Education\", \"Education\", \"Education\", \"Education\", \"Educational institution\", \"Educational institution\", \"Educational institution\", \"Educational institution\", \"Educational institution\", \"Educational institution\", \"Educational institution\", \"Electronic Music\", \"Electronic Music\", \"Electronic Music\", \"Electronics\", \"Electronics\", \"Electronics\", \"Electronics\", \"Electronics\", \"Electronics\", \"Electronics\", \"Entertainment\", \"Entertainment\", \"Entertainment\", \"Entertainment\", \"Entertainment\", \"Entertainment\", \"Entrepreneur\", \"Entrepreneur\", \"Entrepreneur\", \"Entrepreneur\", \"Entrepreneur\", \"Equipment\", \"Equipment\", \"Equipment\", \"Equipment\", \"Erotic\", \"Erotic\", \"Erotic\", \"Erotic\", \"Erotic\", \"Esports\", \"Esports Organization\", \"Esports Player\", \"Esports Team\", \"Event Planning\", \"Event Planning\", \"Event Planning\", \"Event Planning\", \"Events Planning\", \"Exhibition Center\", \"Extreme Sports\", \"Extreme Sports\", \"Extreme Sports\", \"Extreme Sports\", \"Extreme Sports\", \"Extreme Sports\", \"Extreme Sports\", \"Fan Club\", \"Fan Club\", \"Fan Club\", \"Fan Club\", \"Fan Club\", \"Fan Club\", \"Fan Club\", \"Fan Club\", \"Fashion\", \"Fashion, Clothing, Shoes\", \"Fashion, Clothing, Shoes\", \"Fashion, Clothing, Shoes\", \"Fashion, Clothing, Shoes\", \"Fashion, Clothing, Shoes\", \"Fashion, Clothing, Shoes\", \"Fashion, Clothing, Shoes\", \"Festival\", \"Festival\", \"Festival\", \"Festival\", \"Fictional Character\", \"Fictional Character\", \"Fictional Character\", \"Fictional Character\", \"Fictional Character\", \"Fictional Character\", \"Finance\", \"Finance\", \"Finance\", \"Finance\", \"Finance\", \"Finance\", \"Finance\", \"Finance\", \"Financial Markets\", \"Financial Markets\", \"Financial Markets\", \"Financial Markets\", \"Fishing\", \"Fishing\", \"Fitness\", \"Fitness\", \"Fitness\", \"Fitness\", \"Fitness\", \"Fitness\", \"Fitness Center\", \"Fitness Center\", \"Fitness Center\", \"Fitness Center\", \"Food & Drink\", \"Food & Drink\", \"Food Delivery\", \"Food Delivery\", \"Food Delivery\", \"Food Delivery\", \"Food Delivery\", \"Food Delivery\", \"Food, Drink\", \"Food, Drink\", \"Food, Drink\", \"Food, Drink\", \"Food, Drink\", \"Food, Drink\", \"Food, Drink\", \"Food, Drink\", \"Food, Drink\", \"Food, Recipes\", \"Food, Recipes\", \"Food, Recipes\", \"Food, Recipes\", \"Food, Recipes\", \"Food, Recipes\", \"Food, Recipes\", \"Foodservice\", \"Foodservice\", \"Foodservice\", \"Football\", \"Football Team\", \"Freight Transportation\", \"Freight Transportation\", \"Friends\", \"Friends\", \"Friends\", \"Friends\", \"Friends\", \"Friends\", \"Furniture\", \"Furniture\", \"Furniture\", \"Furniture\", \"Furniture & Decor\", \"Furniture & Decor\", \"Gallery\", \"Gallery\", \"Gallery\", \"Gallery\", \"Gallery\", \"Gambling\", \"Gambling\", \"Gambling\", \"Gambling\", \"Game\", \"Game\", \"Game\", \"Games\", \"Games\", \"Games\", \"Games\", \"Games, Toys\", \"Games, Toys\", \"Games, Toys\", \"Games, Toys\", \"Games, Toys\", \"Gardening\", \"Gardening\", \"Gardening\", \"Gardening\", \"Gardening\", \"Gender Relations\", \"Gender Relations\", \"Gender Relations\", \"Gender Relations\", \"Gender Relations\", \"Government Organization\", \"Government Organization\", \"Government Organization\", \"Government Organization\", \"Government Organization\", \"Government Organization\", \"Government Organization\", \"Government Organization\", \"Graduates\", \"Graduates\", \"Graduates\", \"Graduates\", \"Grammar School\", \"Grammar School\", \"Grammar School\", \"Grammar School\", \"Graphic Arts\", \"Group of artists\", \"Group of artists\", \"Group of artists\", \"Group of artists\", \"Group of artists\", \"Group of artists\", \"Guided Tours\", \"Guided Tours\", \"Guided Tours\", \"Guided Tours\", \"Health Resort\", \"Health Resort, Holiday Home\", \"Health Resort, Holiday Home\", \"Health Resort, Holiday Home\", \"Health Resort, Holiday Home\", \"Healthy Lifestyle\", \"Healthy Lifestyle\", \"Healthy Lifestyle\", \"Healthy Lifestyle\", \"Healthy Lifestyle\", \"Healthy Lifestyle\", \"Healthy Lifestyle\", \"Healthy Lifestyle\", \"Healthy Lifestyle\", \"Healthy Lifestyle\", \"Heavy Metal\", \"Heavy Metal\", \"Heavy Metal\", \"History\", \"History\", \"History\", \"History\", \"History\", \"History\", \"Hockey\", \"Hockey Team\", \"Hockey Team\", \"Holiday Home\", \"Home Appliances\", \"Home Appliances\", \"Home Appliances\", \"Home Appliances\", \"Hospital\", \"Hospital\", \"Hospital\", \"Hospital\", \"Hospital\", \"Hostel\", \"Hostel\", \"Hosting, Domain Registration\", \"Hosting, Domain Registration\", \"Hosting, Domain Registration\", \"Hosting, Domain Registration\", \"Hotel\", \"Hotel\", \"Hotel\", \"Hotel\", \"Household Products\", \"Household Products\", \"Household Products\", \"Household Products\", \"Household Products\", \"Household Products\", \"Humor\", \"Humor\", \"Humor\", \"Humor\", \"Humor\", \"Humor\", \"Humor\", \"Humor\", \"Humor\", \"Humor\", \"Humor\", \"Hunting\", \"Hunting\", \"Hunting\", \"Hunting & Fishing\", \"Hunting & Fishing\", \"Ice Rink\", \"Ice Rink\", \"Indie\", \"Indie\", \"Institute\", \"Institute\", \"Institute\", \"Institute\", \"Institute\", \"Institute\", \"Institute\", \"Insurance\", \"Insurance\", \"Insurance\", \"Insurance\", \"Insurance Company\", \"Intellectual games\", \"Intellectual games\", \"Intellectual games\", \"Intellectual games\", \"Intellectual games\", \"Interior Design\", \"Interior Design\", \"Interior Design\", \"Interior Design\", \"Interior Design\", \"Internet Caf\\u00e9\", \"Internet Caf\\u00e9\", \"Internet Media\", \"Internet Media\", \"Internet Media\", \"Internet Media\", \"Internet Media\", \"Internet Media\", \"Internet Media\", \"Internet Media\", \"Internet Media\", \"Internet Media\", \"Internet Service Provider\", \"Internet Service Provider\", \"Internet Service Provider\", \"Internet Service Provider\", \"Internet store\", \"Internet store\", \"Internet store\", \"Internet store\", \"Internet store\", \"Internet store\", \"Investments\", \"Item\", \"Item\", \"Item\", \"Item\", \"Item\", \"Jazz\", \"Jazz\", \"Jazz\", \"Jewelry\", \"Jewelry\", \"Jewelry\", \"Jewelry\", \"Jewelry\", \"Job Search\", \"Job Search\", \"Job Search\", \"Job Search\", \"Job Search\", \"Job Search\", \"Job Search\", \"Job Search\", \"Journalist\", \"Journalist\", \"Journalist\", \"Journalist\", \"Journalist\", \"Journalist\", \"Journalist\", \"Kids Goods\", \"Kids Goods\", \"Kids Goods\", \"Kindergarten\", \"Kindergarten\", \"Kindergarten\", \"Kindergarten\", \"Languages\", \"Languages\", \"Languages\", \"Languages\", \"Languages\", \"Languages\", \"Languages\", \"Languages\", \"Latin Music\", \"Latin Music\", \"Latin Music\", \"Legal Services\", \"Legal Services\", \"Legal Services\", \"Legal Services\", \"Legal Services\", \"Legal Services\", \"Library\", \"Library\", \"Library\", \"Library\", \"Library\", \"Library\", \"Literature\", \"Literature\", \"Literature\", \"Literature\", \"Literature\", \"Literature\", \"Lottery, Sweepstake\", \"Lottery, Sweepstake\", \"Lyceum\", \"Lyceum\", \"Lyceum\", \"Lyrics, Chords\", \"Lyrics, Chords\", \"Lyrics, Chords\", \"Manufacturing, Industry\", \"Manufacturing, Industry\", \"Manufacturing, Industry\", \"Manufacturing, Industry\", \"Market\", \"Market\", \"Market\", \"Martial Arts\", \"Martial Arts\", \"Martial Arts\", \"Mass media\", \"Mass media\", \"Mass media\", \"Mass media\", \"Mass media\", \"Mass media\", \"Mass media\", \"Medical Service\", \"Medical Service\", \"Medical Service\", \"Medical Service\", \"Medical Service\", \"Medical services\", \"Medicine\", \"Medicine\", \"Medicine\", \"Medicine\", \"Medicine\", \"Medicine\", \"Military Arts\", \"Military Arts\", \"Military Arts\", \"Military Arts\", \"Military Arts\", \"Mobile Network Carrier\", \"Mobile Network Carrier\", \"Mobile Network Carrier\", \"Mobile Stores\", \"Mobile Stores\", \"Mobile Technology\", \"Mobile Technology\", \"Mobile Technology\", \"Mobile Technology\", \"Mobile Technology\", \"Mobile Technology\", \"Mobile Technology\", \"Mobile Technology\", \"Model\", \"Model\", \"Model\", \"Model\", \"Modeling Agency\", \"Modeling Agency\", \"Modeling Agency\", \"Modeling Agency\", \"Motorcycles and Motor Vehicles\", \"Motorcycling\", \"Motorcycling\", \"Motorcycling\", \"Motorcycling\", \"Motorsports\", \"Motorsports\", \"Movie\", \"Movie\", \"Movie\", \"Movie\", \"Movie\", \"Movie\", \"Movie\", \"Movie\", \"Movie\", \"Movie Director, Producer\", \"Movie Director, Producer\", \"Movie Director, Producer\", \"Movie Director, Producer\", \"Movie Director, Producer\", \"Movie Theater\", \"Movie Theater\", \"Movie Theater\", \"Movie Theater\", \"Movie Theater\", \"Movie Theater\", \"Movie Theater\", \"Movie Theater\", \"Movie Theater\", \"Movie Theater\", \"Movies\", \"Movies\", \"Movies\", \"Movies\", \"Movies\", \"Movies\", \"Movies\", \"Movies\", \"Movies\", \"Movies\", \"Museum, Gallery, Exhibition\", \"Museum, Gallery, Exhibition\", \"Museum, Gallery, Exhibition\", \"Museum, Gallery, Exhibition\", \"Museum, Gallery, Exhibition\", \"Museum, Gallery, Exhibition\", \"Music\", \"Music\", \"Music\", \"Music\", \"Music\", \"Music\", \"Music\", \"Music\", \"Music\", \"Music\", \"Music Sharing\", \"Music Sharing\", \"Music Sharing\", \"Music Sharing\", \"Music Sharing\", \"Music Sharing\", \"Music Sharing\", \"Music Sharing\", \"Music Sharing\", \"Musical instruments\", \"Musical instruments\", \"Musician\", \"Musician\", \"Musician\", \"Musician\", \"Musician\", \"Namesakes\", \"National Park, Nature Reserve\", \"National Park, Nature Reserve\", \"National Park, Nature Reserve\", \"Neighbours\", \"Neighbours\", \"Neighbours\", \"Neighbours\", \"Neighbours\", \"Neighbours\", \"Neighbours\", \"Neighbours\", \"Notary Public\", \"Notary Public\", \"Office Supplies\", \"Office Supplies\", \"Online Game\", \"Online Game\", \"Online Game\", \"Open group\", \"Open group\", \"Open group\", \"Open group\", \"Open group\", \"Open group\", \"Open group\", \"Open group\", \"Open group\", \"Open group\", \"Organization\", \"Organization\", \"Organization\", \"Organization\", \"Organization\", \"Organization\", \"Other Hobbies\", \"Other Hobbies\", \"Other Hobbies\", \"Other Hobbies\", \"Other Hobbies\", \"Other Hobbies\", \"Other Hobbies\", \"Other Hobbies\", \"Other Hobbies\", \"Other Services\", \"Other Services\", \"Other Services\", \"Other Services\", \"Other Services\", \"Other Services\", \"Parents & Children\", \"Parents & Children\", \"Parents & Children\", \"Parents & Children\", \"Party Supplies\", \"Party Supplies\", \"Party Supplies\", \"Party Supplies\", \"Pawnshop\", \"Pawnshop\", \"Payment System\", \"Payment System\", \"Payment System\", \"Perfume, Cosmetics\", \"Perfume, Cosmetics\", \"Perfume, Cosmetics\", \"Personal Care\", \"Personal Care\", \"Personal Care\", \"Personal Care\", \"Pet Supplies\", \"Pet Supplies\", \"Pet Supplies\", \"Pet Supplies\", \"Pharmacy\", \"Pharmacy, Ophthalmology\", \"Pharmacy, Ophthalmology\", \"Pharmacy, Ophthalmology\", \"Philosophy\", \"Philosophy\", \"Philosophy\", \"Philosophy\", \"Philosophy\", \"Philosophy\", \"Philosophy\", \"Photo & Video Capture\", \"Photo & Video Capture\", \"Photo & Video Capture\", \"Photo & Video Capture\", \"Photographer\", \"Photographer\", \"Photographer\", \"Photographer\", \"Photography\", \"Photography\", \"Photography\", \"Photography\", \"Photography\", \"Photography\", \"Photography\", \"Photography\", \"Photography\", \"Political Party\", \"Political Party\", \"Political Party\", \"Political Party\", \"Political Party\", \"Politician\", \"Politician\", \"Politician, Civil Servant\", \"Politician, Civil Servant\", \"Politician, Civil Servant\", \"Politician, Civil Servant\", \"Politics\", \"Politics\", \"Politics\", \"Politics\", \"Politics\", \"Politics\", \"Pregnancy, Childbirth\", \"Pregnancy, Childbirth\", \"Pregnancy, Childbirth\", \"Pregnancy, Childbirth\", \"Pregnancy, Childbirth\", \"Printed Matter\", \"Printed Matter\", \"Printed Matter\", \"Printed Matter\", \"Printed Matter\", \"Printed Matter\", \"Printed Matter\", \"Printed Matter\", \"Printed Matter\", \"Producer\", \"Producer\", \"Products for crafts\", \"Products for crafts\", \"Products for crafts\", \"Products for crafts\", \"Products, Stores\", \"Products, Stores\", \"Products, Stores\", \"Products, Stores\", \"Products, Stores\", \"Products, Stores\", \"Products, Stores\", \"Professional services\", \"Professional services\", \"Professional services\", \"Programming\", \"Programming\", \"Programming\", \"Programming\", \"Programming\", \"Psychology\", \"Psychology\", \"Psychology\", \"Psychology\", \"Psychology\", \"Pub\", \"Pub\", \"Public Movement\", \"Public Movement\", \"Public Movement\", \"Public Organization\", \"Public Organization\", \"Public Organization\", \"Public Organization\", \"Public Organization\", \"Public Organization\", \"Public Organization\", \"Public Organization\", \"Public Organization\", \"Public figure\", \"Public figure\", \"Public figure\", \"Public figure\", \"Public figure\", \"Public figure\", \"Public figure\", \"Public figure\", \"Public figure\", \"Public figure\", \"Public page\", \"Public page\", \"Public page\", \"Public page\", \"Public page\", \"Public page\", \"Public page\", \"Public page\", \"Public page\", \"Public page\", \"Publicist\", \"Publicist\", \"Publicist\", \"Quest\", \"Quest\", \"Quest\", \"Quest\", \"R&B\", \"R&B\", \"R&B\", \"R&B\", \"R&B\", \"Racing Driver\", \"Radio Station\", \"Radio Station\", \"Radio Station\", \"Radio Station\", \"Radio Station\", \"Radio Station\", \"Radio Station\", \"Rap, Hip-Hop\", \"Rap, Hip-Hop\", \"Rap, Hip-Hop\", \"Rap, Hip-Hop\", \"Real Estate\", \"Real Estate\", \"Real Estate\", \"Real Estate\", \"Real Estate\", \"Real Estate\", \"Real Estate\", \"Real Estate\", \"Record label\", \"Record label\", \"Record label\", \"Recording\", \"Recording\", \"Recording\", \"Recording Studio\", \"Recording Studio\", \"Recording Studio\", \"Recording Studio\", \"Recording Studio\", \"Recreation Center\", \"Recreation Center\", \"Relatives\", \"Relatives\", \"Relatives\", \"Relatives\", \"Relatives\", \"Relatives\", \"Religion\", \"Religion\", \"Religion\", \"Religion\", \"Religion\", \"Religion\", \"Religion\", \"Religious Establishment\", \"Religious Establishment\", \"Religious Establishment\", \"Religious Establishment\", \"Religious Establishment\", \"Religious Establishment\", \"Religious Organization\", \"Remembrance\", \"Remembrance\", \"Remembrance\", \"Remembrance\", \"Remembrance\", \"Rental Services\", \"Rental Services\", \"Rental Services\", \"Rental Services\", \"Repair Work\", \"Repair Work\", \"Repair Work\", \"Repair Work\", \"Repair, Construction\", \"Repair, Construction\", \"Repair, Construction\", \"Retail\", \"Retail\", \"Retirement Fund\", \"Rock\", \"Rock\", \"Rock\", \"Rock\", \"Rock\", \"Rock\", \"Rock\", \"Role-Playing Games\", \"Role-Playing Games\", \"Roller Skating\", \"Roller Skating\", \"Roller Skating\", \"Roller Skating\", \"Satellite TV Operator\", \"Satellite TV Operator\", \"Satellite TV Operator\", \"Satellite TV Operator\", \"Satellite TV Operator\", \"Science\", \"Science\", \"Science\", \"Science\", \"Science\", \"Science\", \"Science\", \"Scientist, Teacher\", \"Scientist, Teacher\", \"Scientist, Teacher\", \"Scientist, Teacher\", \"Scientist, Teacher\", \"Security\", \"Security\", \"Security\", \"Security\", \"Security\", \"Series\", \"Series\", \"Series\", \"Series\", \"Series\", \"Series\", \"Series\", \"Service\", \"Service\", \"Service\", \"Services for Car Owners\", \"Services for Car Owners\", \"Shopping Mall\", \"Shopping Mall\", \"Shopping Mall\", \"Shopping Mall\", \"Shopping Mall\", \"Shopping Mall\", \"Shopping Mall\", \"Shopping Mall\", \"Shopping Mall\", \"Shopping Mall\", \"Show\", \"Show\", \"Show\", \"Show\", \"Show\", \"Show\", \"Show Business\", \"Show Business\", \"Show Business\", \"Show Business\", \"Show Business\", \"Show Business\", \"Show, Program\", \"Show, Program\", \"Show, Program\", \"Show, Program\", \"Show, Program\", \"Show, Program\", \"Show, Program\", \"Show, Program\", \"Show, Program\", \"Show, Program\", \"Show, Program\", \"Showroom\", \"Singer\", \"Singer\", \"Singer\", \"Singer\", \"Singer\", \"Singer\", \"Soccer Team\", \"Soccer player\", \"Soccer player\", \"Society\", \"Society\", \"Society\", \"Society\", \"Society\", \"Society\", \"Society\", \"Society\", \"Society\", \"Software\", \"Software\", \"Software\", \"Software\", \"Software\", \"Software\", \"Software\", \"Spiritual figure\", \"Spiritual figure\", \"Spiritual figure\", \"Spiritual figure\", \"Spiritual figure\", \"Sport\", \"Sport\", \"Sport\", \"Sport\", \"Sport\", \"Sport\", \"Sport\", \"Sport\", \"Sporting Goods\", \"Sporting Goods\", \"Sporting Goods\", \"Sporting Goods\", \"Sporting Goods\", \"Sports\", \"Sports Clothing & Footwear\", \"Sports Clothing & Footwear\", \"Sports Clothing & Footwear\", \"Sports Clothing & Footwear\", \"Sports Clothing & Footwear\", \"Sports Club\", \"Sports Club\", \"Sports Club\", \"Sports Club\", \"Sports Club\", \"Sports Complex\", \"Sports Complex\", \"Sports Complex\", \"Sports Complex\", \"Sports Organization\", \"Sports Organization\", \"Sports Organization\", \"Sports Organization\", \"Sports Organization\", \"Sports Organization\", \"Sports Organization\", \"Sports Supplements\", \"Sports Supplements\", \"Sports Supplements\", \"Sports Team\", \"Sports Team\", \"Sports Team\", \"Sports Team\", \"Sports Team\", \"Sports Team\", \"Sports Team\", \"Sports and beauty\", \"Sports and beauty\", \"Sports and beauty\", \"Sports and beauty\", \"Sports and beauty\", \"Sports and beauty\", \"Sports and beauty\", \"Sports team\", \"Sports team\", \"Sports team\", \"Store\", \"Store\", \"Store\", \"Streamer\", \"Streamer\", \"Studio\", \"Studio\", \"Style, Fashion\", \"Style, Fashion\", \"Style, Fashion\", \"Style, Fashion\", \"Style, Fashion\", \"Summer Sports\", \"Summer Sports\", \"Summer Sports\", \"TV Channel\", \"TV Channel\", \"TV Channel\", \"TV Channel\", \"TV Channel\", \"TV Channel\", \"TV Channel\", \"TV Channel\", \"TV Channel\", \"TV Channel\", \"TV Channel\", \"TV Host\", \"TV Host\", \"TV Host\", \"TV Host\", \"TV Host\", \"TV show\", \"TV show\", \"TV show\", \"TV show\", \"TV show\", \"TV show\", \"Tattoo Studio\", \"Tattoo Studio\", \"Tattoo Studio\", \"Tattoo Studio\", \"Taxi\", \"Taxi\", \"Taxi\", \"Technology\", \"Technology\", \"Technology\", \"Technology\", \"Technology\", \"Technology\", \"Technology, Electronics\", \"Technology, Electronics\", \"Technology, Electronics\", \"Technology, Electronics\", \"Technology, Electronics\", \"Technology, Electronics\", \"Telecommunications\", \"Telecommunications\", \"Telecommunications\", \"Telecommunications\", \"Tennis\", \"Tennis\", \"Tennis\", \"Tennis\", \"Tennis\", \"Theater\", \"Theater\", \"Theatre\", \"Theatre\", \"Theatre\", \"Theatre\", \"Theatre\", \"Tickets, Hotel Reservations\", \"Tickets, Hotel Reservations\", \"Tickets, Hotel Reservations\", \"Tourism, Travel\", \"Tourism, Travel\", \"Tourism, Travel\", \"Tourism, Travel\", \"Tourism, Travel\", \"Tourism, Travel\", \"Tourism, Travel\", \"Track & Field\", \"Track & Field\", \"Track & Field\", \"Track & Field\", \"Training Courses\", \"Training Courses\", \"Training Courses\", \"Training Courses\", \"Training Courses\", \"Training Courses\", \"Training Courses\", \"Transport\", \"Transport\", \"Transport\", \"Transportation services\", \"Travel\", \"Travel\", \"Travel\", \"Travel Agency\", \"Travel Agency\", \"Travel Agency\", \"Travel Agency\", \"Travel Agency\", \"Travel Firm \", \"Travel Information\", \"Travel Information\", \"Travel Information\", \"Travel Information\", \"Travel Information\", \"University\", \"University\", \"University\", \"University\", \"University\", \"University\", \"University\", \"VK\", \"VK\", \"VK\", \"VK\", \"VK\", \"VK\", \"VK\", \"VK\", \"VK\", \"VK\", \"VK\", \"Veterinary Clinic\", \"Veterinary Clinic\", \"Veterinary Clinic\", \"Veterinary Clinic\", \"Veterinary Clinic\", \"Video Game\", \"Video Game\", \"Video Game\", \"Video Game\", \"Video Games\", \"Visa Center\", \"Vocational School\", \"Vocational School\", \"Vocational School\", \"Vocational School\", \"Volleyball Team\", \"Watches\", \"Watches\", \"Watches\", \"Watches\", \"Water Transportation\", \"Water Transportation\", \"Water Transportation\", \"Water Transportation\", \"Water Transportation\", \"Web Studio\", \"Web Studio\", \"Web Studio\", \"Web Studio\", \"Web Studio\", \"Website\", \"Website\", \"Website\", \"Website\", \"Website\", \"Website\", \"Website\", \"Website\", \"Website\", \"Websites\", \"Websites\", \"Websites\", \"Websites\", \"Websites\", \"Websites\", \"Websites\", \"Websites\", \"Websites\", \"Websites\", \"Websites\", \"Winter Sports\", \"Winter Sports\", \"Winter Sports\", \"Winter Sports\", \"Winter Sports\", \"Winter Sports\", \"Winter Sports\", \"Winter Sports\", \"Winter Sports\", \"Wrestler\", \"Wrestler\", \"Writer\", \"Writer\", \"Writer\", \"Writer\", \"Writer\", \"Writer\", \"Youth Organization\", \"Youth Organization\", \"Youth Organization\", \"Youth Organization\", \"Youth Organization\", \"Youth Organization\", \"Youth Organization\", \"Youth Organization\", \"Youth Organization\", \"Zoo\", \"Zoo\", \"Zoo\", \"Zoo\", \"Zoo\", \"Zoo\"]}, \"R\": 30, \"lambda.step\": 0.01, \"plot.opts\": {\"xlab\": \"PC1\", \"ylab\": \"PC2\"}, \"topic.order\": [2, 3, 7, 4, 6, 8, 10, 11, 9, 5, 1]};\n",
       "\n",
       "function LDAvis_load_lib(url, callback){\n",
       "  var s = document.createElement('script');\n",
       "  s.src = url;\n",
       "  s.async = true;\n",
       "  s.onreadystatechange = s.onload = callback;\n",
       "  s.onerror = function(){console.warn(\"failed to load library \" + url);};\n",
       "  document.getElementsByTagName(\"head\")[0].appendChild(s);\n",
       "}\n",
       "\n",
       "if(typeof(LDAvis) !== \"undefined\"){\n",
       "   // already loaded: just create the visualization\n",
       "   !function(LDAvis){\n",
       "       new LDAvis(\"#\" + \"ldavis_el4313848266197203377938972\", ldavis_el4313848266197203377938972_data);\n",
       "   }(LDAvis);\n",
       "}else if(typeof define === \"function\" && define.amd){\n",
       "   // require.js is available: use it to load d3/LDAvis\n",
       "   require.config({paths: {d3: \"https://cdnjs.cloudflare.com/ajax/libs/d3/3.5.5/d3.min\"}});\n",
       "   require([\"d3\"], function(d3){\n",
       "      window.d3 = d3;\n",
       "      LDAvis_load_lib(\"https://cdn.rawgit.com/bmabey/pyLDAvis/files/ldavis.v1.0.0.js\", function(){\n",
       "        new LDAvis(\"#\" + \"ldavis_el4313848266197203377938972\", ldavis_el4313848266197203377938972_data);\n",
       "      });\n",
       "    });\n",
       "}else{\n",
       "    // require.js not available: dynamically load d3 & LDAvis\n",
       "    LDAvis_load_lib(\"https://cdnjs.cloudflare.com/ajax/libs/d3/3.5.5/d3.min.js\", function(){\n",
       "         LDAvis_load_lib(\"https://cdn.rawgit.com/bmabey/pyLDAvis/files/ldavis.v1.0.0.js\", function(){\n",
       "                 new LDAvis(\"#\" + \"ldavis_el4313848266197203377938972\", ldavis_el4313848266197203377938972_data);\n",
       "            })\n",
       "         });\n",
       "}\n",
       "</script>"
      ],
      "text/plain": [
       "<IPython.core.display.HTML object>"
      ]
     },
     "execution_count": 62,
     "metadata": {},
     "output_type": "execute_result"
    }
   ],
   "source": [
    "import pyLDAvis.gensim\n",
    "import pickle \n",
    "import pyLDAvis\n",
    "# Visualize the topics\n",
    "# pyLDAvis.enable_notebook()\n",
    "LDAvis_prepared = pyLDAvis.gensim.prepare(lda_train, corpus, dictionary)\n",
    "pyLDAvis.display(LDAvis_prepared)"
   ]
  },
  {
   "cell_type": "code",
   "execution_count": 36,
   "metadata": {},
   "outputs": [],
   "source": [
    "activity_classes = []\n",
    "activity_probs = []\n",
    "for j in range(len(activities)):\n",
    "    topic_dist = {v:k for k,v in lda_train.get_document_topics(corpus[j], minimum_probability=0.0)}\n",
    "    max_prob = max(topic_dist.keys())\n",
    "    max_class = topic_dist[max_prob]\n",
    "    activity_classes.append(max_class)\n",
    "    activity_probs.append(max_prob)"
   ]
  },
  {
   "cell_type": "code",
   "execution_count": 40,
   "metadata": {},
   "outputs": [
    {
     "data": {
      "text/plain": [
       "13350"
      ]
     },
     "execution_count": 40,
     "metadata": {},
     "output_type": "execute_result"
    }
   ],
   "source": [
    "len(activity_probs)"
   ]
  },
  {
   "cell_type": "code",
   "execution_count": 41,
   "metadata": {},
   "outputs": [],
   "source": [
    "topics = lda_train.print_topics(11,num_words=15)\n",
    "topics_d = {i[0]:i[1] for i in topics}"
   ]
  },
  {
   "cell_type": "code",
   "execution_count": 42,
   "metadata": {},
   "outputs": [
    {
     "data": {
      "text/plain": [
       "{0: '0.252*\"Football\" + 0.134*\"Sports Organization\" + 0.070*\"Sport\" + 0.060*\"Martial Arts\" + 0.058*\"Football Team\" + 0.047*\"Movies\" + 0.036*\"Athlete\" + 0.028*\"Fitness\" + 0.027*\"TV Channel\" + 0.025*\"Internet Media\" + 0.023*\"Show, Program\" + 0.020*\"Sports Club\" + 0.019*\"Business\" + 0.015*\"City Community\" + 0.012*\"Hockey\"',\n",
       " 1: '0.626*\"Humor\" + 0.022*\"Youth Organization\" + 0.021*\"Movies\" + 0.020*\"Education\" + 0.018*\"Show, Program\" + 0.018*\"Science\" + 0.016*\"Photography\" + 0.015*\"Animation\" + 0.014*\"Creative Work\" + 0.012*\"Open group\" + 0.012*\"Literature\" + 0.011*\"Animals\" + 0.010*\"Discussion Сlub\" + 0.009*\"Society\" + 0.009*\"Public page\"',\n",
       " 2: '0.152*\"Education\" + 0.108*\"Science\" + 0.088*\"Humor\" + 0.071*\"Movies\" + 0.063*\"Tourism, Travel\" + 0.045*\"Business\" + 0.034*\"History\" + 0.027*\"Society\" + 0.027*\"Philosophy\" + 0.025*\"Public page\" + 0.024*\"Photography\" + 0.024*\"Literature\" + 0.021*\"Creative Work\" + 0.018*\"Internet Media\" + 0.012*\"City Community\"',\n",
       " 3: '0.134*\"Food, Recipes\" + 0.078*\"Personal Care\" + 0.055*\"Healthy Lifestyle\" + 0.052*\"Humor\" + 0.052*\"Creative Work\" + 0.050*\"Gender Relations\" + 0.044*\"Literature\" + 0.043*\"Parents & Children\" + 0.036*\"Fashion, Clothing, Shoes\" + 0.035*\"Astrology, Esoterics\" + 0.033*\"Interior Design\" + 0.027*\"Public page\" + 0.027*\"City Community\" + 0.024*\"Philosophy\" + 0.023*\"Education\"',\n",
       " 4: '0.223*\"Cars\" + 0.124*\"Repair, Construction\" + 0.068*\"Car Owners\" + 0.039*\"City Community\" + 0.031*\"Active Recreation\" + 0.030*\"Science\" + 0.026*\"Humor\" + 0.025*\"Tourism, Travel\" + 0.025*\"Society\" + 0.024*\"Auto Goods\" + 0.019*\"Motorcycling\" + 0.017*\"Products, Stores\" + 0.016*\"Classifieds\" + 0.016*\"Business\" + 0.013*\"Internet Media\"',\n",
       " 5: '0.108*\"City Community\" + 0.081*\"Business\" + 0.064*\"Classifieds\" + 0.046*\"Job Search\" + 0.030*\"Internet Media\" + 0.027*\"Products, Stores\" + 0.022*\"Clothing, Shoes\" + 0.020*\"Tourism, Travel\" + 0.017*\"Real Estate\" + 0.015*\"Training Courses\" + 0.014*\"Advertising\" + 0.014*\"Finance\" + 0.012*\"Café, Restaurant\" + 0.012*\"Food Delivery\" + 0.012*\"Websites\"',\n",
       " 6: '0.196*\"Creative Work\" + 0.098*\"Photography\" + 0.053*\"Culture\" + 0.042*\"Literature\" + 0.039*\"Animals\" + 0.037*\"Artist\" + 0.032*\"Design\" + 0.028*\"Fashion, Clothing, Shoes\" + 0.028*\"Movies\" + 0.025*\"Animation\" + 0.020*\"Education\" + 0.018*\"Fan Club\" + 0.015*\"Museum, Gallery, Exhibition\" + 0.013*\"Cultural Center\" + 0.013*\"Religion\"',\n",
       " 7: '0.197*\"Internet Media\" + 0.099*\"City Community\" + 0.072*\"Education\" + 0.054*\"Politics\" + 0.047*\"History\" + 0.039*\"Discussion Сlub\" + 0.038*\"Society\" + 0.025*\"Tourism, Travel\" + 0.023*\"Country\" + 0.021*\"Mass media\" + 0.021*\"Culture\" + 0.020*\"Government Organization\" + 0.020*\"Religion\" + 0.017*\"Military Arts\" + 0.017*\"Public Organization\"',\n",
       " 8: '0.287*\"Public page\" + 0.040*\"Website\" + 0.034*\"Art and entertainment\" + 0.028*\"Mass media\" + 0.027*\"Open group\" + 0.021*\"Entertainment\" + 0.018*\"Erotic\" + 0.015*\"Group of artists\" + 0.015*\"Dating\" + 0.013*\"Websites\" + 0.013*\"Internet store\" + 0.012*\"Show\" + 0.012*\"Gender Relations\" + 0.011*\"Album\" + 0.011*\"Movies\"',\n",
       " 9: '0.218*\"Video Games\" + 0.135*\"Games\" + 0.061*\"Humor\" + 0.047*\"Video Game\" + 0.028*\"Streamer\" + 0.025*\"Animation\" + 0.023*\"Internet Media\" + 0.023*\"Blogger\" + 0.019*\"Creative Work\" + 0.018*\"Movies\" + 0.018*\"Technology, Electronics\" + 0.017*\"Programming\" + 0.017*\"Online Game\" + 0.017*\"Esports Organization\" + 0.016*\"Science\"',\n",
       " 10: '0.137*\"Musician\" + 0.104*\"Music\" + 0.076*\"Band\" + 0.065*\"Electronic Music\" + 0.060*\"Rap, Hip-Hop\" + 0.047*\"Internet Media\" + 0.039*\"Music Sharing\" + 0.036*\"Rock\" + 0.024*\"Show, Program\" + 0.024*\"Clothing, Shoes\" + 0.022*\"Movies\" + 0.016*\"Culture\" + 0.015*\"Heavy Metal\" + 0.014*\"Fashion, Clothing, Shoes\" + 0.014*\"Humor\"'}"
      ]
     },
     "execution_count": 42,
     "metadata": {},
     "output_type": "execute_result"
    }
   ],
   "source": [
    "topics_d"
   ]
  },
  {
   "cell_type": "code",
   "execution_count": 43,
   "metadata": {},
   "outputs": [],
   "source": [
    "class_descriptions = [topics_d[i] for i in activity_classes]"
   ]
  },
  {
   "cell_type": "code",
   "execution_count": 44,
   "metadata": {},
   "outputs": [
    {
     "data": {
      "text/plain": [
       "'0.196*\"Creative Work\" + 0.098*\"Photography\" + 0.053*\"Culture\" + 0.042*\"Literature\" + 0.039*\"Animals\" + 0.037*\"Artist\" + 0.032*\"Design\" + 0.028*\"Fashion, Clothing, Shoes\" + 0.028*\"Movies\" + 0.025*\"Animation\" + 0.020*\"Education\" + 0.018*\"Fan Club\" + 0.015*\"Museum, Gallery, Exhibition\" + 0.013*\"Cultural Center\" + 0.013*\"Religion\"'"
      ]
     },
     "execution_count": 44,
     "metadata": {},
     "output_type": "execute_result"
    }
   ],
   "source": [
    "class_descriptions[0]"
   ]
  },
  {
   "cell_type": "code",
   "execution_count": 45,
   "metadata": {},
   "outputs": [],
   "source": [
    "df[\"class\"] = activity_classes\n",
    "df[\"class_probs\"] = activity_probs\n",
    "df[\"class_descr\"] = class_descriptions"
   ]
  },
  {
   "cell_type": "code",
   "execution_count": 66,
   "metadata": {},
   "outputs": [
    {
     "data": {
      "text/html": [
       "<div>\n",
       "<style scoped>\n",
       "    .dataframe tbody tr th:only-of-type {\n",
       "        vertical-align: middle;\n",
       "    }\n",
       "\n",
       "    .dataframe tbody tr th {\n",
       "        vertical-align: top;\n",
       "    }\n",
       "\n",
       "    .dataframe thead th {\n",
       "        text-align: right;\n",
       "    }\n",
       "</style>\n",
       "<table border=\"1\" class=\"dataframe\">\n",
       "  <thead>\n",
       "    <tr style=\"text-align: right;\">\n",
       "      <th></th>\n",
       "      <th>class</th>\n",
       "      <th>class_probs</th>\n",
       "      <th>class_descr</th>\n",
       "    </tr>\n",
       "  </thead>\n",
       "  <tbody>\n",
       "    <tr>\n",
       "      <th>1</th>\n",
       "      <td>6</td>\n",
       "      <td>0.404068</td>\n",
       "      <td>0.196*\"Creative Work\" + 0.098*\"Photography\" + ...</td>\n",
       "    </tr>\n",
       "    <tr>\n",
       "      <th>2</th>\n",
       "      <td>1</td>\n",
       "      <td>0.342161</td>\n",
       "      <td>0.626*\"Humor\" + 0.022*\"Youth Organization\" + 0...</td>\n",
       "    </tr>\n",
       "    <tr>\n",
       "      <th>6</th>\n",
       "      <td>1</td>\n",
       "      <td>0.494793</td>\n",
       "      <td>0.626*\"Humor\" + 0.022*\"Youth Organization\" + 0...</td>\n",
       "    </tr>\n",
       "    <tr>\n",
       "      <th>8</th>\n",
       "      <td>6</td>\n",
       "      <td>0.425176</td>\n",
       "      <td>0.196*\"Creative Work\" + 0.098*\"Photography\" + ...</td>\n",
       "    </tr>\n",
       "    <tr>\n",
       "      <th>10</th>\n",
       "      <td>7</td>\n",
       "      <td>0.393231</td>\n",
       "      <td>0.197*\"Internet Media\" + 0.099*\"City Community...</td>\n",
       "    </tr>\n",
       "    <tr>\n",
       "      <th>16</th>\n",
       "      <td>7</td>\n",
       "      <td>0.417666</td>\n",
       "      <td>0.197*\"Internet Media\" + 0.099*\"City Community...</td>\n",
       "    </tr>\n",
       "    <tr>\n",
       "      <th>23</th>\n",
       "      <td>1</td>\n",
       "      <td>0.473378</td>\n",
       "      <td>0.626*\"Humor\" + 0.022*\"Youth Organization\" + 0...</td>\n",
       "    </tr>\n",
       "    <tr>\n",
       "      <th>27</th>\n",
       "      <td>9</td>\n",
       "      <td>0.555358</td>\n",
       "      <td>0.218*\"Video Games\" + 0.135*\"Games\" + 0.061*\"H...</td>\n",
       "    </tr>\n",
       "    <tr>\n",
       "      <th>33</th>\n",
       "      <td>6</td>\n",
       "      <td>0.580152</td>\n",
       "      <td>0.196*\"Creative Work\" + 0.098*\"Photography\" + ...</td>\n",
       "    </tr>\n",
       "    <tr>\n",
       "      <th>43</th>\n",
       "      <td>7</td>\n",
       "      <td>0.322368</td>\n",
       "      <td>0.197*\"Internet Media\" + 0.099*\"City Community...</td>\n",
       "    </tr>\n",
       "    <tr>\n",
       "      <th>45</th>\n",
       "      <td>6</td>\n",
       "      <td>0.368506</td>\n",
       "      <td>0.196*\"Creative Work\" + 0.098*\"Photography\" + ...</td>\n",
       "    </tr>\n",
       "    <tr>\n",
       "      <th>55</th>\n",
       "      <td>7</td>\n",
       "      <td>0.593009</td>\n",
       "      <td>0.197*\"Internet Media\" + 0.099*\"City Community...</td>\n",
       "    </tr>\n",
       "    <tr>\n",
       "      <th>61</th>\n",
       "      <td>1</td>\n",
       "      <td>0.331027</td>\n",
       "      <td>0.626*\"Humor\" + 0.022*\"Youth Organization\" + 0...</td>\n",
       "    </tr>\n",
       "    <tr>\n",
       "      <th>68</th>\n",
       "      <td>7</td>\n",
       "      <td>0.281327</td>\n",
       "      <td>0.197*\"Internet Media\" + 0.099*\"City Community...</td>\n",
       "    </tr>\n",
       "    <tr>\n",
       "      <th>70</th>\n",
       "      <td>2</td>\n",
       "      <td>0.649413</td>\n",
       "      <td>0.152*\"Education\" + 0.108*\"Science\" + 0.088*\"H...</td>\n",
       "    </tr>\n",
       "    <tr>\n",
       "      <th>72</th>\n",
       "      <td>6</td>\n",
       "      <td>0.383121</td>\n",
       "      <td>0.196*\"Creative Work\" + 0.098*\"Photography\" + ...</td>\n",
       "    </tr>\n",
       "    <tr>\n",
       "      <th>73</th>\n",
       "      <td>6</td>\n",
       "      <td>0.307680</td>\n",
       "      <td>0.196*\"Creative Work\" + 0.098*\"Photography\" + ...</td>\n",
       "    </tr>\n",
       "    <tr>\n",
       "      <th>75</th>\n",
       "      <td>6</td>\n",
       "      <td>0.506950</td>\n",
       "      <td>0.196*\"Creative Work\" + 0.098*\"Photography\" + ...</td>\n",
       "    </tr>\n",
       "    <tr>\n",
       "      <th>76</th>\n",
       "      <td>3</td>\n",
       "      <td>0.325825</td>\n",
       "      <td>0.134*\"Food, Recipes\" + 0.078*\"Personal Care\" ...</td>\n",
       "    </tr>\n",
       "    <tr>\n",
       "      <th>77</th>\n",
       "      <td>10</td>\n",
       "      <td>0.235801</td>\n",
       "      <td>0.137*\"Musician\" + 0.104*\"Music\" + 0.076*\"Band...</td>\n",
       "    </tr>\n",
       "    <tr>\n",
       "      <th>79</th>\n",
       "      <td>1</td>\n",
       "      <td>0.582342</td>\n",
       "      <td>0.626*\"Humor\" + 0.022*\"Youth Organization\" + 0...</td>\n",
       "    </tr>\n",
       "    <tr>\n",
       "      <th>80</th>\n",
       "      <td>7</td>\n",
       "      <td>0.247244</td>\n",
       "      <td>0.197*\"Internet Media\" + 0.099*\"City Community...</td>\n",
       "    </tr>\n",
       "    <tr>\n",
       "      <th>83</th>\n",
       "      <td>1</td>\n",
       "      <td>0.391368</td>\n",
       "      <td>0.626*\"Humor\" + 0.022*\"Youth Organization\" + 0...</td>\n",
       "    </tr>\n",
       "    <tr>\n",
       "      <th>84</th>\n",
       "      <td>7</td>\n",
       "      <td>0.290514</td>\n",
       "      <td>0.197*\"Internet Media\" + 0.099*\"City Community...</td>\n",
       "    </tr>\n",
       "    <tr>\n",
       "      <th>86</th>\n",
       "      <td>1</td>\n",
       "      <td>0.437732</td>\n",
       "      <td>0.626*\"Humor\" + 0.022*\"Youth Organization\" + 0...</td>\n",
       "    </tr>\n",
       "    <tr>\n",
       "      <th>87</th>\n",
       "      <td>9</td>\n",
       "      <td>0.406951</td>\n",
       "      <td>0.218*\"Video Games\" + 0.135*\"Games\" + 0.061*\"H...</td>\n",
       "    </tr>\n",
       "    <tr>\n",
       "      <th>89</th>\n",
       "      <td>1</td>\n",
       "      <td>0.243826</td>\n",
       "      <td>0.626*\"Humor\" + 0.022*\"Youth Organization\" + 0...</td>\n",
       "    </tr>\n",
       "    <tr>\n",
       "      <th>92</th>\n",
       "      <td>10</td>\n",
       "      <td>0.504761</td>\n",
       "      <td>0.137*\"Musician\" + 0.104*\"Music\" + 0.076*\"Band...</td>\n",
       "    </tr>\n",
       "    <tr>\n",
       "      <th>93</th>\n",
       "      <td>1</td>\n",
       "      <td>0.478304</td>\n",
       "      <td>0.626*\"Humor\" + 0.022*\"Youth Organization\" + 0...</td>\n",
       "    </tr>\n",
       "    <tr>\n",
       "      <th>95</th>\n",
       "      <td>7</td>\n",
       "      <td>0.349531</td>\n",
       "      <td>0.197*\"Internet Media\" + 0.099*\"City Community...</td>\n",
       "    </tr>\n",
       "    <tr>\n",
       "      <th>...</th>\n",
       "      <td>...</td>\n",
       "      <td>...</td>\n",
       "      <td>...</td>\n",
       "    </tr>\n",
       "    <tr>\n",
       "      <th>36460</th>\n",
       "      <td>2</td>\n",
       "      <td>0.290905</td>\n",
       "      <td>0.152*\"Education\" + 0.108*\"Science\" + 0.088*\"H...</td>\n",
       "    </tr>\n",
       "    <tr>\n",
       "      <th>36461</th>\n",
       "      <td>2</td>\n",
       "      <td>0.372395</td>\n",
       "      <td>0.152*\"Education\" + 0.108*\"Science\" + 0.088*\"H...</td>\n",
       "    </tr>\n",
       "    <tr>\n",
       "      <th>36462</th>\n",
       "      <td>10</td>\n",
       "      <td>0.428140</td>\n",
       "      <td>0.137*\"Musician\" + 0.104*\"Music\" + 0.076*\"Band...</td>\n",
       "    </tr>\n",
       "    <tr>\n",
       "      <th>36463</th>\n",
       "      <td>3</td>\n",
       "      <td>0.537453</td>\n",
       "      <td>0.134*\"Food, Recipes\" + 0.078*\"Personal Care\" ...</td>\n",
       "    </tr>\n",
       "    <tr>\n",
       "      <th>36464</th>\n",
       "      <td>6</td>\n",
       "      <td>0.831021</td>\n",
       "      <td>0.196*\"Creative Work\" + 0.098*\"Photography\" + ...</td>\n",
       "    </tr>\n",
       "    <tr>\n",
       "      <th>36465</th>\n",
       "      <td>1</td>\n",
       "      <td>0.552687</td>\n",
       "      <td>0.626*\"Humor\" + 0.022*\"Youth Organization\" + 0...</td>\n",
       "    </tr>\n",
       "    <tr>\n",
       "      <th>36466</th>\n",
       "      <td>5</td>\n",
       "      <td>0.303897</td>\n",
       "      <td>0.108*\"City Community\" + 0.081*\"Business\" + 0....</td>\n",
       "    </tr>\n",
       "    <tr>\n",
       "      <th>36468</th>\n",
       "      <td>1</td>\n",
       "      <td>0.683855</td>\n",
       "      <td>0.626*\"Humor\" + 0.022*\"Youth Organization\" + 0...</td>\n",
       "    </tr>\n",
       "    <tr>\n",
       "      <th>36471</th>\n",
       "      <td>1</td>\n",
       "      <td>0.456808</td>\n",
       "      <td>0.626*\"Humor\" + 0.022*\"Youth Organization\" + 0...</td>\n",
       "    </tr>\n",
       "    <tr>\n",
       "      <th>36473</th>\n",
       "      <td>0</td>\n",
       "      <td>0.551958</td>\n",
       "      <td>0.252*\"Football\" + 0.134*\"Sports Organization\"...</td>\n",
       "    </tr>\n",
       "    <tr>\n",
       "      <th>36474</th>\n",
       "      <td>1</td>\n",
       "      <td>0.528807</td>\n",
       "      <td>0.626*\"Humor\" + 0.022*\"Youth Organization\" + 0...</td>\n",
       "    </tr>\n",
       "    <tr>\n",
       "      <th>36475</th>\n",
       "      <td>9</td>\n",
       "      <td>0.344772</td>\n",
       "      <td>0.218*\"Video Games\" + 0.135*\"Games\" + 0.061*\"H...</td>\n",
       "    </tr>\n",
       "    <tr>\n",
       "      <th>36478</th>\n",
       "      <td>6</td>\n",
       "      <td>0.772603</td>\n",
       "      <td>0.196*\"Creative Work\" + 0.098*\"Photography\" + ...</td>\n",
       "    </tr>\n",
       "    <tr>\n",
       "      <th>36479</th>\n",
       "      <td>2</td>\n",
       "      <td>0.393319</td>\n",
       "      <td>0.152*\"Education\" + 0.108*\"Science\" + 0.088*\"H...</td>\n",
       "    </tr>\n",
       "    <tr>\n",
       "      <th>36480</th>\n",
       "      <td>1</td>\n",
       "      <td>0.307177</td>\n",
       "      <td>0.626*\"Humor\" + 0.022*\"Youth Organization\" + 0...</td>\n",
       "    </tr>\n",
       "    <tr>\n",
       "      <th>36481</th>\n",
       "      <td>1</td>\n",
       "      <td>0.423393</td>\n",
       "      <td>0.626*\"Humor\" + 0.022*\"Youth Organization\" + 0...</td>\n",
       "    </tr>\n",
       "    <tr>\n",
       "      <th>36482</th>\n",
       "      <td>2</td>\n",
       "      <td>0.508705</td>\n",
       "      <td>0.152*\"Education\" + 0.108*\"Science\" + 0.088*\"H...</td>\n",
       "    </tr>\n",
       "    <tr>\n",
       "      <th>36485</th>\n",
       "      <td>2</td>\n",
       "      <td>0.298139</td>\n",
       "      <td>0.152*\"Education\" + 0.108*\"Science\" + 0.088*\"H...</td>\n",
       "    </tr>\n",
       "    <tr>\n",
       "      <th>36486</th>\n",
       "      <td>1</td>\n",
       "      <td>0.408526</td>\n",
       "      <td>0.626*\"Humor\" + 0.022*\"Youth Organization\" + 0...</td>\n",
       "    </tr>\n",
       "    <tr>\n",
       "      <th>36489</th>\n",
       "      <td>5</td>\n",
       "      <td>0.239522</td>\n",
       "      <td>0.108*\"City Community\" + 0.081*\"Business\" + 0....</td>\n",
       "    </tr>\n",
       "    <tr>\n",
       "      <th>36490</th>\n",
       "      <td>2</td>\n",
       "      <td>0.265092</td>\n",
       "      <td>0.152*\"Education\" + 0.108*\"Science\" + 0.088*\"H...</td>\n",
       "    </tr>\n",
       "    <tr>\n",
       "      <th>36491</th>\n",
       "      <td>3</td>\n",
       "      <td>0.419985</td>\n",
       "      <td>0.134*\"Food, Recipes\" + 0.078*\"Personal Care\" ...</td>\n",
       "    </tr>\n",
       "    <tr>\n",
       "      <th>36492</th>\n",
       "      <td>2</td>\n",
       "      <td>0.623851</td>\n",
       "      <td>0.152*\"Education\" + 0.108*\"Science\" + 0.088*\"H...</td>\n",
       "    </tr>\n",
       "    <tr>\n",
       "      <th>36493</th>\n",
       "      <td>2</td>\n",
       "      <td>0.361133</td>\n",
       "      <td>0.152*\"Education\" + 0.108*\"Science\" + 0.088*\"H...</td>\n",
       "    </tr>\n",
       "    <tr>\n",
       "      <th>36495</th>\n",
       "      <td>1</td>\n",
       "      <td>0.659206</td>\n",
       "      <td>0.626*\"Humor\" + 0.022*\"Youth Organization\" + 0...</td>\n",
       "    </tr>\n",
       "    <tr>\n",
       "      <th>36500</th>\n",
       "      <td>5</td>\n",
       "      <td>0.294491</td>\n",
       "      <td>0.108*\"City Community\" + 0.081*\"Business\" + 0....</td>\n",
       "    </tr>\n",
       "    <tr>\n",
       "      <th>36501</th>\n",
       "      <td>1</td>\n",
       "      <td>0.300182</td>\n",
       "      <td>0.626*\"Humor\" + 0.022*\"Youth Organization\" + 0...</td>\n",
       "    </tr>\n",
       "    <tr>\n",
       "      <th>36502</th>\n",
       "      <td>4</td>\n",
       "      <td>0.322929</td>\n",
       "      <td>0.223*\"Cars\" + 0.124*\"Repair, Construction\" + ...</td>\n",
       "    </tr>\n",
       "    <tr>\n",
       "      <th>36504</th>\n",
       "      <td>1</td>\n",
       "      <td>0.630767</td>\n",
       "      <td>0.626*\"Humor\" + 0.022*\"Youth Organization\" + 0...</td>\n",
       "    </tr>\n",
       "    <tr>\n",
       "      <th>36507</th>\n",
       "      <td>2</td>\n",
       "      <td>0.346661</td>\n",
       "      <td>0.152*\"Education\" + 0.108*\"Science\" + 0.088*\"H...</td>\n",
       "    </tr>\n",
       "  </tbody>\n",
       "</table>\n",
       "<p>13350 rows × 3 columns</p>\n",
       "</div>"
      ],
      "text/plain": [
       "       class  class_probs                                        class_descr\n",
       "1          6     0.404068  0.196*\"Creative Work\" + 0.098*\"Photography\" + ...\n",
       "2          1     0.342161  0.626*\"Humor\" + 0.022*\"Youth Organization\" + 0...\n",
       "6          1     0.494793  0.626*\"Humor\" + 0.022*\"Youth Organization\" + 0...\n",
       "8          6     0.425176  0.196*\"Creative Work\" + 0.098*\"Photography\" + ...\n",
       "10         7     0.393231  0.197*\"Internet Media\" + 0.099*\"City Community...\n",
       "16         7     0.417666  0.197*\"Internet Media\" + 0.099*\"City Community...\n",
       "23         1     0.473378  0.626*\"Humor\" + 0.022*\"Youth Organization\" + 0...\n",
       "27         9     0.555358  0.218*\"Video Games\" + 0.135*\"Games\" + 0.061*\"H...\n",
       "33         6     0.580152  0.196*\"Creative Work\" + 0.098*\"Photography\" + ...\n",
       "43         7     0.322368  0.197*\"Internet Media\" + 0.099*\"City Community...\n",
       "45         6     0.368506  0.196*\"Creative Work\" + 0.098*\"Photography\" + ...\n",
       "55         7     0.593009  0.197*\"Internet Media\" + 0.099*\"City Community...\n",
       "61         1     0.331027  0.626*\"Humor\" + 0.022*\"Youth Organization\" + 0...\n",
       "68         7     0.281327  0.197*\"Internet Media\" + 0.099*\"City Community...\n",
       "70         2     0.649413  0.152*\"Education\" + 0.108*\"Science\" + 0.088*\"H...\n",
       "72         6     0.383121  0.196*\"Creative Work\" + 0.098*\"Photography\" + ...\n",
       "73         6     0.307680  0.196*\"Creative Work\" + 0.098*\"Photography\" + ...\n",
       "75         6     0.506950  0.196*\"Creative Work\" + 0.098*\"Photography\" + ...\n",
       "76         3     0.325825  0.134*\"Food, Recipes\" + 0.078*\"Personal Care\" ...\n",
       "77        10     0.235801  0.137*\"Musician\" + 0.104*\"Music\" + 0.076*\"Band...\n",
       "79         1     0.582342  0.626*\"Humor\" + 0.022*\"Youth Organization\" + 0...\n",
       "80         7     0.247244  0.197*\"Internet Media\" + 0.099*\"City Community...\n",
       "83         1     0.391368  0.626*\"Humor\" + 0.022*\"Youth Organization\" + 0...\n",
       "84         7     0.290514  0.197*\"Internet Media\" + 0.099*\"City Community...\n",
       "86         1     0.437732  0.626*\"Humor\" + 0.022*\"Youth Organization\" + 0...\n",
       "87         9     0.406951  0.218*\"Video Games\" + 0.135*\"Games\" + 0.061*\"H...\n",
       "89         1     0.243826  0.626*\"Humor\" + 0.022*\"Youth Organization\" + 0...\n",
       "92        10     0.504761  0.137*\"Musician\" + 0.104*\"Music\" + 0.076*\"Band...\n",
       "93         1     0.478304  0.626*\"Humor\" + 0.022*\"Youth Organization\" + 0...\n",
       "95         7     0.349531  0.197*\"Internet Media\" + 0.099*\"City Community...\n",
       "...      ...          ...                                                ...\n",
       "36460      2     0.290905  0.152*\"Education\" + 0.108*\"Science\" + 0.088*\"H...\n",
       "36461      2     0.372395  0.152*\"Education\" + 0.108*\"Science\" + 0.088*\"H...\n",
       "36462     10     0.428140  0.137*\"Musician\" + 0.104*\"Music\" + 0.076*\"Band...\n",
       "36463      3     0.537453  0.134*\"Food, Recipes\" + 0.078*\"Personal Care\" ...\n",
       "36464      6     0.831021  0.196*\"Creative Work\" + 0.098*\"Photography\" + ...\n",
       "36465      1     0.552687  0.626*\"Humor\" + 0.022*\"Youth Organization\" + 0...\n",
       "36466      5     0.303897  0.108*\"City Community\" + 0.081*\"Business\" + 0....\n",
       "36468      1     0.683855  0.626*\"Humor\" + 0.022*\"Youth Organization\" + 0...\n",
       "36471      1     0.456808  0.626*\"Humor\" + 0.022*\"Youth Organization\" + 0...\n",
       "36473      0     0.551958  0.252*\"Football\" + 0.134*\"Sports Organization\"...\n",
       "36474      1     0.528807  0.626*\"Humor\" + 0.022*\"Youth Organization\" + 0...\n",
       "36475      9     0.344772  0.218*\"Video Games\" + 0.135*\"Games\" + 0.061*\"H...\n",
       "36478      6     0.772603  0.196*\"Creative Work\" + 0.098*\"Photography\" + ...\n",
       "36479      2     0.393319  0.152*\"Education\" + 0.108*\"Science\" + 0.088*\"H...\n",
       "36480      1     0.307177  0.626*\"Humor\" + 0.022*\"Youth Organization\" + 0...\n",
       "36481      1     0.423393  0.626*\"Humor\" + 0.022*\"Youth Organization\" + 0...\n",
       "36482      2     0.508705  0.152*\"Education\" + 0.108*\"Science\" + 0.088*\"H...\n",
       "36485      2     0.298139  0.152*\"Education\" + 0.108*\"Science\" + 0.088*\"H...\n",
       "36486      1     0.408526  0.626*\"Humor\" + 0.022*\"Youth Organization\" + 0...\n",
       "36489      5     0.239522  0.108*\"City Community\" + 0.081*\"Business\" + 0....\n",
       "36490      2     0.265092  0.152*\"Education\" + 0.108*\"Science\" + 0.088*\"H...\n",
       "36491      3     0.419985  0.134*\"Food, Recipes\" + 0.078*\"Personal Care\" ...\n",
       "36492      2     0.623851  0.152*\"Education\" + 0.108*\"Science\" + 0.088*\"H...\n",
       "36493      2     0.361133  0.152*\"Education\" + 0.108*\"Science\" + 0.088*\"H...\n",
       "36495      1     0.659206  0.626*\"Humor\" + 0.022*\"Youth Organization\" + 0...\n",
       "36500      5     0.294491  0.108*\"City Community\" + 0.081*\"Business\" + 0....\n",
       "36501      1     0.300182  0.626*\"Humor\" + 0.022*\"Youth Organization\" + 0...\n",
       "36502      4     0.322929  0.223*\"Cars\" + 0.124*\"Repair, Construction\" + ...\n",
       "36504      1     0.630767  0.626*\"Humor\" + 0.022*\"Youth Organization\" + 0...\n",
       "36507      2     0.346661  0.152*\"Education\" + 0.108*\"Science\" + 0.088*\"H...\n",
       "\n",
       "[13350 rows x 3 columns]"
      ]
     },
     "execution_count": 66,
     "metadata": {},
     "output_type": "execute_result"
    }
   ],
   "source": [
    "df.iloc[:, -3:]"
   ]
  },
  {
   "cell_type": "code",
   "execution_count": 56,
   "metadata": {},
   "outputs": [
    {
     "data": {
      "text/plain": [
       "class\n",
       "0      222\n",
       "1     3766\n",
       "2     2442\n",
       "3     1120\n",
       "4      802\n",
       "5      850\n",
       "6     1169\n",
       "7     1222\n",
       "8      170\n",
       "9      832\n",
       "10     755\n",
       "Name: from_id, dtype: int64"
      ]
     },
     "execution_count": 56,
     "metadata": {},
     "output_type": "execute_result"
    }
   ],
   "source": [
    "df.groupby(by=\"class\").from_id.count()"
   ]
  },
  {
   "cell_type": "code",
   "execution_count": 57,
   "metadata": {},
   "outputs": [],
   "source": [
    "df.to_csv(\"capitalization-interests.csv\", index=False)"
   ]
  },
  {
   "cell_type": "code",
   "execution_count": null,
   "metadata": {},
   "outputs": [],
   "source": []
  }
 ],
 "metadata": {
  "kernelspec": {
   "display_name": "Python 3",
   "language": "python",
   "name": "python3"
  },
  "language_info": {
   "codemirror_mode": {
    "name": "ipython",
    "version": 3
   },
   "file_extension": ".py",
   "mimetype": "text/x-python",
   "name": "python",
   "nbconvert_exporter": "python",
   "pygments_lexer": "ipython3",
   "version": "3.7.3"
  }
 },
 "nbformat": 4,
 "nbformat_minor": 2
}
