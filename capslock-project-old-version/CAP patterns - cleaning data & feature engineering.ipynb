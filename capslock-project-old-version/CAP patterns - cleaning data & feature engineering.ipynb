{
 "cells": [
  {
   "cell_type": "code",
   "execution_count": 65,
   "metadata": {},
   "outputs": [],
   "source": [
    "import pandas as pd\n",
    "import re\n",
    "from string import punctuation\n",
    "punct = punctuation+'«»—…“”*№–'\n",
    "import itertools\n",
    "regex = re.compile(\"[А-ЯЙ]{3,}\") "
   ]
  },
  {
   "cell_type": "markdown",
   "metadata": {},
   "source": [
    "## 1. Читаем 2 датасета и объединяем в 1 датафрейм"
   ]
  },
  {
   "cell_type": "code",
   "execution_count": 66,
   "metadata": {},
   "outputs": [],
   "source": [
    "df1 = pd.read_csv(\"capitalization-vdud-wall-2.csv\")\n",
    "df2 = pd.read_csv(\"capitalization-echo-wall-2.csv\")"
   ]
  },
  {
   "cell_type": "code",
   "execution_count": 68,
   "metadata": {
    "scrolled": true
   },
   "outputs": [
    {
     "data": {
      "text/html": [
       "<div>\n",
       "<style scoped>\n",
       "    .dataframe tbody tr th:only-of-type {\n",
       "        vertical-align: middle;\n",
       "    }\n",
       "\n",
       "    .dataframe tbody tr th {\n",
       "        vertical-align: top;\n",
       "    }\n",
       "\n",
       "    .dataframe thead th {\n",
       "        text-align: right;\n",
       "    }\n",
       "</style>\n",
       "<table border=\"1\" class=\"dataframe\">\n",
       "  <thead>\n",
       "    <tr style=\"text-align: right;\">\n",
       "      <th></th>\n",
       "      <th>from_id</th>\n",
       "      <th>post_id</th>\n",
       "      <th>comment_text</th>\n",
       "      <th>comment_id</th>\n",
       "      <th>post_text</th>\n",
       "      <th>first_name</th>\n",
       "      <th>last_name</th>\n",
       "      <th>sex</th>\n",
       "      <th>bdate</th>\n",
       "      <th>city</th>\n",
       "    </tr>\n",
       "  </thead>\n",
       "  <tbody>\n",
       "    <tr>\n",
       "      <th>0</th>\n",
       "      <td>19670600.0</td>\n",
       "      <td>13.0</td>\n",
       "      <td>Трек должен называться \"Тем кто знает АУЕ\" )</td>\n",
       "      <td>1651</td>\n",
       "      <td>[id2128351|Баста] - о Немагии и своей зарплате...</td>\n",
       "      <td>Vladimir</td>\n",
       "      <td>Kolyaskin</td>\n",
       "      <td>2</td>\n",
       "      <td>31.10</td>\n",
       "      <td>Port-au-Prince</td>\n",
       "    </tr>\n",
       "    <tr>\n",
       "      <th>1</th>\n",
       "      <td>1625187.0</td>\n",
       "      <td>13.0</td>\n",
       "      <td>трек \"РУСЗМ\" ( родина умыта слезами зеков и ма...</td>\n",
       "      <td>396</td>\n",
       "      <td>[id2128351|Баста] - о Немагии и своей зарплате...</td>\n",
       "      <td>Sergey</td>\n",
       "      <td>Kostyrev</td>\n",
       "      <td>2</td>\n",
       "      <td>30.1.1987</td>\n",
       "      <td>Blagoveschensk</td>\n",
       "    </tr>\n",
       "    <tr>\n",
       "      <th>2</th>\n",
       "      <td>49407875.0</td>\n",
       "      <td>22.0</td>\n",
       "      <td>ДНЕВНИК ХАЧА</td>\n",
       "      <td>247</td>\n",
       "      <td>[id8658426|Амиран Сардаров] (Дневник Хача) - с...</td>\n",
       "      <td>Timofey</td>\n",
       "      <td>Ezhov</td>\n",
       "      <td>2</td>\n",
       "      <td>14.10</td>\n",
       "      <td>Moscow</td>\n",
       "    </tr>\n",
       "    <tr>\n",
       "      <th>3</th>\n",
       "      <td>423900905.0</td>\n",
       "      <td>22.0</td>\n",
       "      <td>Планируется открытие нового канала \" Журнал ЧУ...</td>\n",
       "      <td>2768</td>\n",
       "      <td>[id8658426|Амиран Сардаров] (Дневник Хача) - с...</td>\n",
       "      <td>Svetlana</td>\n",
       "      <td>Mironova</td>\n",
       "      <td>1</td>\n",
       "      <td>6.5.1994</td>\n",
       "      <td>Moscow</td>\n",
       "    </tr>\n",
       "    <tr>\n",
       "      <th>4</th>\n",
       "      <td>312160075.0</td>\n",
       "      <td>28.0</td>\n",
       "      <td>Как же жалок Соболев, на фоне более сильной ли...</td>\n",
       "      <td>2471</td>\n",
       "      <td>[id2183360|Соболев] - о Путине, митингах и сек...</td>\n",
       "      <td>Anastasia</td>\n",
       "      <td>Smirnova</td>\n",
       "      <td>1</td>\n",
       "      <td>27.10.1997</td>\n",
       "      <td>Obninsk</td>\n",
       "    </tr>\n",
       "  </tbody>\n",
       "</table>\n",
       "</div>"
      ],
      "text/plain": [
       "       from_id  post_id                                       comment_text  \\\n",
       "0   19670600.0     13.0       Трек должен называться \"Тем кто знает АУЕ\" )   \n",
       "1    1625187.0     13.0  трек \"РУСЗМ\" ( родина умыта слезами зеков и ма...   \n",
       "2   49407875.0     22.0                                       ДНЕВНИК ХАЧА   \n",
       "3  423900905.0     22.0  Планируется открытие нового канала \" Журнал ЧУ...   \n",
       "4  312160075.0     28.0  Как же жалок Соболев, на фоне более сильной ли...   \n",
       "\n",
       "   comment_id                                          post_text first_name  \\\n",
       "0        1651  [id2128351|Баста] - о Немагии и своей зарплате...   Vladimir   \n",
       "1         396  [id2128351|Баста] - о Немагии и своей зарплате...     Sergey   \n",
       "2         247  [id8658426|Амиран Сардаров] (Дневник Хача) - с...    Timofey   \n",
       "3        2768  [id8658426|Амиран Сардаров] (Дневник Хача) - с...   Svetlana   \n",
       "4        2471  [id2183360|Соболев] - о Путине, митингах и сек...  Anastasia   \n",
       "\n",
       "   last_name  sex       bdate            city  \n",
       "0  Kolyaskin    2       31.10  Port-au-Prince  \n",
       "1   Kostyrev    2   30.1.1987  Blagoveschensk  \n",
       "2      Ezhov    2       14.10          Moscow  \n",
       "3   Mironova    1    6.5.1994          Moscow  \n",
       "4   Smirnova    1  27.10.1997         Obninsk  "
      ]
     },
     "execution_count": 68,
     "metadata": {},
     "output_type": "execute_result"
    }
   ],
   "source": [
    "df1.head()"
   ]
  },
  {
   "cell_type": "code",
   "execution_count": 69,
   "metadata": {},
   "outputs": [],
   "source": [
    "df1 = df1.drop([\"post_text\"], axis = 1)"
   ]
  },
  {
   "cell_type": "code",
   "execution_count": 70,
   "metadata": {},
   "outputs": [
    {
     "data": {
      "text/html": [
       "<div>\n",
       "<style scoped>\n",
       "    .dataframe tbody tr th:only-of-type {\n",
       "        vertical-align: middle;\n",
       "    }\n",
       "\n",
       "    .dataframe tbody tr th {\n",
       "        vertical-align: top;\n",
       "    }\n",
       "\n",
       "    .dataframe thead th {\n",
       "        text-align: right;\n",
       "    }\n",
       "</style>\n",
       "<table border=\"1\" class=\"dataframe\">\n",
       "  <thead>\n",
       "    <tr style=\"text-align: right;\">\n",
       "      <th></th>\n",
       "      <th>from_id</th>\n",
       "      <th>post_id</th>\n",
       "      <th>comment_text</th>\n",
       "      <th>comment_id</th>\n",
       "      <th>first_name</th>\n",
       "      <th>last_name</th>\n",
       "      <th>sex</th>\n",
       "      <th>bdate</th>\n",
       "      <th>city</th>\n",
       "    </tr>\n",
       "  </thead>\n",
       "  <tbody>\n",
       "    <tr>\n",
       "      <th>2768</th>\n",
       "      <td>11711559.0</td>\n",
       "      <td>174960.0</td>\n",
       "      <td>Мне жууутко понравилось. Хорошие мысли, слова;...</td>\n",
       "      <td>175375</td>\n",
       "      <td>Ekaterina</td>\n",
       "      <td>Pozharova</td>\n",
       "      <td>1</td>\n",
       "      <td>30.7.1989</td>\n",
       "      <td>Samara</td>\n",
       "    </tr>\n",
       "    <tr>\n",
       "      <th>2769</th>\n",
       "      <td>138291595.0</td>\n",
       "      <td>174960.0</td>\n",
       "      <td>#конкурс Дисклеймер: канал «вДудь» не пропаган...</td>\n",
       "      <td>175427</td>\n",
       "      <td>Darya</td>\n",
       "      <td>Golovanova</td>\n",
       "      <td>1</td>\n",
       "      <td>7.12</td>\n",
       "      <td>Tver</td>\n",
       "    </tr>\n",
       "    <tr>\n",
       "      <th>2770</th>\n",
       "      <td>17779627.0</td>\n",
       "      <td>174960.0</td>\n",
       "      <td>#конкурс\\n\"ЧЕЛОВЕК ЛЕСА\" (2013) by William Dou...</td>\n",
       "      <td>175477</td>\n",
       "      <td>Maria</td>\n",
       "      <td>Bogachek</td>\n",
       "      <td>1</td>\n",
       "      <td>21.8</td>\n",
       "      <td>Saint Petersburg</td>\n",
       "    </tr>\n",
       "    <tr>\n",
       "      <th>2771</th>\n",
       "      <td>181037157.0</td>\n",
       "      <td>174960.0</td>\n",
       "      <td>#конкурс\\nМастер 2012 год, режиссера Пола Тома...</td>\n",
       "      <td>175168</td>\n",
       "      <td>Daniil</td>\n",
       "      <td>Markeev</td>\n",
       "      <td>2</td>\n",
       "      <td>7.9.2000</td>\n",
       "      <td>Ivanovo</td>\n",
       "    </tr>\n",
       "    <tr>\n",
       "      <th>2772</th>\n",
       "      <td>153266583.0</td>\n",
       "      <td>174960.0</td>\n",
       "      <td>ПОБЕДА!\\n\\nhttps://tvrain.ru/news/mvd_prekrati...</td>\n",
       "      <td>175049</td>\n",
       "      <td>Matrena</td>\n",
       "      <td>Sidorova</td>\n",
       "      <td>1</td>\n",
       "      <td>NaN</td>\n",
       "      <td>Cheboxary</td>\n",
       "    </tr>\n",
       "  </tbody>\n",
       "</table>\n",
       "</div>"
      ],
      "text/plain": [
       "          from_id   post_id  \\\n",
       "2768   11711559.0  174960.0   \n",
       "2769  138291595.0  174960.0   \n",
       "2770   17779627.0  174960.0   \n",
       "2771  181037157.0  174960.0   \n",
       "2772  153266583.0  174960.0   \n",
       "\n",
       "                                           comment_text  comment_id  \\\n",
       "2768  Мне жууутко понравилось. Хорошие мысли, слова;...      175375   \n",
       "2769  #конкурс Дисклеймер: канал «вДудь» не пропаган...      175427   \n",
       "2770  #конкурс\\n\"ЧЕЛОВЕК ЛЕСА\" (2013) by William Dou...      175477   \n",
       "2771  #конкурс\\nМастер 2012 год, режиссера Пола Тома...      175168   \n",
       "2772  ПОБЕДА!\\n\\nhttps://tvrain.ru/news/mvd_prekrati...      175049   \n",
       "\n",
       "     first_name   last_name  sex      bdate              city  \n",
       "2768  Ekaterina   Pozharova    1  30.7.1989            Samara  \n",
       "2769      Darya  Golovanova    1       7.12              Tver  \n",
       "2770      Maria    Bogachek    1       21.8  Saint Petersburg  \n",
       "2771     Daniil     Markeev    2   7.9.2000           Ivanovo  \n",
       "2772    Matrena    Sidorova    1        NaN         Cheboxary  "
      ]
     },
     "execution_count": 70,
     "metadata": {},
     "output_type": "execute_result"
    }
   ],
   "source": [
    "df1.tail()"
   ]
  },
  {
   "cell_type": "code",
   "execution_count": 71,
   "metadata": {
    "scrolled": false
   },
   "outputs": [
    {
     "data": {
      "text/html": [
       "<div>\n",
       "<style scoped>\n",
       "    .dataframe tbody tr th:only-of-type {\n",
       "        vertical-align: middle;\n",
       "    }\n",
       "\n",
       "    .dataframe tbody tr th {\n",
       "        vertical-align: top;\n",
       "    }\n",
       "\n",
       "    .dataframe thead th {\n",
       "        text-align: right;\n",
       "    }\n",
       "</style>\n",
       "<table border=\"1\" class=\"dataframe\">\n",
       "  <thead>\n",
       "    <tr style=\"text-align: right;\">\n",
       "      <th></th>\n",
       "      <th>from_id</th>\n",
       "      <th>post_id</th>\n",
       "      <th>comment_text</th>\n",
       "      <th>id</th>\n",
       "      <th>first_name</th>\n",
       "      <th>last_name</th>\n",
       "      <th>sex</th>\n",
       "      <th>bdate</th>\n",
       "      <th>city</th>\n",
       "    </tr>\n",
       "  </thead>\n",
       "  <tbody>\n",
       "    <tr>\n",
       "      <th>2416</th>\n",
       "      <td>167423223.0</td>\n",
       "      <td>3173969.0</td>\n",
       "      <td>ВОРобьев? 😊</td>\n",
       "      <td>3174084</td>\n",
       "      <td>Andrey</td>\n",
       "      <td>Motovilov</td>\n",
       "      <td>2</td>\n",
       "      <td>21.9</td>\n",
       "      <td>Tolyatti</td>\n",
       "    </tr>\n",
       "    <tr>\n",
       "      <th>2417</th>\n",
       "      <td>486523749.0</td>\n",
       "      <td>3173952.0</td>\n",
       "      <td>Отвалите от сына главного оборотня МВД...там о...</td>\n",
       "      <td>3173974</td>\n",
       "      <td>Alexey</td>\n",
       "      <td>Vitoshnov</td>\n",
       "      <td>2</td>\n",
       "      <td>6.6.1986</td>\n",
       "      <td>Moscow</td>\n",
       "    </tr>\n",
       "    <tr>\n",
       "      <th>2418</th>\n",
       "      <td>316971518.0</td>\n",
       "      <td>3173952.0</td>\n",
       "      <td>У Собянина сыновья живут в США, а дочь в Австрии.</td>\n",
       "      <td>3174491</td>\n",
       "      <td>Nina</td>\n",
       "      <td>Kondratyeva</td>\n",
       "      <td>1</td>\n",
       "      <td>17.12.1954</td>\n",
       "      <td>Nizhny Novgorod</td>\n",
       "    </tr>\n",
       "    <tr>\n",
       "      <th>2419</th>\n",
       "      <td>209279951.0</td>\n",
       "      <td>3173952.0</td>\n",
       "      <td>[id289354141|Светлана], ответ один: НИКОГДА!!!</td>\n",
       "      <td>3174770</td>\n",
       "      <td>Amiran</td>\n",
       "      <td>Kravishvili</td>\n",
       "      <td>2</td>\n",
       "      <td>24.9.1954</td>\n",
       "      <td>Pyatigorsk</td>\n",
       "    </tr>\n",
       "    <tr>\n",
       "      <th>2420</th>\n",
       "      <td>110840513.0</td>\n",
       "      <td>3173883.0</td>\n",
       "      <td>НЕТ СТРАНЫ.</td>\n",
       "      <td>3173910</td>\n",
       "      <td>Mikhail</td>\n",
       "      <td>Dobromyslov</td>\n",
       "      <td>2</td>\n",
       "      <td>13.9.1960</td>\n",
       "      <td>Pudozh</td>\n",
       "    </tr>\n",
       "  </tbody>\n",
       "</table>\n",
       "</div>"
      ],
      "text/plain": [
       "          from_id    post_id  \\\n",
       "2416  167423223.0  3173969.0   \n",
       "2417  486523749.0  3173952.0   \n",
       "2418  316971518.0  3173952.0   \n",
       "2419  209279951.0  3173952.0   \n",
       "2420  110840513.0  3173883.0   \n",
       "\n",
       "                                           comment_text       id first_name  \\\n",
       "2416                                        ВОРобьев? 😊  3174084     Andrey   \n",
       "2417  Отвалите от сына главного оборотня МВД...там о...  3173974     Alexey   \n",
       "2418  У Собянина сыновья живут в США, а дочь в Австрии.  3174491       Nina   \n",
       "2419     [id289354141|Светлана], ответ один: НИКОГДА!!!  3174770     Amiran   \n",
       "2420                                        НЕТ СТРАНЫ.  3173910    Mikhail   \n",
       "\n",
       "        last_name  sex       bdate             city  \n",
       "2416    Motovilov    2        21.9         Tolyatti  \n",
       "2417    Vitoshnov    2    6.6.1986           Moscow  \n",
       "2418  Kondratyeva    1  17.12.1954  Nizhny Novgorod  \n",
       "2419  Kravishvili    2   24.9.1954       Pyatigorsk  \n",
       "2420  Dobromyslov    2   13.9.1960           Pudozh  "
      ]
     },
     "execution_count": 71,
     "metadata": {},
     "output_type": "execute_result"
    }
   ],
   "source": [
    "df2.tail()"
   ]
  },
  {
   "cell_type": "code",
   "execution_count": 72,
   "metadata": {},
   "outputs": [],
   "source": [
    "df2.columns = ['from_id', 'post_id', 'comment_text', \"comment_id\", \"first_name\", \"last_name\", \"sex\", \"bdate\", \"city\"]"
   ]
  },
  {
   "cell_type": "code",
   "execution_count": 73,
   "metadata": {},
   "outputs": [],
   "source": [
    "df = pd.concat([df1, df2], axis=0)"
   ]
  },
  {
   "cell_type": "code",
   "execution_count": 74,
   "metadata": {},
   "outputs": [],
   "source": [
    "df.reset_index(drop=True, inplace=True)"
   ]
  },
  {
   "cell_type": "code",
   "execution_count": 75,
   "metadata": {
    "scrolled": true
   },
   "outputs": [
    {
     "data": {
      "text/plain": [
       "2    4220\n",
       "1     973\n",
       "0       1\n",
       "Name: sex, dtype: int64"
      ]
     },
     "execution_count": 75,
     "metadata": {},
     "output_type": "execute_result"
    }
   ],
   "source": [
    "df.sex.value_counts() # изначально 4 тыс. комментов мужского пола, 973 - женского.  "
   ]
  },
  {
   "cell_type": "code",
   "execution_count": 76,
   "metadata": {},
   "outputs": [
    {
     "data": {
      "text/html": [
       "<div>\n",
       "<style scoped>\n",
       "    .dataframe tbody tr th:only-of-type {\n",
       "        vertical-align: middle;\n",
       "    }\n",
       "\n",
       "    .dataframe tbody tr th {\n",
       "        vertical-align: top;\n",
       "    }\n",
       "\n",
       "    .dataframe thead th {\n",
       "        text-align: right;\n",
       "    }\n",
       "</style>\n",
       "<table border=\"1\" class=\"dataframe\">\n",
       "  <thead>\n",
       "    <tr style=\"text-align: right;\">\n",
       "      <th></th>\n",
       "      <th>from_id</th>\n",
       "      <th>post_id</th>\n",
       "      <th>comment_text</th>\n",
       "      <th>comment_id</th>\n",
       "      <th>first_name</th>\n",
       "      <th>last_name</th>\n",
       "      <th>sex</th>\n",
       "      <th>bdate</th>\n",
       "      <th>city</th>\n",
       "    </tr>\n",
       "  </thead>\n",
       "  <tbody>\n",
       "    <tr>\n",
       "      <th>5189</th>\n",
       "      <td>167423223.0</td>\n",
       "      <td>3173969.0</td>\n",
       "      <td>ВОРобьев? 😊</td>\n",
       "      <td>3174084</td>\n",
       "      <td>Andrey</td>\n",
       "      <td>Motovilov</td>\n",
       "      <td>2</td>\n",
       "      <td>21.9</td>\n",
       "      <td>Tolyatti</td>\n",
       "    </tr>\n",
       "    <tr>\n",
       "      <th>5190</th>\n",
       "      <td>486523749.0</td>\n",
       "      <td>3173952.0</td>\n",
       "      <td>Отвалите от сына главного оборотня МВД...там о...</td>\n",
       "      <td>3173974</td>\n",
       "      <td>Alexey</td>\n",
       "      <td>Vitoshnov</td>\n",
       "      <td>2</td>\n",
       "      <td>6.6.1986</td>\n",
       "      <td>Moscow</td>\n",
       "    </tr>\n",
       "    <tr>\n",
       "      <th>5191</th>\n",
       "      <td>316971518.0</td>\n",
       "      <td>3173952.0</td>\n",
       "      <td>У Собянина сыновья живут в США, а дочь в Австрии.</td>\n",
       "      <td>3174491</td>\n",
       "      <td>Nina</td>\n",
       "      <td>Kondratyeva</td>\n",
       "      <td>1</td>\n",
       "      <td>17.12.1954</td>\n",
       "      <td>Nizhny Novgorod</td>\n",
       "    </tr>\n",
       "    <tr>\n",
       "      <th>5192</th>\n",
       "      <td>209279951.0</td>\n",
       "      <td>3173952.0</td>\n",
       "      <td>[id289354141|Светлана], ответ один: НИКОГДА!!!</td>\n",
       "      <td>3174770</td>\n",
       "      <td>Amiran</td>\n",
       "      <td>Kravishvili</td>\n",
       "      <td>2</td>\n",
       "      <td>24.9.1954</td>\n",
       "      <td>Pyatigorsk</td>\n",
       "    </tr>\n",
       "    <tr>\n",
       "      <th>5193</th>\n",
       "      <td>110840513.0</td>\n",
       "      <td>3173883.0</td>\n",
       "      <td>НЕТ СТРАНЫ.</td>\n",
       "      <td>3173910</td>\n",
       "      <td>Mikhail</td>\n",
       "      <td>Dobromyslov</td>\n",
       "      <td>2</td>\n",
       "      <td>13.9.1960</td>\n",
       "      <td>Pudozh</td>\n",
       "    </tr>\n",
       "  </tbody>\n",
       "</table>\n",
       "</div>"
      ],
      "text/plain": [
       "          from_id    post_id  \\\n",
       "5189  167423223.0  3173969.0   \n",
       "5190  486523749.0  3173952.0   \n",
       "5191  316971518.0  3173952.0   \n",
       "5192  209279951.0  3173952.0   \n",
       "5193  110840513.0  3173883.0   \n",
       "\n",
       "                                           comment_text  comment_id  \\\n",
       "5189                                        ВОРобьев? 😊     3174084   \n",
       "5190  Отвалите от сына главного оборотня МВД...там о...     3173974   \n",
       "5191  У Собянина сыновья живут в США, а дочь в Австрии.     3174491   \n",
       "5192     [id289354141|Светлана], ответ один: НИКОГДА!!!     3174770   \n",
       "5193                                        НЕТ СТРАНЫ.     3173910   \n",
       "\n",
       "     first_name    last_name  sex       bdate             city  \n",
       "5189     Andrey    Motovilov    2        21.9         Tolyatti  \n",
       "5190     Alexey    Vitoshnov    2    6.6.1986           Moscow  \n",
       "5191       Nina  Kondratyeva    1  17.12.1954  Nizhny Novgorod  \n",
       "5192     Amiran  Kravishvili    2   24.9.1954       Pyatigorsk  \n",
       "5193    Mikhail  Dobromyslov    2   13.9.1960           Pudozh  "
      ]
     },
     "execution_count": 76,
     "metadata": {},
     "output_type": "execute_result"
    }
   ],
   "source": [
    "df.tail()"
   ]
  },
  {
   "cell_type": "markdown",
   "metadata": {},
   "source": [
    "## 2. Немного очищаем тексты комментариев (избавляем от ссылок на юзеров, хэштегов)"
   ]
  },
  {
   "cell_type": "code",
   "execution_count": 77,
   "metadata": {
    "scrolled": true
   },
   "outputs": [],
   "source": [
    "# удалить записи в квадратных скобках\n",
    "for i in df.index:\n",
    "    if re.search(\"\\[id.*|.*\\],\", df.iloc[i, 2]):\n",
    "        df.iloc[i, 2] = re.sub(r\"(\\[id.*?|.*?\\]), \", r'', df.iloc[i, 2])"
   ]
  },
  {
   "cell_type": "code",
   "execution_count": 78,
   "metadata": {},
   "outputs": [],
   "source": [
    "# удалить записи в квадратных скобках\n",
    "for i in df.index:\n",
    "    if re.search(\"\\[club.*|.*\\],\", df.iloc[i, 2]):\n",
    "        df.iloc[i, 2] = re.sub(r\"(\\[club.*?|.*?\\]), \", r'', df.iloc[i, 2])"
   ]
  },
  {
   "cell_type": "code",
   "execution_count": 79,
   "metadata": {},
   "outputs": [],
   "source": [
    "# удалить хэштеги\n",
    "for i in df.index:\n",
    "    if re.search(\"(#.*?) \", df.iloc[i, 2]):\n",
    "        df.iloc[i, 2] = re.sub(\"(#.*?) \", '', df.iloc[i, 2])"
   ]
  },
  {
   "cell_type": "code",
   "execution_count": 80,
   "metadata": {
    "scrolled": false
   },
   "outputs": [
    {
     "data": {
      "text/html": [
       "<div>\n",
       "<style scoped>\n",
       "    .dataframe tbody tr th:only-of-type {\n",
       "        vertical-align: middle;\n",
       "    }\n",
       "\n",
       "    .dataframe tbody tr th {\n",
       "        vertical-align: top;\n",
       "    }\n",
       "\n",
       "    .dataframe thead th {\n",
       "        text-align: right;\n",
       "    }\n",
       "</style>\n",
       "<table border=\"1\" class=\"dataframe\">\n",
       "  <thead>\n",
       "    <tr style=\"text-align: right;\">\n",
       "      <th></th>\n",
       "      <th>from_id</th>\n",
       "      <th>post_id</th>\n",
       "      <th>comment_text</th>\n",
       "      <th>comment_id</th>\n",
       "      <th>first_name</th>\n",
       "      <th>last_name</th>\n",
       "      <th>sex</th>\n",
       "      <th>bdate</th>\n",
       "      <th>city</th>\n",
       "    </tr>\n",
       "  </thead>\n",
       "  <tbody>\n",
       "    <tr>\n",
       "      <th>5189</th>\n",
       "      <td>167423223.0</td>\n",
       "      <td>3173969.0</td>\n",
       "      <td>ВОРобьев? 😊</td>\n",
       "      <td>3174084</td>\n",
       "      <td>Andrey</td>\n",
       "      <td>Motovilov</td>\n",
       "      <td>2</td>\n",
       "      <td>21.9</td>\n",
       "      <td>Tolyatti</td>\n",
       "    </tr>\n",
       "    <tr>\n",
       "      <th>5190</th>\n",
       "      <td>486523749.0</td>\n",
       "      <td>3173952.0</td>\n",
       "      <td>Отвалите от сына главного оборотня МВД...там о...</td>\n",
       "      <td>3173974</td>\n",
       "      <td>Alexey</td>\n",
       "      <td>Vitoshnov</td>\n",
       "      <td>2</td>\n",
       "      <td>6.6.1986</td>\n",
       "      <td>Moscow</td>\n",
       "    </tr>\n",
       "    <tr>\n",
       "      <th>5191</th>\n",
       "      <td>316971518.0</td>\n",
       "      <td>3173952.0</td>\n",
       "      <td>У Собянина сыновья живут в США, а дочь в Австрии.</td>\n",
       "      <td>3174491</td>\n",
       "      <td>Nina</td>\n",
       "      <td>Kondratyeva</td>\n",
       "      <td>1</td>\n",
       "      <td>17.12.1954</td>\n",
       "      <td>Nizhny Novgorod</td>\n",
       "    </tr>\n",
       "    <tr>\n",
       "      <th>5192</th>\n",
       "      <td>209279951.0</td>\n",
       "      <td>3173952.0</td>\n",
       "      <td>ответ один: НИКОГДА!!!</td>\n",
       "      <td>3174770</td>\n",
       "      <td>Amiran</td>\n",
       "      <td>Kravishvili</td>\n",
       "      <td>2</td>\n",
       "      <td>24.9.1954</td>\n",
       "      <td>Pyatigorsk</td>\n",
       "    </tr>\n",
       "    <tr>\n",
       "      <th>5193</th>\n",
       "      <td>110840513.0</td>\n",
       "      <td>3173883.0</td>\n",
       "      <td>НЕТ СТРАНЫ.</td>\n",
       "      <td>3173910</td>\n",
       "      <td>Mikhail</td>\n",
       "      <td>Dobromyslov</td>\n",
       "      <td>2</td>\n",
       "      <td>13.9.1960</td>\n",
       "      <td>Pudozh</td>\n",
       "    </tr>\n",
       "  </tbody>\n",
       "</table>\n",
       "</div>"
      ],
      "text/plain": [
       "          from_id    post_id  \\\n",
       "5189  167423223.0  3173969.0   \n",
       "5190  486523749.0  3173952.0   \n",
       "5191  316971518.0  3173952.0   \n",
       "5192  209279951.0  3173952.0   \n",
       "5193  110840513.0  3173883.0   \n",
       "\n",
       "                                           comment_text  comment_id  \\\n",
       "5189                                        ВОРобьев? 😊     3174084   \n",
       "5190  Отвалите от сына главного оборотня МВД...там о...     3173974   \n",
       "5191  У Собянина сыновья живут в США, а дочь в Австрии.     3174491   \n",
       "5192                             ответ один: НИКОГДА!!!     3174770   \n",
       "5193                                        НЕТ СТРАНЫ.     3173910   \n",
       "\n",
       "     first_name    last_name  sex       bdate             city  \n",
       "5189     Andrey    Motovilov    2        21.9         Tolyatti  \n",
       "5190     Alexey    Vitoshnov    2    6.6.1986           Moscow  \n",
       "5191       Nina  Kondratyeva    1  17.12.1954  Nizhny Novgorod  \n",
       "5192     Amiran  Kravishvili    2   24.9.1954       Pyatigorsk  \n",
       "5193    Mikhail  Dobromyslov    2   13.9.1960           Pudozh  "
      ]
     },
     "execution_count": 80,
     "metadata": {},
     "output_type": "execute_result"
    }
   ],
   "source": [
    "df.tail()"
   ]
  },
  {
   "cell_type": "markdown",
   "metadata": {},
   "source": [
    "## 3. Добавляем в отдельную колонку число токенов в комменте"
   ]
  },
  {
   "cell_type": "code",
   "execution_count": 81,
   "metadata": {},
   "outputs": [],
   "source": [
    "df[\"n_tokens\"] = None"
   ]
  },
  {
   "cell_type": "code",
   "execution_count": 82,
   "metadata": {},
   "outputs": [],
   "source": [
    "# токенизировать и добавить в колонку число слов в комменте\n",
    "for i in df.index:\n",
    "    df.iloc[i, 2] = df.iloc[i, 2].replace(\".\", \". \")\n",
    "    df.iloc[i, 2] = df.iloc[i, 2].replace(\",\", \", \")\n",
    "    df.iloc[i, 2] = df.iloc[i, 2].replace(\"!\", \"! \")\n",
    "    df.iloc[i, 2] = df.iloc[i, 2].replace(\"?\", \"? \")\n",
    "    df.iloc[i, 2] = df.iloc[i, 2].replace(\"(\", \"( \")\n",
    "    df.iloc[i, 2] = df.iloc[i, 2].replace(\")\", \") \")\n",
    "    text = df.iloc[i, 2]\n",
    "    tokens = [i.strip(punct) for i in text.split() if i.strip(punct)]\n",
    "    df.iloc[i, -1] = len(tokens)"
   ]
  },
  {
   "cell_type": "code",
   "execution_count": 83,
   "metadata": {
    "scrolled": true
   },
   "outputs": [
    {
     "data": {
      "text/html": [
       "<div>\n",
       "<style scoped>\n",
       "    .dataframe tbody tr th:only-of-type {\n",
       "        vertical-align: middle;\n",
       "    }\n",
       "\n",
       "    .dataframe tbody tr th {\n",
       "        vertical-align: top;\n",
       "    }\n",
       "\n",
       "    .dataframe thead th {\n",
       "        text-align: right;\n",
       "    }\n",
       "</style>\n",
       "<table border=\"1\" class=\"dataframe\">\n",
       "  <thead>\n",
       "    <tr style=\"text-align: right;\">\n",
       "      <th></th>\n",
       "      <th>from_id</th>\n",
       "      <th>post_id</th>\n",
       "      <th>comment_text</th>\n",
       "      <th>comment_id</th>\n",
       "      <th>first_name</th>\n",
       "      <th>last_name</th>\n",
       "      <th>sex</th>\n",
       "      <th>bdate</th>\n",
       "      <th>city</th>\n",
       "      <th>n_tokens</th>\n",
       "    </tr>\n",
       "  </thead>\n",
       "  <tbody>\n",
       "    <tr>\n",
       "      <th>5189</th>\n",
       "      <td>167423223.0</td>\n",
       "      <td>3173969.0</td>\n",
       "      <td>ВОРобьев?  😊</td>\n",
       "      <td>3174084</td>\n",
       "      <td>Andrey</td>\n",
       "      <td>Motovilov</td>\n",
       "      <td>2</td>\n",
       "      <td>21.9</td>\n",
       "      <td>Tolyatti</td>\n",
       "      <td>2</td>\n",
       "    </tr>\n",
       "    <tr>\n",
       "      <th>5190</th>\n",
       "      <td>486523749.0</td>\n",
       "      <td>3173952.0</td>\n",
       "      <td>Отвалите от сына главного оборотня МВД. . . та...</td>\n",
       "      <td>3173974</td>\n",
       "      <td>Alexey</td>\n",
       "      <td>Vitoshnov</td>\n",
       "      <td>2</td>\n",
       "      <td>6.6.1986</td>\n",
       "      <td>Moscow</td>\n",
       "      <td>36</td>\n",
       "    </tr>\n",
       "    <tr>\n",
       "      <th>5191</th>\n",
       "      <td>316971518.0</td>\n",
       "      <td>3173952.0</td>\n",
       "      <td>У Собянина сыновья живут в США,  а дочь в Авст...</td>\n",
       "      <td>3174491</td>\n",
       "      <td>Nina</td>\n",
       "      <td>Kondratyeva</td>\n",
       "      <td>1</td>\n",
       "      <td>17.12.1954</td>\n",
       "      <td>Nizhny Novgorod</td>\n",
       "      <td>10</td>\n",
       "    </tr>\n",
       "    <tr>\n",
       "      <th>5192</th>\n",
       "      <td>209279951.0</td>\n",
       "      <td>3173952.0</td>\n",
       "      <td>ответ один: НИКОГДА! ! !</td>\n",
       "      <td>3174770</td>\n",
       "      <td>Amiran</td>\n",
       "      <td>Kravishvili</td>\n",
       "      <td>2</td>\n",
       "      <td>24.9.1954</td>\n",
       "      <td>Pyatigorsk</td>\n",
       "      <td>3</td>\n",
       "    </tr>\n",
       "    <tr>\n",
       "      <th>5193</th>\n",
       "      <td>110840513.0</td>\n",
       "      <td>3173883.0</td>\n",
       "      <td>НЕТ СТРАНЫ.</td>\n",
       "      <td>3173910</td>\n",
       "      <td>Mikhail</td>\n",
       "      <td>Dobromyslov</td>\n",
       "      <td>2</td>\n",
       "      <td>13.9.1960</td>\n",
       "      <td>Pudozh</td>\n",
       "      <td>2</td>\n",
       "    </tr>\n",
       "  </tbody>\n",
       "</table>\n",
       "</div>"
      ],
      "text/plain": [
       "          from_id    post_id  \\\n",
       "5189  167423223.0  3173969.0   \n",
       "5190  486523749.0  3173952.0   \n",
       "5191  316971518.0  3173952.0   \n",
       "5192  209279951.0  3173952.0   \n",
       "5193  110840513.0  3173883.0   \n",
       "\n",
       "                                           comment_text  comment_id  \\\n",
       "5189                                       ВОРобьев?  😊     3174084   \n",
       "5190  Отвалите от сына главного оборотня МВД. . . та...     3173974   \n",
       "5191  У Собянина сыновья живут в США,  а дочь в Авст...     3174491   \n",
       "5192                          ответ один: НИКОГДА! ! !      3174770   \n",
       "5193                                       НЕТ СТРАНЫ.      3173910   \n",
       "\n",
       "     first_name    last_name  sex       bdate             city  n_tokens  \n",
       "5189     Andrey    Motovilov    2        21.9         Tolyatti         2  \n",
       "5190     Alexey    Vitoshnov    2    6.6.1986           Moscow        36  \n",
       "5191       Nina  Kondratyeva    1  17.12.1954  Nizhny Novgorod        10  \n",
       "5192     Amiran  Kravishvili    2   24.9.1954       Pyatigorsk         3  \n",
       "5193    Mikhail  Dobromyslov    2   13.9.1960           Pudozh         2  "
      ]
     },
     "execution_count": 83,
     "metadata": {},
     "output_type": "execute_result"
    }
   ],
   "source": [
    "df.tail(5)"
   ]
  },
  {
   "cell_type": "markdown",
   "metadata": {},
   "source": [
    "## 4. Также добавляем колонки с числом слов, написанных капсом, и самими словами"
   ]
  },
  {
   "cell_type": "code",
   "execution_count": 84,
   "metadata": {},
   "outputs": [],
   "source": [
    "df[\"n_caps\"] = None\n",
    "df[\"caps\"] = None"
   ]
  },
  {
   "cell_type": "code",
   "execution_count": 85,
   "metadata": {},
   "outputs": [],
   "source": [
    "# добавить в колонку число слов, написанных капсом; сами эти слова\n",
    "for i in df.index:\n",
    "    text = df.iloc[i, 2]\n",
    "    tokens = [i.strip(punct) for i in text.split() if i.strip(punct)]\n",
    "    caps = [w for w in tokens if w.isupper() and len(w) > 2 and re.search(regex, w)]\n",
    "    df.iloc[i, -1] = ' '.join(caps)\n",
    "    df.iloc[i, -2] = len(caps)"
   ]
  },
  {
   "cell_type": "code",
   "execution_count": 86,
   "metadata": {
    "scrolled": false
   },
   "outputs": [
    {
     "data": {
      "text/html": [
       "<div>\n",
       "<style scoped>\n",
       "    .dataframe tbody tr th:only-of-type {\n",
       "        vertical-align: middle;\n",
       "    }\n",
       "\n",
       "    .dataframe tbody tr th {\n",
       "        vertical-align: top;\n",
       "    }\n",
       "\n",
       "    .dataframe thead th {\n",
       "        text-align: right;\n",
       "    }\n",
       "</style>\n",
       "<table border=\"1\" class=\"dataframe\">\n",
       "  <thead>\n",
       "    <tr style=\"text-align: right;\">\n",
       "      <th></th>\n",
       "      <th>from_id</th>\n",
       "      <th>post_id</th>\n",
       "      <th>comment_text</th>\n",
       "      <th>comment_id</th>\n",
       "      <th>first_name</th>\n",
       "      <th>last_name</th>\n",
       "      <th>sex</th>\n",
       "      <th>bdate</th>\n",
       "      <th>city</th>\n",
       "      <th>n_tokens</th>\n",
       "      <th>n_caps</th>\n",
       "      <th>caps</th>\n",
       "    </tr>\n",
       "  </thead>\n",
       "  <tbody>\n",
       "    <tr>\n",
       "      <th>5189</th>\n",
       "      <td>167423223.0</td>\n",
       "      <td>3173969.0</td>\n",
       "      <td>ВОРобьев?  😊</td>\n",
       "      <td>3174084</td>\n",
       "      <td>Andrey</td>\n",
       "      <td>Motovilov</td>\n",
       "      <td>2</td>\n",
       "      <td>21.9</td>\n",
       "      <td>Tolyatti</td>\n",
       "      <td>2</td>\n",
       "      <td>0</td>\n",
       "      <td></td>\n",
       "    </tr>\n",
       "    <tr>\n",
       "      <th>5190</th>\n",
       "      <td>486523749.0</td>\n",
       "      <td>3173952.0</td>\n",
       "      <td>Отвалите от сына главного оборотня МВД. . . та...</td>\n",
       "      <td>3173974</td>\n",
       "      <td>Alexey</td>\n",
       "      <td>Vitoshnov</td>\n",
       "      <td>2</td>\n",
       "      <td>6.6.1986</td>\n",
       "      <td>Moscow</td>\n",
       "      <td>36</td>\n",
       "      <td>1</td>\n",
       "      <td>МВД</td>\n",
       "    </tr>\n",
       "    <tr>\n",
       "      <th>5191</th>\n",
       "      <td>316971518.0</td>\n",
       "      <td>3173952.0</td>\n",
       "      <td>У Собянина сыновья живут в США,  а дочь в Авст...</td>\n",
       "      <td>3174491</td>\n",
       "      <td>Nina</td>\n",
       "      <td>Kondratyeva</td>\n",
       "      <td>1</td>\n",
       "      <td>17.12.1954</td>\n",
       "      <td>Nizhny Novgorod</td>\n",
       "      <td>10</td>\n",
       "      <td>1</td>\n",
       "      <td>США</td>\n",
       "    </tr>\n",
       "    <tr>\n",
       "      <th>5192</th>\n",
       "      <td>209279951.0</td>\n",
       "      <td>3173952.0</td>\n",
       "      <td>ответ один: НИКОГДА! ! !</td>\n",
       "      <td>3174770</td>\n",
       "      <td>Amiran</td>\n",
       "      <td>Kravishvili</td>\n",
       "      <td>2</td>\n",
       "      <td>24.9.1954</td>\n",
       "      <td>Pyatigorsk</td>\n",
       "      <td>3</td>\n",
       "      <td>1</td>\n",
       "      <td>НИКОГДА</td>\n",
       "    </tr>\n",
       "    <tr>\n",
       "      <th>5193</th>\n",
       "      <td>110840513.0</td>\n",
       "      <td>3173883.0</td>\n",
       "      <td>НЕТ СТРАНЫ.</td>\n",
       "      <td>3173910</td>\n",
       "      <td>Mikhail</td>\n",
       "      <td>Dobromyslov</td>\n",
       "      <td>2</td>\n",
       "      <td>13.9.1960</td>\n",
       "      <td>Pudozh</td>\n",
       "      <td>2</td>\n",
       "      <td>2</td>\n",
       "      <td>НЕТ СТРАНЫ</td>\n",
       "    </tr>\n",
       "  </tbody>\n",
       "</table>\n",
       "</div>"
      ],
      "text/plain": [
       "          from_id    post_id  \\\n",
       "5189  167423223.0  3173969.0   \n",
       "5190  486523749.0  3173952.0   \n",
       "5191  316971518.0  3173952.0   \n",
       "5192  209279951.0  3173952.0   \n",
       "5193  110840513.0  3173883.0   \n",
       "\n",
       "                                           comment_text  comment_id  \\\n",
       "5189                                       ВОРобьев?  😊     3174084   \n",
       "5190  Отвалите от сына главного оборотня МВД. . . та...     3173974   \n",
       "5191  У Собянина сыновья живут в США,  а дочь в Авст...     3174491   \n",
       "5192                          ответ один: НИКОГДА! ! !      3174770   \n",
       "5193                                       НЕТ СТРАНЫ.      3173910   \n",
       "\n",
       "     first_name    last_name  sex       bdate             city  n_tokens  \\\n",
       "5189     Andrey    Motovilov    2        21.9         Tolyatti         2   \n",
       "5190     Alexey    Vitoshnov    2    6.6.1986           Moscow        36   \n",
       "5191       Nina  Kondratyeva    1  17.12.1954  Nizhny Novgorod        10   \n",
       "5192     Amiran  Kravishvili    2   24.9.1954       Pyatigorsk         3   \n",
       "5193    Mikhail  Dobromyslov    2   13.9.1960           Pudozh         2   \n",
       "\n",
       "      n_caps        caps  \n",
       "5189       0              \n",
       "5190       1         МВД  \n",
       "5191       1         США  \n",
       "5192       1     НИКОГДА  \n",
       "5193       2  НЕТ СТРАНЫ  "
      ]
     },
     "execution_count": 86,
     "metadata": {},
     "output_type": "execute_result"
    }
   ],
   "source": [
    "df.tail()"
   ]
  },
  {
   "cell_type": "markdown",
   "metadata": {},
   "source": [
    "## 5. Удаляем посты, где не оказалось ни одного капса"
   ]
  },
  {
   "cell_type": "code",
   "execution_count": 87,
   "metadata": {},
   "outputs": [
    {
     "data": {
      "text/plain": [
       "2    3947\n",
       "1     925\n",
       "0       1\n",
       "Name: sex, dtype: int64"
      ]
     },
     "execution_count": 87,
     "metadata": {},
     "output_type": "execute_result"
    }
   ],
   "source": [
    "# удаляем посты, где не оказалось ни одного капса\n",
    "df = df[df.n_caps != 0]\n",
    "df.reset_index(drop=True, inplace=True)\n",
    "df.sex.value_counts()"
   ]
  },
  {
   "cell_type": "code",
   "execution_count": 88,
   "metadata": {},
   "outputs": [
    {
     "data": {
      "text/plain": [
       "2    3947\n",
       "1     925\n",
       "Name: sex, dtype: int64"
      ]
     },
     "execution_count": 88,
     "metadata": {},
     "output_type": "execute_result"
    }
   ],
   "source": [
    "df = df[df.sex != 0]\n",
    "df.reset_index(drop=True, inplace=True)\n",
    "df.sex.value_counts()"
   ]
  },
  {
   "cell_type": "markdown",
   "metadata": {},
   "source": [
    "## 6. Для того, чтобы анализировать не просто все, а только \"осознанные\" капслоки, создадим еще один дата-фрейм"
   ]
  },
  {
   "cell_type": "code",
   "execution_count": 89,
   "metadata": {},
   "outputs": [],
   "source": [
    "df_filtered = df.iloc[:, :-2]"
   ]
  },
  {
   "cell_type": "code",
   "execution_count": 90,
   "metadata": {},
   "outputs": [
    {
     "data": {
      "text/html": [
       "<div>\n",
       "<style scoped>\n",
       "    .dataframe tbody tr th:only-of-type {\n",
       "        vertical-align: middle;\n",
       "    }\n",
       "\n",
       "    .dataframe tbody tr th {\n",
       "        vertical-align: top;\n",
       "    }\n",
       "\n",
       "    .dataframe thead th {\n",
       "        text-align: right;\n",
       "    }\n",
       "</style>\n",
       "<table border=\"1\" class=\"dataframe\">\n",
       "  <thead>\n",
       "    <tr style=\"text-align: right;\">\n",
       "      <th></th>\n",
       "      <th>from_id</th>\n",
       "      <th>post_id</th>\n",
       "      <th>comment_text</th>\n",
       "      <th>comment_id</th>\n",
       "      <th>first_name</th>\n",
       "      <th>last_name</th>\n",
       "      <th>sex</th>\n",
       "      <th>bdate</th>\n",
       "      <th>city</th>\n",
       "      <th>n_tokens</th>\n",
       "    </tr>\n",
       "  </thead>\n",
       "  <tbody>\n",
       "    <tr>\n",
       "      <th>0</th>\n",
       "      <td>19670600.0</td>\n",
       "      <td>13.0</td>\n",
       "      <td>Трек должен называться \"Тем кто знает АУЕ\" )</td>\n",
       "      <td>1651</td>\n",
       "      <td>Vladimir</td>\n",
       "      <td>Kolyaskin</td>\n",
       "      <td>2</td>\n",
       "      <td>31.10</td>\n",
       "      <td>Port-au-Prince</td>\n",
       "      <td>7</td>\n",
       "    </tr>\n",
       "    <tr>\n",
       "      <th>1</th>\n",
       "      <td>1625187.0</td>\n",
       "      <td>13.0</td>\n",
       "      <td>трек \"РУСЗМ\" (  родина умыта слезами зеков и м...</td>\n",
       "      <td>396</td>\n",
       "      <td>Sergey</td>\n",
       "      <td>Kostyrev</td>\n",
       "      <td>2</td>\n",
       "      <td>30.1.1987</td>\n",
       "      <td>Blagoveschensk</td>\n",
       "      <td>8</td>\n",
       "    </tr>\n",
       "    <tr>\n",
       "      <th>2</th>\n",
       "      <td>49407875.0</td>\n",
       "      <td>22.0</td>\n",
       "      <td>ДНЕВНИК ХАЧА</td>\n",
       "      <td>247</td>\n",
       "      <td>Timofey</td>\n",
       "      <td>Ezhov</td>\n",
       "      <td>2</td>\n",
       "      <td>14.10</td>\n",
       "      <td>Moscow</td>\n",
       "      <td>2</td>\n",
       "    </tr>\n",
       "    <tr>\n",
       "      <th>3</th>\n",
       "      <td>423900905.0</td>\n",
       "      <td>22.0</td>\n",
       "      <td>Планируется открытие нового канала \" Журнал ЧУ...</td>\n",
       "      <td>2768</td>\n",
       "      <td>Svetlana</td>\n",
       "      <td>Mironova</td>\n",
       "      <td>1</td>\n",
       "      <td>6.5.1994</td>\n",
       "      <td>Moscow</td>\n",
       "      <td>6</td>\n",
       "    </tr>\n",
       "    <tr>\n",
       "      <th>4</th>\n",
       "      <td>312160075.0</td>\n",
       "      <td>28.0</td>\n",
       "      <td>Как же жалок Соболев,  на фоне более сильной л...</td>\n",
       "      <td>2471</td>\n",
       "      <td>Anastasia</td>\n",
       "      <td>Smirnova</td>\n",
       "      <td>1</td>\n",
       "      <td>27.10.1997</td>\n",
       "      <td>Obninsk</td>\n",
       "      <td>36</td>\n",
       "    </tr>\n",
       "  </tbody>\n",
       "</table>\n",
       "</div>"
      ],
      "text/plain": [
       "       from_id  post_id                                       comment_text  \\\n",
       "0   19670600.0     13.0      Трек должен называться \"Тем кто знает АУЕ\" )    \n",
       "1    1625187.0     13.0  трек \"РУСЗМ\" (  родина умыта слезами зеков и м...   \n",
       "2   49407875.0     22.0                                       ДНЕВНИК ХАЧА   \n",
       "3  423900905.0     22.0  Планируется открытие нового канала \" Журнал ЧУ...   \n",
       "4  312160075.0     28.0  Как же жалок Соболев,  на фоне более сильной л...   \n",
       "\n",
       "   comment_id first_name  last_name  sex       bdate            city  n_tokens  \n",
       "0        1651   Vladimir  Kolyaskin    2       31.10  Port-au-Prince         7  \n",
       "1         396     Sergey   Kostyrev    2   30.1.1987  Blagoveschensk         8  \n",
       "2         247    Timofey      Ezhov    2       14.10          Moscow         2  \n",
       "3        2768   Svetlana   Mironova    1    6.5.1994          Moscow         6  \n",
       "4        2471  Anastasia   Smirnova    1  27.10.1997         Obninsk        36  "
      ]
     },
     "execution_count": 90,
     "metadata": {},
     "output_type": "execute_result"
    }
   ],
   "source": [
    "df_filtered.head()"
   ]
  },
  {
   "cell_type": "markdown",
   "metadata": {},
   "source": [
    "## 7. Создадим список всех токенов и рассчитаем для каждого слова, написанного капслоком, метрику, на основе нашего маленького корпуса: \n",
    "_слово написано капсом / (слово написано капсом + слово написано не капсом)_"
   ]
  },
  {
   "cell_type": "code",
   "execution_count": 91,
   "metadata": {},
   "outputs": [],
   "source": [
    "all_text = [df.iloc[i, 2] for i in df.index]\n",
    "all_tokens = [[i.strip(punct) for i in text.split() if i.strip(punct)] for text in all_text]\n",
    "all_tokens_flat = list(itertools.chain.from_iterable(all_tokens))\n",
    "caps = [i for i in all_tokens_flat if i.isupper()]"
   ]
  },
  {
   "cell_type": "code",
   "execution_count": 92,
   "metadata": {},
   "outputs": [
    {
     "data": {
      "text/plain": [
       "186640"
      ]
     },
     "execution_count": 92,
     "metadata": {},
     "output_type": "execute_result"
    }
   ],
   "source": [
    "len(all_tokens_flat)"
   ]
  },
  {
   "cell_type": "code",
   "execution_count": 28,
   "metadata": {},
   "outputs": [],
   "source": [
    "caps_dict = {i:[] for i in caps}"
   ]
  },
  {
   "cell_type": "code",
   "execution_count": 29,
   "metadata": {},
   "outputs": [],
   "source": [
    "for word in caps_dict.keys():\n",
    "    upper_count = all_tokens_flat.count(word)\n",
    "    lower_count = all_tokens_flat.count(word.lower())\n",
    "    total_count = upper_count + lower_count\n",
    "    metrics = upper_count / total_count\n",
    "    caps_dict[word] = [metrics, total_count]"
   ]
  },
  {
   "cell_type": "code",
   "execution_count": 30,
   "metadata": {
    "scrolled": true
   },
   "outputs": [
    {
     "data": {
      "text/plain": [
       "[1.0, 15]"
      ]
     },
     "execution_count": 30,
     "metadata": {},
     "output_type": "execute_result"
    }
   ],
   "source": [
    "caps_dict[\"ЛЫСЫЙ\"]"
   ]
  },
  {
   "cell_type": "markdown",
   "metadata": {},
   "source": [
    "Это означает, что слово \"ЛЫСЫЙ\" встречается в корпусе 15 раз и все разы - с капсом. Странно, правда? Наверное, у меня очень маленький корпус."
   ]
  },
  {
   "cell_type": "code",
   "execution_count": 31,
   "metadata": {
    "scrolled": true
   },
   "outputs": [
    {
     "data": {
      "text/plain": [
       "[0.8888888888888888, 9]"
      ]
     },
     "execution_count": 31,
     "metadata": {},
     "output_type": "execute_result"
    }
   ],
   "source": [
    "caps_dict[\"АНТИХАЙП\"]"
   ]
  },
  {
   "cell_type": "markdown",
   "metadata": {},
   "source": [
    "И антихайп..."
   ]
  },
  {
   "cell_type": "code",
   "execution_count": 32,
   "metadata": {},
   "outputs": [
    {
     "data": {
      "text/plain": [
       "[0.9142857142857143, 35]"
      ]
     },
     "execution_count": 32,
     "metadata": {},
     "output_type": "execute_result"
    }
   ],
   "source": [
    "caps_dict[\"ИМХО\"]"
   ]
  },
  {
   "cell_type": "markdown",
   "metadata": {},
   "source": [
    "А вот это ожидаемо. "
   ]
  },
  {
   "cell_type": "markdown",
   "metadata": {},
   "source": [
    "## 8. Нужно как-то отсеять слова, которые осознанно пишутся капслоком. Я взяла высокий порог 0.85 (поскольку маленький корпус) и затем отредактировала списки слов глазами, рукодоствуясь здравым смыслом. "
   ]
  },
  {
   "cell_type": "code",
   "execution_count": 33,
   "metadata": {},
   "outputs": [],
   "source": [
    "meaningful_caps = []\n",
    "usual_caps = []\n",
    "the_rest = []\n",
    "\n",
    "for k, v in caps_dict.items():\n",
    "    if v[1] > 4 and v[0] < 0.85:\n",
    "        meaningful_caps.append(k)\n",
    "    elif v[1] > 4 and v[0] > 0.85:\n",
    "        usual_caps.append(k)\n",
    "    else:\n",
    "        the_rest.append(k)"
   ]
  },
  {
   "cell_type": "code",
   "execution_count": 34,
   "metadata": {},
   "outputs": [],
   "source": [
    "with open(\"meaningful_caps.txt\", \"w\", encoding = \"UTF-8\") as f:\n",
    "    for i in meaningful_caps:\n",
    "        f.write(i + \"\\n\")"
   ]
  },
  {
   "cell_type": "code",
   "execution_count": 35,
   "metadata": {},
   "outputs": [],
   "source": [
    "with open(\"usual_caps.txt\", \"w\", encoding = \"UTF-8\") as f:\n",
    "    for i in usual_caps:\n",
    "        f.write(i + \"\\n\")"
   ]
  },
  {
   "cell_type": "code",
   "execution_count": 36,
   "metadata": {},
   "outputs": [],
   "source": [
    "with open(\"the_rest.txt\", \"w\", encoding = \"UTF-8\") as f:\n",
    "    for i in the_rest:\n",
    "        f.write(i + \"\\n\")"
   ]
  },
  {
   "cell_type": "markdown",
   "metadata": {},
   "source": [
    "## 9. Читаем получившийся файл и используем его, чтобы создать колонки в датафрейме, аналогичные тому, что выше, но только для \"осознанного\" капслока"
   ]
  },
  {
   "cell_type": "code",
   "execution_count": 93,
   "metadata": {},
   "outputs": [],
   "source": [
    "with open(\"meaningful_caps.txt\", \"r\", encoding = \"UTF-8\") as f:\n",
    "    f = f.readlines()\n",
    "meaningful_caps = [i.strip() for i in f]\n",
    "meaningful_caps = [i for i in meaningful_caps if len(i) > 2 and re.search(regex, i)]\n",
    "meaningful_caps = list(set(meaningful_caps))"
   ]
  },
  {
   "cell_type": "code",
   "execution_count": 94,
   "metadata": {
    "scrolled": true
   },
   "outputs": [
    {
     "data": {
      "text/plain": [
       "3923"
      ]
     },
     "execution_count": 94,
     "metadata": {},
     "output_type": "execute_result"
    }
   ],
   "source": [
    "len(meaningful_caps)"
   ]
  },
  {
   "cell_type": "code",
   "execution_count": 95,
   "metadata": {},
   "outputs": [
    {
     "data": {
      "text/plain": [
       "['НЕВЗОРИШКА',\n",
       " 'НИХУЯ',\n",
       " 'БОГ',\n",
       " 'КРИД',\n",
       " 'ЕВРО',\n",
       " 'КАМЕДИИ',\n",
       " 'ДОКОЛЕ',\n",
       " 'АЙФОНЧИК',\n",
       " 'КАЙФ',\n",
       " 'ЧУДЕСНАЯ']"
      ]
     },
     "execution_count": 95,
     "metadata": {},
     "output_type": "execute_result"
    }
   ],
   "source": [
    "meaningful_caps[:10]"
   ]
  },
  {
   "cell_type": "code",
   "execution_count": 97,
   "metadata": {},
   "outputs": [
    {
     "data": {
      "text/html": [
       "<div>\n",
       "<style scoped>\n",
       "    .dataframe tbody tr th:only-of-type {\n",
       "        vertical-align: middle;\n",
       "    }\n",
       "\n",
       "    .dataframe tbody tr th {\n",
       "        vertical-align: top;\n",
       "    }\n",
       "\n",
       "    .dataframe thead th {\n",
       "        text-align: right;\n",
       "    }\n",
       "</style>\n",
       "<table border=\"1\" class=\"dataframe\">\n",
       "  <thead>\n",
       "    <tr style=\"text-align: right;\">\n",
       "      <th></th>\n",
       "      <th>from_id</th>\n",
       "      <th>post_id</th>\n",
       "      <th>comment_text</th>\n",
       "      <th>comment_id</th>\n",
       "      <th>first_name</th>\n",
       "      <th>last_name</th>\n",
       "      <th>sex</th>\n",
       "      <th>bdate</th>\n",
       "      <th>city</th>\n",
       "      <th>n_tokens</th>\n",
       "    </tr>\n",
       "  </thead>\n",
       "  <tbody>\n",
       "    <tr>\n",
       "      <th>4867</th>\n",
       "      <td>307041317.0</td>\n",
       "      <td>3173979.0</td>\n",
       "      <td>конечно!  Очень выгодно взять деньги из эконом...</td>\n",
       "      <td>3174194</td>\n",
       "      <td>Evgeny</td>\n",
       "      <td>Printsev</td>\n",
       "      <td>2</td>\n",
       "      <td>29.7.1972</td>\n",
       "      <td>Kemerovo</td>\n",
       "      <td>18</td>\n",
       "    </tr>\n",
       "    <tr>\n",
       "      <th>4868</th>\n",
       "      <td>486523749.0</td>\n",
       "      <td>3173952.0</td>\n",
       "      <td>Отвалите от сына главного оборотня МВД. . . та...</td>\n",
       "      <td>3173974</td>\n",
       "      <td>Alexey</td>\n",
       "      <td>Vitoshnov</td>\n",
       "      <td>2</td>\n",
       "      <td>6.6.1986</td>\n",
       "      <td>Moscow</td>\n",
       "      <td>36</td>\n",
       "    </tr>\n",
       "    <tr>\n",
       "      <th>4869</th>\n",
       "      <td>316971518.0</td>\n",
       "      <td>3173952.0</td>\n",
       "      <td>У Собянина сыновья живут в США,  а дочь в Авст...</td>\n",
       "      <td>3174491</td>\n",
       "      <td>Nina</td>\n",
       "      <td>Kondratyeva</td>\n",
       "      <td>1</td>\n",
       "      <td>17.12.1954</td>\n",
       "      <td>Nizhny Novgorod</td>\n",
       "      <td>10</td>\n",
       "    </tr>\n",
       "    <tr>\n",
       "      <th>4870</th>\n",
       "      <td>209279951.0</td>\n",
       "      <td>3173952.0</td>\n",
       "      <td>ответ один: НИКОГДА! ! !</td>\n",
       "      <td>3174770</td>\n",
       "      <td>Amiran</td>\n",
       "      <td>Kravishvili</td>\n",
       "      <td>2</td>\n",
       "      <td>24.9.1954</td>\n",
       "      <td>Pyatigorsk</td>\n",
       "      <td>3</td>\n",
       "    </tr>\n",
       "    <tr>\n",
       "      <th>4871</th>\n",
       "      <td>110840513.0</td>\n",
       "      <td>3173883.0</td>\n",
       "      <td>НЕТ СТРАНЫ.</td>\n",
       "      <td>3173910</td>\n",
       "      <td>Mikhail</td>\n",
       "      <td>Dobromyslov</td>\n",
       "      <td>2</td>\n",
       "      <td>13.9.1960</td>\n",
       "      <td>Pudozh</td>\n",
       "      <td>2</td>\n",
       "    </tr>\n",
       "  </tbody>\n",
       "</table>\n",
       "</div>"
      ],
      "text/plain": [
       "          from_id    post_id  \\\n",
       "4867  307041317.0  3173979.0   \n",
       "4868  486523749.0  3173952.0   \n",
       "4869  316971518.0  3173952.0   \n",
       "4870  209279951.0  3173952.0   \n",
       "4871  110840513.0  3173883.0   \n",
       "\n",
       "                                           comment_text  comment_id  \\\n",
       "4867  конечно!  Очень выгодно взять деньги из эконом...     3174194   \n",
       "4868  Отвалите от сына главного оборотня МВД. . . та...     3173974   \n",
       "4869  У Собянина сыновья живут в США,  а дочь в Авст...     3174491   \n",
       "4870                          ответ один: НИКОГДА! ! !      3174770   \n",
       "4871                                       НЕТ СТРАНЫ.      3173910   \n",
       "\n",
       "     first_name    last_name  sex       bdate             city  n_tokens  \n",
       "4867     Evgeny     Printsev    2   29.7.1972         Kemerovo        18  \n",
       "4868     Alexey    Vitoshnov    2    6.6.1986           Moscow        36  \n",
       "4869       Nina  Kondratyeva    1  17.12.1954  Nizhny Novgorod        10  \n",
       "4870     Amiran  Kravishvili    2   24.9.1954       Pyatigorsk         3  \n",
       "4871    Mikhail  Dobromyslov    2   13.9.1960           Pudozh         2  "
      ]
     },
     "execution_count": 97,
     "metadata": {},
     "output_type": "execute_result"
    }
   ],
   "source": [
    "# вернемся к датафрейму\n",
    "df_filtered.tail()"
   ]
  },
  {
   "cell_type": "code",
   "execution_count": 98,
   "metadata": {},
   "outputs": [],
   "source": [
    "df_filtered[\"n_caps\"] = None\n",
    "df_filtered[\"caps\"] = None"
   ]
  },
  {
   "cell_type": "code",
   "execution_count": 99,
   "metadata": {},
   "outputs": [],
   "source": [
    "# добавить в колонку число слов, написанных капсом; сами эти слова\n",
    "for i in df_filtered.index:\n",
    "    text = df_filtered.iloc[i, 2]\n",
    "    tokens = [i.strip(punct) for i in text.split() if i.strip(punct)]\n",
    "    caps = [w for w in tokens if w.isupper() and w in meaningful_caps]\n",
    "    df_filtered.iloc[i, -1] = ' '.join(caps)\n",
    "    df_filtered.iloc[i, -2] = len(caps)"
   ]
  },
  {
   "cell_type": "code",
   "execution_count": 100,
   "metadata": {
    "scrolled": true
   },
   "outputs": [
    {
     "data": {
      "text/html": [
       "<div>\n",
       "<style scoped>\n",
       "    .dataframe tbody tr th:only-of-type {\n",
       "        vertical-align: middle;\n",
       "    }\n",
       "\n",
       "    .dataframe tbody tr th {\n",
       "        vertical-align: top;\n",
       "    }\n",
       "\n",
       "    .dataframe thead th {\n",
       "        text-align: right;\n",
       "    }\n",
       "</style>\n",
       "<table border=\"1\" class=\"dataframe\">\n",
       "  <thead>\n",
       "    <tr style=\"text-align: right;\">\n",
       "      <th></th>\n",
       "      <th>from_id</th>\n",
       "      <th>post_id</th>\n",
       "      <th>comment_text</th>\n",
       "      <th>comment_id</th>\n",
       "      <th>first_name</th>\n",
       "      <th>last_name</th>\n",
       "      <th>sex</th>\n",
       "      <th>bdate</th>\n",
       "      <th>city</th>\n",
       "      <th>n_tokens</th>\n",
       "      <th>n_caps</th>\n",
       "      <th>caps</th>\n",
       "    </tr>\n",
       "  </thead>\n",
       "  <tbody>\n",
       "    <tr>\n",
       "      <th>0</th>\n",
       "      <td>19670600.0</td>\n",
       "      <td>13.0</td>\n",
       "      <td>Трек должен называться \"Тем кто знает АУЕ\" )</td>\n",
       "      <td>1651</td>\n",
       "      <td>Vladimir</td>\n",
       "      <td>Kolyaskin</td>\n",
       "      <td>2</td>\n",
       "      <td>31.10</td>\n",
       "      <td>Port-au-Prince</td>\n",
       "      <td>7</td>\n",
       "      <td>0</td>\n",
       "      <td></td>\n",
       "    </tr>\n",
       "    <tr>\n",
       "      <th>1</th>\n",
       "      <td>1625187.0</td>\n",
       "      <td>13.0</td>\n",
       "      <td>трек \"РУСЗМ\" (  родина умыта слезами зеков и м...</td>\n",
       "      <td>396</td>\n",
       "      <td>Sergey</td>\n",
       "      <td>Kostyrev</td>\n",
       "      <td>2</td>\n",
       "      <td>30.1.1987</td>\n",
       "      <td>Blagoveschensk</td>\n",
       "      <td>8</td>\n",
       "      <td>1</td>\n",
       "      <td>РУСЗМ</td>\n",
       "    </tr>\n",
       "    <tr>\n",
       "      <th>2</th>\n",
       "      <td>49407875.0</td>\n",
       "      <td>22.0</td>\n",
       "      <td>ДНЕВНИК ХАЧА</td>\n",
       "      <td>247</td>\n",
       "      <td>Timofey</td>\n",
       "      <td>Ezhov</td>\n",
       "      <td>2</td>\n",
       "      <td>14.10</td>\n",
       "      <td>Moscow</td>\n",
       "      <td>2</td>\n",
       "      <td>2</td>\n",
       "      <td>ДНЕВНИК ХАЧА</td>\n",
       "    </tr>\n",
       "    <tr>\n",
       "      <th>3</th>\n",
       "      <td>423900905.0</td>\n",
       "      <td>22.0</td>\n",
       "      <td>Планируется открытие нового канала \" Журнал ЧУ...</td>\n",
       "      <td>2768</td>\n",
       "      <td>Svetlana</td>\n",
       "      <td>Mironova</td>\n",
       "      <td>1</td>\n",
       "      <td>6.5.1994</td>\n",
       "      <td>Moscow</td>\n",
       "      <td>6</td>\n",
       "      <td>1</td>\n",
       "      <td>ЧУРКИ</td>\n",
       "    </tr>\n",
       "    <tr>\n",
       "      <th>4</th>\n",
       "      <td>312160075.0</td>\n",
       "      <td>28.0</td>\n",
       "      <td>Как же жалок Соболев,  на фоне более сильной л...</td>\n",
       "      <td>2471</td>\n",
       "      <td>Anastasia</td>\n",
       "      <td>Smirnova</td>\n",
       "      <td>1</td>\n",
       "      <td>27.10.1997</td>\n",
       "      <td>Obninsk</td>\n",
       "      <td>36</td>\n",
       "      <td>1</td>\n",
       "      <td>КАЖДОМУ</td>\n",
       "    </tr>\n",
       "  </tbody>\n",
       "</table>\n",
       "</div>"
      ],
      "text/plain": [
       "       from_id  post_id                                       comment_text  \\\n",
       "0   19670600.0     13.0      Трек должен называться \"Тем кто знает АУЕ\" )    \n",
       "1    1625187.0     13.0  трек \"РУСЗМ\" (  родина умыта слезами зеков и м...   \n",
       "2   49407875.0     22.0                                       ДНЕВНИК ХАЧА   \n",
       "3  423900905.0     22.0  Планируется открытие нового канала \" Журнал ЧУ...   \n",
       "4  312160075.0     28.0  Как же жалок Соболев,  на фоне более сильной л...   \n",
       "\n",
       "   comment_id first_name  last_name  sex       bdate            city  \\\n",
       "0        1651   Vladimir  Kolyaskin    2       31.10  Port-au-Prince   \n",
       "1         396     Sergey   Kostyrev    2   30.1.1987  Blagoveschensk   \n",
       "2         247    Timofey      Ezhov    2       14.10          Moscow   \n",
       "3        2768   Svetlana   Mironova    1    6.5.1994          Moscow   \n",
       "4        2471  Anastasia   Smirnova    1  27.10.1997         Obninsk   \n",
       "\n",
       "   n_tokens  n_caps          caps  \n",
       "0         7       0                \n",
       "1         8       1         РУСЗМ  \n",
       "2         2       2  ДНЕВНИК ХАЧА  \n",
       "3         6       1         ЧУРКИ  \n",
       "4        36       1       КАЖДОМУ  "
      ]
     },
     "execution_count": 100,
     "metadata": {},
     "output_type": "execute_result"
    }
   ],
   "source": [
    "df_filtered.head()"
   ]
  },
  {
   "cell_type": "code",
   "execution_count": 101,
   "metadata": {},
   "outputs": [
    {
     "data": {
      "text/plain": [
       "'ДНЕВНИК ХАЧА'"
      ]
     },
     "execution_count": 101,
     "metadata": {},
     "output_type": "execute_result"
    }
   ],
   "source": [
    "df_filtered.comment_text[2]"
   ]
  },
  {
   "cell_type": "code",
   "execution_count": 102,
   "metadata": {},
   "outputs": [
    {
     "data": {
      "text/plain": [
       "2    2044\n",
       "1     522\n",
       "Name: sex, dtype: int64"
      ]
     },
     "execution_count": 102,
     "metadata": {},
     "output_type": "execute_result"
    }
   ],
   "source": [
    "df_filtered = df_filtered[df_filtered.n_caps != 0]\n",
    "df_filtered.reset_index(drop=True, inplace=True)\n",
    "df_filtered.sex.value_counts()"
   ]
  },
  {
   "cell_type": "markdown",
   "metadata": {},
   "source": [
    "Получилось почти в 2 раза меньше наблюдений. "
   ]
  },
  {
   "cell_type": "markdown",
   "metadata": {},
   "source": [
    "## 10. Сохраняем итоговые результаты в файлы"
   ]
  },
  {
   "cell_type": "code",
   "execution_count": 103,
   "metadata": {},
   "outputs": [],
   "source": [
    "df.to_csv(\"capitalization.csv\", index=False)\n",
    "df_filtered.to_csv(\"meaningful-capitalization.csv\", index=False)"
   ]
  },
  {
   "cell_type": "code",
   "execution_count": null,
   "metadata": {},
   "outputs": [],
   "source": []
  }
 ],
 "metadata": {
  "kernelspec": {
   "display_name": "Python 3",
   "language": "python",
   "name": "python3"
  },
  "language_info": {
   "codemirror_mode": {
    "name": "ipython",
    "version": 3
   },
   "file_extension": ".py",
   "mimetype": "text/x-python",
   "name": "python",
   "nbconvert_exporter": "python",
   "pygments_lexer": "ipython3",
   "version": "3.7.3"
  }
 },
 "nbformat": 4,
 "nbformat_minor": 2
}
